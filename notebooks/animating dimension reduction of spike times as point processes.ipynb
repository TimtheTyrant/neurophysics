{
 "cells": [
  {
   "cell_type": "markdown",
   "metadata": {},
   "source": [
    "# animating dimension reduction of spike times as point processes\n",
    "Tim Tyree<br>\n",
    "2.20.2021"
   ]
  },
  {
   "cell_type": "code",
   "execution_count": 23,
   "metadata": {
    "ExecuteTime": {
     "end_time": "2021-02-21T03:00:37.122399Z",
     "start_time": "2021-02-21T03:00:37.119858Z"
    }
   },
   "outputs": [],
   "source": [
    "#automate the boring stuff\n",
    "from lib.getterdone import *"
   ]
  },
  {
   "cell_type": "code",
   "execution_count": 24,
   "metadata": {
    "ExecuteTime": {
     "end_time": "2021-02-21T03:00:37.836432Z",
     "start_time": "2021-02-21T03:00:37.833830Z"
    }
   },
   "outputs": [],
   "source": [
    "# from lib import *"
   ]
  },
  {
   "cell_type": "code",
   "execution_count": 42,
   "metadata": {
    "ExecuteTime": {
     "end_time": "2021-02-21T03:05:54.010145Z",
     "start_time": "2021-02-21T03:05:54.007780Z"
    }
   },
   "outputs": [],
   "source": [
    "#search_for_filename\n",
    "# input_file_name=search_for_file()\n",
    "#manual data has an ugly dtype\n",
    "# input_file_name='/Users/timothytyree/Documents/GitHub/neurophysics/notebooks/Data/SRT_CollabData/SortedData_Manual/catTempPopStorage_full.mat'\n",
    "#early autogen data\n",
    "input_file_name='/Users/timothytyree/Documents/GitHub/neurophysics/notebooks/Data/SRT_CollabData/SortedData_AutoGen/Archie_SRT_Set226_subset1_201020_142509_UnitStorage.mat'"
   ]
  },
  {
   "cell_type": "code",
   "execution_count": 45,
   "metadata": {
    "ExecuteTime": {
     "end_time": "2021-02-21T03:06:03.150150Z",
     "start_time": "2021-02-21T03:06:03.148083Z"
    }
   },
   "outputs": [],
   "source": [
    "# import scipy.io as sio\n",
    "# mat_contents = sio.loadmat(input_file_name)\n",
    "# sorted(mat_contents.keys())"
   ]
  },
  {
   "cell_type": "code",
   "execution_count": 82,
   "metadata": {
    "ExecuteTime": {
     "end_time": "2021-02-21T03:13:47.580591Z",
     "start_time": "2021-02-21T03:13:47.557532Z"
    }
   },
   "outputs": [
    {
     "name": "stdout",
     "output_type": "stream",
     "text": [
      "<HDF5 dataset \"spikeTimes\": shape (195, 1), type \"|O\">\n"
     ]
    },
    {
     "ename": "TypeError",
     "evalue": "only integer scalar arrays can be converted to a scalar index",
     "output_type": "error",
     "traceback": [
      "\u001b[0;31m---------------------------------------------------------------------------\u001b[0m",
      "\u001b[0;31mTypeError\u001b[0m                                 Traceback (most recent call last)",
      "\u001b[0;32m<ipython-input-82-51743ad86df5>\u001b[0m in \u001b[0;36m<module>\u001b[0;34m\u001b[0m\n\u001b[1;32m      9\u001b[0m     \u001b[0;31m#     print(mat.__dir__())#.keys())\u001b[0m\u001b[0;34m\u001b[0m\u001b[0;34m\u001b[0m\u001b[0;34m\u001b[0m\u001b[0m\n\u001b[1;32m     10\u001b[0m \u001b[0;31m#     print(mat.popitem['chunks'])\u001b[0m\u001b[0;34m\u001b[0m\u001b[0;34m\u001b[0m\u001b[0;34m\u001b[0m\u001b[0m\n\u001b[0;32m---> 11\u001b[0;31m     \u001b[0mstr1\u001b[0m \u001b[0;34m=\u001b[0m \u001b[0;34m''\u001b[0m\u001b[0;34m.\u001b[0m\u001b[0mjoin\u001b[0m\u001b[0;34m(\u001b[0m\u001b[0mchr\u001b[0m\u001b[0;34m(\u001b[0m\u001b[0mi\u001b[0m\u001b[0;34m)\u001b[0m \u001b[0;32mfor\u001b[0m \u001b[0mi\u001b[0m \u001b[0;32min\u001b[0m \u001b[0mobj\u001b[0m\u001b[0;34m)\u001b[0m\u001b[0;34m\u001b[0m\u001b[0;34m\u001b[0m\u001b[0m\n\u001b[0m\u001b[1;32m     12\u001b[0m     \u001b[0mprint\u001b[0m\u001b[0;34m(\u001b[0m \u001b[0mstr1\u001b[0m \u001b[0;34m)\u001b[0m\u001b[0;34m\u001b[0m\u001b[0;34m\u001b[0m\u001b[0m\n",
      "\u001b[0;32m<ipython-input-82-51743ad86df5>\u001b[0m in \u001b[0;36m<genexpr>\u001b[0;34m(.0)\u001b[0m\n\u001b[1;32m      9\u001b[0m     \u001b[0;31m#     print(mat.__dir__())#.keys())\u001b[0m\u001b[0;34m\u001b[0m\u001b[0;34m\u001b[0m\u001b[0;34m\u001b[0m\u001b[0m\n\u001b[1;32m     10\u001b[0m \u001b[0;31m#     print(mat.popitem['chunks'])\u001b[0m\u001b[0;34m\u001b[0m\u001b[0;34m\u001b[0m\u001b[0;34m\u001b[0m\u001b[0m\n\u001b[0;32m---> 11\u001b[0;31m     \u001b[0mstr1\u001b[0m \u001b[0;34m=\u001b[0m \u001b[0;34m''\u001b[0m\u001b[0;34m.\u001b[0m\u001b[0mjoin\u001b[0m\u001b[0;34m(\u001b[0m\u001b[0mchr\u001b[0m\u001b[0;34m(\u001b[0m\u001b[0mi\u001b[0m\u001b[0;34m)\u001b[0m \u001b[0;32mfor\u001b[0m \u001b[0mi\u001b[0m \u001b[0;32min\u001b[0m \u001b[0mobj\u001b[0m\u001b[0;34m)\u001b[0m\u001b[0;34m\u001b[0m\u001b[0;34m\u001b[0m\u001b[0m\n\u001b[0m\u001b[1;32m     12\u001b[0m     \u001b[0mprint\u001b[0m\u001b[0;34m(\u001b[0m \u001b[0mstr1\u001b[0m \u001b[0;34m)\u001b[0m\u001b[0;34m\u001b[0m\u001b[0;34m\u001b[0m\u001b[0m\n",
      "\u001b[0;31mTypeError\u001b[0m: only integer scalar arrays can be converted to a scalar index"
     ]
    }
   ],
   "source": [
    "# #TODO: import mike's .mat file\n",
    "import h5py\n",
    "field_lst=['chanNum', 'featSpace', 'spikeInds', 'spikeTimes', 'trialFR', 'trialPSTH', 'trialSpks', 'wvfrms']\n",
    "with h5py.File(input_file_name, 'r') as f:\n",
    "#     print(f.keys())\n",
    "#     print(mat:=f['SRTunitStorage'].keys())#.fletcher32)#.items())#__dir__())\n",
    "    print(obj:=f['SRTunitStorage']['spikeTimes'])\n",
    "    #     mat=f['categoricalPopStorage']\n",
    "    #     print(mat.__dir__())#.keys())\n",
    "#     print(mat.popitem['chunks'])\n",
    "    str1 = ''.join(chr(i) for i in obj)\n",
    "    print( str1 )\n"
   ]
  },
  {
   "cell_type": "code",
   "execution_count": 83,
   "metadata": {
    "ExecuteTime": {
     "end_time": "2021-02-21T03:13:51.804898Z",
     "start_time": "2021-02-21T03:13:51.800752Z"
    }
   },
   "outputs": [
    {
     "ename": "SyntaxError",
     "evalue": "invalid syntax (<ipython-input-83-bcdfa369c6ec>, line 1)",
     "output_type": "error",
     "traceback": [
      "\u001b[0;36m  File \u001b[0;32m\"<ipython-input-83-bcdfa369c6ec>\"\u001b[0;36m, line \u001b[0;32m1\u001b[0m\n\u001b[0;31m    mat.\u001b[0m\n\u001b[0m        ^\u001b[0m\n\u001b[0;31mSyntaxError\u001b[0m\u001b[0;31m:\u001b[0m invalid syntax\n"
     ]
    }
   ],
   "source": [
    "mat."
   ]
  },
  {
   "cell_type": "code",
   "execution_count": 84,
   "metadata": {
    "ExecuteTime": {
     "end_time": "2021-02-21T03:13:53.852926Z",
     "start_time": "2021-02-21T03:13:53.850953Z"
    }
   },
   "outputs": [],
   "source": [
    "# #represent spiketime trial as a point process in terms of an l x m x n numpy array\n"
   ]
  },
  {
   "cell_type": "code",
   "execution_count": 85,
   "metadata": {
    "ExecuteTime": {
     "end_time": "2021-02-21T03:17:22.773463Z",
     "start_time": "2021-02-21T03:13:54.348908Z"
    }
   },
   "outputs": [],
   "source": [
    "#TODO: naïve eigenvalue decomposition of ^that\n",
    "\n",
    "import mat73\n",
    "data_dict = mat73.loadmat(input_file_name)"
   ]
  },
  {
   "cell_type": "code",
   "execution_count": 20,
   "metadata": {
    "ExecuteTime": {
     "end_time": "2021-02-21T02:59:27.456240Z",
     "start_time": "2021-02-21T02:59:25.305605Z"
    }
   },
   "outputs": [
    {
     "name": "stdout",
     "output_type": "stream",
     "text": [
      "Collecting hdf5storage\n",
      "  Using cached hdf5storage-0.1.15-py2.py3-none-any.whl (56 kB)\n",
      "Requirement already satisfied: numpy in /usr/local/lib/python3.8/site-packages (from hdf5storage) (1.19.0)\n",
      "Requirement already satisfied: h5py>=2.1 in /usr/local/lib/python3.8/site-packages (from hdf5storage) (2.10.0)\n",
      "Requirement already satisfied: six in /usr/local/lib/python3.8/site-packages (from h5py>=2.1->hdf5storage) (1.15.0)\n",
      "Installing collected packages: hdf5storage\n",
      "Successfully installed hdf5storage-0.1.15\n"
     ]
    }
   ],
   "source": [
    "# !pip install mat73\n",
    "# !pip install hdf5storage\n"
   ]
  },
  {
   "cell_type": "code",
   "execution_count": 22,
   "metadata": {
    "ExecuteTime": {
     "end_time": "2021-02-21T03:00:34.006662Z",
     "start_time": "2021-02-21T02:59:33.656330Z"
    }
   },
   "outputs": [],
   "source": [
    "#TODO: animate a umap with the number of neighbors \\propto time\n",
    "import hdf5storage\n",
    "mat = hdf5storage.loadmat(input_file_name)\n"
   ]
  },
  {
   "cell_type": "code",
   "execution_count": null,
   "metadata": {},
   "outputs": [],
   "source": []
  },
  {
   "cell_type": "code",
   "execution_count": null,
   "metadata": {},
   "outputs": [],
   "source": []
  }
 ],
 "metadata": {
  "kernelspec": {
   "display_name": "Python 3",
   "language": "python",
   "name": "python3"
  },
  "language_info": {
   "codemirror_mode": {
    "name": "ipython",
    "version": 3
   },
   "file_extension": ".py",
   "mimetype": "text/x-python",
   "name": "python",
   "nbconvert_exporter": "python",
   "pygments_lexer": "ipython3",
   "version": "3.8.7"
  },
  "varInspector": {
   "cols": {
    "lenName": 16,
    "lenType": 16,
    "lenVar": 40
   },
   "kernels_config": {
    "python": {
     "delete_cmd_postfix": "",
     "delete_cmd_prefix": "del ",
     "library": "var_list.py",
     "varRefreshCmd": "print(var_dic_list())"
    },
    "r": {
     "delete_cmd_postfix": ") ",
     "delete_cmd_prefix": "rm(",
     "library": "var_list.r",
     "varRefreshCmd": "cat(var_dic_list()) "
    }
   },
   "types_to_exclude": [
    "module",
    "function",
    "builtin_function_or_method",
    "instance",
    "_Feature"
   ],
   "window_display": false
  }
 },
 "nbformat": 4,
 "nbformat_minor": 4
}
