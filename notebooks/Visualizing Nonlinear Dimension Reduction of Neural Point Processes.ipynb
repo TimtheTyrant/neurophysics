{
 "cells": [
  {
   "cell_type": "markdown",
   "metadata": {},
   "source": [
    "# Big Data Visualization of Neuron Spike Times as Fuzzy Point Processes\n",
    "Tim Tyree<br>\n",
    "6.4.2021"
   ]
  },
  {
   "cell_type": "code",
   "execution_count": 1,
   "metadata": {
    "ExecuteTime": {
     "end_time": "2021-06-08T17:20:10.036783Z",
     "start_time": "2021-06-08T17:19:56.989663Z"
    }
   },
   "outputs": [],
   "source": [
    "# #automating the boring stuff can take ~20 seconds here...\n",
    "from lib.getterdone import *"
   ]
  },
  {
   "cell_type": "markdown",
   "metadata": {
    "heading_collapsed": true
   },
   "source": [
    "## Notes:"
   ]
  },
  {
   "cell_type": "markdown",
   "metadata": {
    "hidden": true
   },
   "source": [
    "- The assumptions of UMAP include (i) local connectivity and (ii) samples approximately uniformly distributed over the relevant information manifold.<br>\n",
    "- By exposing a given marmoset to a controlled audiovisual stimulus, we directly observed the information manifold and compared it to a control (Fig. X).\n"
   ]
  },
  {
   "cell_type": "markdown",
   "metadata": {
    "hidden": true
   },
   "source": [
    "- TODO(!): use the simplest method of combining two umap plots? np.concatenate... But it doesn't scale to terrabyte sized data sets...\n",
    "\n",
    "- TODO(later): compute the fuzzy complement of the test umap fit minus the control umap fit\n",
    "- TODO: i.e. intersect the (optimal interval of the) test trial with the (optimal interval of the) corresponding control trial\n",
    "\n",
    "> \"If you are willing to try something a little more experimental there is also a third option using the - operator which effectively intersects with the fuzzy set complement (and is thus not commutative, just as - implies). The goal here is to try to provide a sense of what the data looks like when we contrast it against a second view.\"\n",
    "\n",
    "- TODO(later): show reproducibility to machine precision\n",
    "- HINT: np.all(mapper1.embedding_ == mapper2.embedding_)"
   ]
  },
  {
   "cell_type": "code",
   "execution_count": 4,
   "metadata": {
    "ExecuteTime": {
     "end_time": "2021-06-07T20:38:02.260358Z",
     "start_time": "2021-06-07T20:38:02.253947Z"
    },
    "hidden": true
   },
   "outputs": [],
   "source": [
    "#DONE: compute lag durations as before\n",
    "#DONE: compute labels as before\n",
    "# TODO: compute the point-process of a given trial\n",
    "# TODO: find the corresponding control trial\n",
    "# TODO: compute the point-process of a given trial\n",
    "# TODO: compute umap on the last 1 second of this given trial. plot.\n",
    "# TODO: compute umap on the last 1 second of the corresponding control trial. plot.\n",
    "# TODO: merge ^those into 1 umap. plot.\n",
    "# TODO: smoosh everything together by changing umap parameters\n",
    "# TODO: color the test points different from the control points. shade by time.\n",
    "# TODO: Can I interpret ^that?  \n",
    "# if not, then\n",
    "# TODO: try including the whole trial and coloring the points before 1 second of the end differently\n"
   ]
  },
  {
   "cell_type": "code",
   "execution_count": 5,
   "metadata": {
    "ExecuteTime": {
     "end_time": "2021-06-07T20:38:03.499852Z",
     "start_time": "2021-06-07T20:38:03.496369Z"
    },
    "hidden": true
   },
   "outputs": [],
   "source": [
    "# #install the goodies\n",
    "# !pip install numba --ignore-installed\n",
    "# !pip install umap-learn\n",
    "# !pip install umap-learn[plot]\n",
    "# !pip install umap-learn[parametric_umap]\n",
    "# # !pip install pandas matplotlib datashader bokeh holoviews scikit-image colorcet\n",
    "# import hdbscan # leland needs to update hdbscan to work with umap in the same pyenv with numpy version <=1.19"
   ]
  },
  {
   "cell_type": "markdown",
   "metadata": {
    "ExecuteTime": {
     "end_time": "2021-06-05T00:40:39.601672Z",
     "start_time": "2021-06-05T00:40:39.598707Z"
    },
    "heading_collapsed": true
   },
   "source": [
    "# visualize a single trial \n",
    "as a umap plot as the space formed by 2d-Gaussian distributions OR hyperbolic embedding"
   ]
  },
  {
   "cell_type": "markdown",
   "metadata": {
    "heading_collapsed": true,
    "hidden": true
   },
   "source": [
    "## import a single trial"
   ]
  },
  {
   "cell_type": "code",
   "execution_count": 178,
   "metadata": {
    "ExecuteTime": {
     "end_time": "2021-06-07T23:43:50.639911Z",
     "start_time": "2021-06-07T23:43:50.629431Z"
    },
    "hidden": true
   },
   "outputs": [
    {
     "data": {
      "text/plain": [
       "dict"
      ]
     },
     "execution_count": 178,
     "metadata": {},
     "output_type": "execute_result"
    }
   ],
   "source": [
    "#import a chunk of Mike's data, as before.\n",
    "input_file_name=f\"{nb_dir}/Data/spike_times_trial_20.json\"\n",
    "with open(input_file_name) as f:\n",
    "    data_raw = json.load(f)\n",
    "# Output: {'name': 'Bob', 'languages': ['English', 'Fench']}\n",
    "type(data_raw)"
   ]
  },
  {
   "cell_type": "code",
   "execution_count": 179,
   "metadata": {
    "ExecuteTime": {
     "end_time": "2021-06-07T23:43:51.085031Z",
     "start_time": "2021-06-07T23:43:51.082286Z"
    },
    "hidden": true
   },
   "outputs": [],
   "source": [
    "#input neuron id\n",
    "nid_self=20#0\n",
    "l=nid_self\n",
    "key_self=list(data_raw.keys())[l]\n",
    "times_self=np.array(data_raw[key_self],np.float64)\n",
    "M=times_self.shape[0]"
   ]
  },
  {
   "cell_type": "code",
   "execution_count": 180,
   "metadata": {
    "ExecuteTime": {
     "end_time": "2021-06-07T23:43:51.596786Z",
     "start_time": "2021-06-07T23:43:51.473916Z"
    },
    "hidden": true
   },
   "outputs": [],
   "source": [
    "# #represent spiketime trial for 1 neuron as a point process in terms of an 1 x m x n numpy array\n",
    "N=len(list(data_raw.keys()))\n",
    "arr = np.full([M, N], np.nan)\n",
    "\n",
    "#initialize a list of length N=number of neurons\n",
    "# X=np.full(N,np.nan,dtype=np.float64)\n",
    "#functionally compute the time since last spike time for a given time for each neuron\n",
    "for m,t in enumerate(times_self):\n",
    "    for n,key in enumerate(data_raw.keys()):\n",
    "        spikes=np.array(data_raw[key],np.float64)\n",
    "        spikes=spikes[spikes<t]\n",
    "        if not spikes.shape[0]==0:\n",
    "            lag=t-spikes[-1]\n",
    "            arr[m,n]=lag #time since last spike in the nth neuron\n",
    "            # X[n]=1/lag #rate since last spike in the nth neuron"
   ]
  },
  {
   "cell_type": "code",
   "execution_count": 181,
   "metadata": {
    "ExecuteTime": {
     "end_time": "2021-06-07T23:43:52.025448Z",
     "start_time": "2021-06-07T23:43:51.986839Z"
    },
    "hidden": true
   },
   "outputs": [],
   "source": [
    "#find the biggest subsquare with no nan values\n",
    "#the goal is to have no nan values in arr\n",
    "#find the fraction of True for each column\n",
    "boo_neurons_keep=~np.isnan(arr)[-1,:]\n",
    "for n in range(N):\n",
    "    earliest_time_thresh=-1\n",
    "    if boo_neurons_keep[n]:\n",
    "        boo=np.isnan(arr)[:,n]\n",
    "        frac=sum(boo)/boo.shape[0]\n",
    "        #earliest time of nonnan value for given neuron is less than earliest_time_thresh\n",
    "        boo_neurons_keep[n]=times_self[~boo][0]<earliest_time_thresh"
   ]
  },
  {
   "cell_type": "code",
   "execution_count": 182,
   "metadata": {
    "ExecuteTime": {
     "end_time": "2021-06-07T23:43:52.408359Z",
     "start_time": "2021-06-07T23:43:52.402339Z"
    },
    "hidden": true
   },
   "outputs": [
    {
     "data": {
      "text/plain": [
       "(74, 188)"
      ]
     },
     "execution_count": 182,
     "metadata": {},
     "output_type": "execute_result"
    }
   ],
   "source": [
    "boo_times_keep=times_self>earliest_time_thresh\n",
    "Mnew=sum(boo_times_keep)\n",
    "Nnew=sum(boo_neurons_keep)\n",
    "arrnew=arr[boo_times_keep][:,boo_neurons_keep]\n",
    "#assert there are no remaining nan values\n",
    "assert (not np.isnan(arrnew).any())\n",
    "data=arrnew\n",
    "data.shape"
   ]
  },
  {
   "cell_type": "code",
   "execution_count": 267,
   "metadata": {
    "ExecuteTime": {
     "end_time": "2021-06-08T03:47:05.395650Z",
     "start_time": "2021-06-08T03:47:05.392666Z"
    },
    "hidden": true
   },
   "outputs": [],
   "source": [
    "#compute spike times\n",
    "spike_times=np.array(data_raw[f\"{nid_self}\"])\n",
    "\n",
    "#classify spikes as before/after the stimulus\n",
    "t_stim=.15#~150ms for stimulus to reach the neurons in the hippocampus\n",
    "boo_before_stim=spike_times<t_stim\n",
    "boo_after_stim=~boo_before_stim\n",
    "target_names=[r'before',r'after']\n",
    "target=boo_before_stim*0+boo_after_stim*1\n",
    "target=target[boo_times_keep]"
   ]
  },
  {
   "cell_type": "code",
   "execution_count": 184,
   "metadata": {
    "ExecuteTime": {
     "end_time": "2021-06-07T23:43:53.232432Z",
     "start_time": "2021-06-07T23:43:53.229242Z"
    },
    "hidden": true
   },
   "outputs": [],
   "source": [
    "#classify spikes as before or during the arrival time of the information of the stimulus\n",
    "t_arrival=1.5 #seconds\n",
    "t_departure=2.5 #seconds\n",
    "boo_before=spike_times<t_arrival\n",
    "boo_after=~boo_before\n",
    "boo_after&=spike_times<t_departure\n",
    "boo_ignore=spike_times>=t_departure\n",
    "target_names=[r'before',r'after',r'ignore']\n",
    "target=boo_before*0+boo_after*1+boo_ignore*2\n",
    "target=target[boo_times_keep]"
   ]
  },
  {
   "cell_type": "code",
   "execution_count": 185,
   "metadata": {
    "ExecuteTime": {
     "end_time": "2021-06-07T23:43:53.725405Z",
     "start_time": "2021-06-07T23:43:53.723683Z"
    },
    "hidden": true
   },
   "outputs": [],
   "source": [
    "#DONE: set data to the point process array\n",
    "#DONT: set target to the next spike time\n",
    "#DONE: change digits.data/target to data/target in any of ^those examples \n",
    "#DONE: run those cells!\n",
    "#DONE: try out the hyperbolic embedding\n"
   ]
  },
  {
   "cell_type": "markdown",
   "metadata": {
    "hidden": true
   },
   "source": [
    "## fit data"
   ]
  },
  {
   "cell_type": "code",
   "execution_count": 264,
   "metadata": {
    "ExecuteTime": {
     "end_time": "2021-06-08T03:45:47.294229Z",
     "start_time": "2021-06-08T03:45:47.292124Z"
    },
    "hidden": true
   },
   "outputs": [],
   "source": [
    "# metric='euclidean'\n",
    "# metric='mahalanobis'\n",
    "# metric='cosine'\n",
    "metric='correlation'\n",
    "# metric='hellinger'\n",
    "# metric='wminkowski'\n",
    "\n",
    "# **Minkowski style metrics**\n",
    "# metric='chebyshev'\n",
    "# metric='minkowski'\n",
    "\n",
    "\n",
    "# **Angular and correlation metrics**\n",
    "# * cosine\n",
    "# * correlation\n",
    "\n",
    "# **Metrics for binary data**\n",
    "# * hamming\n",
    "# * jaccard\n",
    "# * dice\n",
    "# * russelrao\n",
    "# * kulsinski\n",
    "# * rogerstanimoto\n",
    "# * sokalmichener\n",
    "# * sokalsneath\n",
    "# metric='yule'"
   ]
  },
  {
   "cell_type": "code",
   "execution_count": 265,
   "metadata": {
    "ExecuteTime": {
     "end_time": "2021-06-08T03:45:54.399737Z",
     "start_time": "2021-06-08T03:45:53.939315Z"
    },
    "hidden": true
   },
   "outputs": [],
   "source": [
    "#show data with a gaussian mapper\n",
    "gaussian_mapper = umap.UMAP(metric=metric,\n",
    "                            output_metric='gaussian_energy',\n",
    "                            n_components=40,\n",
    "                            random_state=2).fit(data)\n",
    "x_values=gaussian_mapper.embedding_.T[0]\n",
    "y_values=gaussian_mapper.embedding_.T[1]\n",
    "x_origin=5.5\n",
    "y_origin=3.5\n",
    "x_values=x_values-x_origin\n",
    "y_values=y_values-y_origin"
   ]
  },
  {
   "cell_type": "code",
   "execution_count": 266,
   "metadata": {
    "ExecuteTime": {
     "end_time": "2021-06-08T03:45:56.223015Z",
     "start_time": "2021-06-08T03:45:56.104417Z"
    },
    "hidden": true
   },
   "outputs": [
    {
     "data": {
      "image/png": "[encoded data removed]",
      "text/plain": [
       "<Figure size 432x432 with 1 Axes>"
      ]
     },
     "metadata": {
      "needs_background": "light"
     },
     "output_type": "display_data"
    }
   ],
   "source": [
    "#plot the first two axes\n",
    "cmap='Spectral'\n",
    "fontsize=22\n",
    "fig,ax=plt.subplots(ncols=1,figsize=(6,6))\n",
    "ax.scatter(x_values, y_values, c=target, cmap='Spectral',s=15)\n",
    "# ax.scatter(x_values, y_values, \n",
    "#             c=target, cmap=cmap, s=1000, marker='.',alpha=0.7)\n",
    "# ax.scatter(x_values, y_values, \n",
    "#             c='k', s=10, marker='.')\n",
    "ax.tick_params(axis='both',labelsize=fontsize)\n",
    "# ax.tick_params(axis='both', which='major', labelsize=fontsize)\n",
    "# ax.tick_params(axis='both', which='minor', labelsize=0)\n",
    "ax.set_xlabel('UMAP1 (seconds)',fontsize=fontsize)\n",
    "ax.set_ylabel('UMAP2 (seconds)',fontsize=fontsize)\n",
    "# title='A Single Trial'\n",
    "# ax.set_title(title,fontsize=fontsize+4)\n",
    "fig.show()\n",
    "#                             random_state=42).fit(digits.data)\n",
    "# plt.scatter(gaussian_mapper.embedding_.T[0], gaussian_mapper.embedding_.T[1], c=digits.target, cmap='Spectral')\n",
    "# plt.show()"
   ]
  },
  {
   "cell_type": "code",
   "execution_count": 262,
   "metadata": {
    "ExecuteTime": {
     "end_time": "2021-06-07T23:57:02.446858Z",
     "start_time": "2021-06-07T23:57:01.921849Z"
    },
    "hidden": true
   },
   "outputs": [
    {
     "data": {
      "image/png": "[encoded data removed]",
      "text/plain": [
       "<Figure size 504x504 with 1 Axes>"
      ]
     },
     "metadata": {
      "needs_background": "light"
     },
     "output_type": "display_data"
    }
   ],
   "source": [
    "#show data with a hyperbolic embedding\n",
    "hyperbolic_mapper = umap.UMAP(metric=metric,\n",
    "                              output_metric='hyperboloid',\n",
    "                              random_state=2).fit(data)\n",
    "x = hyperbolic_mapper.embedding_[:, 0]\n",
    "y = hyperbolic_mapper.embedding_[:, 1]\n",
    "z = np.sqrt(1 + np.sum(hyperbolic_mapper.embedding_**2, axis=1))\n",
    "disk_x = x / (1 + z)\n",
    "disk_y = y / (1 + z)\n",
    "\n",
    "fig = plt.figure(figsize=(7,7))\n",
    "ax = fig.add_subplot(111)\n",
    "ax.scatter(disk_x, disk_y, c=target, cmap='Spectral',s=5)\n",
    "# ax.scatter(disk_x, disk_y, \n",
    "#             c=target, cmap=cmap, s=1000, marker='.',alpha=0.7)\n",
    "# ax.scatter(disk_x, disk_y, \n",
    "#             c='k', s=10, marker='.')\n",
    "boundary = plt.Circle((0,0), 1.05, fc='none', ec='k')\n",
    "ax.add_artist(boundary)\n",
    "ax.axis('off');\n",
    "ax.set_xlim([-1.1,1.1])\n",
    "ax.set_ylim([-1.1,1.1])\n",
    "plt.show()"
   ]
  },
  {
   "cell_type": "code",
   "execution_count": 263,
   "metadata": {
    "ExecuteTime": {
     "end_time": "2021-06-07T23:57:02.873499Z",
     "start_time": "2021-06-07T23:57:02.870436Z"
    },
    "hidden": true
   },
   "outputs": [
    {
     "name": "stdout",
     "output_type": "stream",
     "text": [
      "single trial\n",
      "correlation\n"
     ]
    }
   ],
   "source": [
    "print('single trial')\n",
    "print(metric)"
   ]
  },
  {
   "cell_type": "code",
   "execution_count": null,
   "metadata": {
    "hidden": true
   },
   "outputs": [],
   "source": []
  },
  {
   "cell_type": "markdown",
   "metadata": {},
   "source": [
    "# visualize many trials"
   ]
  },
  {
   "cell_type": "markdown",
   "metadata": {},
   "source": [
    "## compute point process feature vectors for an entire set of trials"
   ]
  },
  {
   "cell_type": "code",
   "execution_count": 2,
   "metadata": {
    "ExecuteTime": {
     "end_time": "2021-06-08T17:20:39.092180Z",
     "start_time": "2021-06-08T17:20:10.054075Z"
    }
   },
   "outputs": [
    {
     "name": "stdout",
     "output_type": "stream",
     "text": [
      "106\n"
     ]
    }
   ],
   "source": [
    "#load a single set of trials into notebook memory\n",
    "data_folder=f\"{nb_dir}/Data/Archie\"\n",
    "# modname=\"Archie_SRT_Set212_Subset1_200520_165716_\"\n",
    "modname=\"Archie_SRT_Set219_subset1_200831_124035_\"\n",
    "t_min_considered, number_of_neurons, dict_spike_times, dict_trial_times, dict_trial_data = load_dataset(modname,data_folder)"
   ]
  },
  {
   "cell_type": "code",
   "execution_count": 349,
   "metadata": {
    "ExecuteTime": {
     "end_time": "2021-06-08T16:30:14.128096Z",
     "start_time": "2021-06-08T16:30:14.125672Z"
    }
   },
   "outputs": [],
   "source": [
    "#time points to take observations\n",
    "# nid_self=20\n",
    "nid_self=None #automatically selects the most spiking neuron to be nid_self"
   ]
  },
  {
   "cell_type": "code",
   "execution_count": 350,
   "metadata": {
    "ExecuteTime": {
     "end_time": "2021-06-08T16:44:32.185158Z",
     "start_time": "2021-06-08T16:30:14.347900Z"
    }
   },
   "outputs": [
    {
     "name": "stdout",
     "output_type": "stream",
     "text": [
      "452 trials successfully parsed into 97832 observations.\n",
      "this point-process measure is embedded into $\\mathbb{R}^{+d}$ real Euclidean space of dimension d=106.\n"
     ]
    }
   ],
   "source": [
    "#compute the point process model\n",
    "nid_self,target,data,trialnum_values,t_values=compute_point_process_data(t_min_considered, number_of_neurons, dict_spike_times, dict_trial_times, dict_trial_data,printing=True,nid_self=nid_self)"
   ]
  },
  {
   "cell_type": "code",
   "execution_count": 351,
   "metadata": {
    "ExecuteTime": {
     "end_time": "2021-06-08T16:44:37.834053Z",
     "start_time": "2021-06-08T16:44:32.564664Z"
    }
   },
   "outputs": [],
   "source": [
    "#save as compressed numpy array\n",
    "save_folder=data_folder\n",
    "os.chdir(save_folder)\n",
    "save_fn=modname+f'pointProcess_{nid_self}_compressed.npz'\n",
    "if not os.path.exists(save_folder):\n",
    "    os.mkdir(save_folder)\n",
    "np.savez_compressed(save_fn, target=target,data=data,trialnum_values=trialnum_values,t_values=t_values)"
   ]
  },
  {
   "cell_type": "code",
   "execution_count": 3,
   "metadata": {
    "ExecuteTime": {
     "end_time": "2021-06-08T17:20:39.842930Z",
     "start_time": "2021-06-08T17:20:39.168321Z"
    }
   },
   "outputs": [],
   "source": [
    "nid_self=78\n",
    "input_dir=f\"{nb_dir}/Data/Archie/\"+modname+f'pointProcess_{nid_self}_compressed.npz'\n",
    "dataset=np.load(input_dir)\n",
    "\n",
    "#extract lag feature vector\n",
    "data=dataset['data']\n",
    "target=dataset['target']\n",
    "trialnum_values=dataset['trialnum_values']\n",
    "spike_times=dataset['t_values']\n",
    "target_names=[r'dubious',r'decisive',r'reflective']"
   ]
  },
  {
   "cell_type": "code",
   "execution_count": 4,
   "metadata": {
    "ExecuteTime": {
     "end_time": "2021-06-08T16:52:43.556400Z",
     "start_time": "2021-06-08T16:52:43.549292Z"
    }
   },
   "outputs": [
    {
     "data": {
      "text/plain": [
       "'/home/timothytyree/Documents/GitHub/neurophysics/notebooks/Data/Archie/Archie_SRT_Set219_subset1_200831_124035_pointProcess_78_compressed.npz'"
      ]
     },
     "execution_count": 4,
     "metadata": {},
     "output_type": "execute_result"
    }
   ],
   "source": [
    "input_dir"
   ]
  },
  {
   "cell_type": "code",
   "execution_count": 353,
   "metadata": {
    "ExecuteTime": {
     "end_time": "2021-06-08T16:44:38.970847Z",
     "start_time": "2021-06-08T16:44:38.965334Z"
    }
   },
   "outputs": [
    {
     "data": {
      "text/plain": [
       "'/home/timothytyree/Documents/GitHub/neurophysics/notebooks/Data/Archie/Archie_SRT_Set219_subset1_200831_124035_pointProcess_78_compressed.npz'"
      ]
     },
     "execution_count": 353,
     "metadata": {},
     "output_type": "execute_result"
    }
   ],
   "source": [
    "input_dir"
   ]
  },
  {
   "cell_type": "markdown",
   "metadata": {
    "heading_collapsed": true
   },
   "source": [
    "## slice data"
   ]
  },
  {
   "cell_type": "code",
   "execution_count": 354,
   "metadata": {
    "ExecuteTime": {
     "end_time": "2021-06-08T16:45:19.020935Z",
     "start_time": "2021-06-08T16:45:19.008341Z"
    },
    "hidden": true
   },
   "outputs": [],
   "source": [
    "#query trials by matching nonnovel experimental conditions\n",
    "match=True\n",
    "mismatch=False\n",
    "novel=False\n",
    "query=trialnum_values<=0\n",
    "trialnum_lst=sorted(dict_trial_data.keys())\n",
    "for trialnum in trialnum_lst:\n",
    "    #todo: slice where trialnum\n",
    "    quer=True\n",
    "    #extract simplified trial condition\n",
    "    match_code=dict_trial_data[trialnum]['imMatchFlag']\n",
    "    novel_code=dict_trial_data[trialnum]['novel']\n",
    "    is_matching=match_code==1\n",
    "    if match:\n",
    "        quer&=is_matching\n",
    "        \n",
    "    is_mismatching=match_code==2\n",
    "    if mismatch:\n",
    "        quer&=is_mismatching    \n",
    "    \n",
    "    is_novel=novel_code==1\n",
    "    if novel:\n",
    "        quer&=is_novel\n",
    "    else:\n",
    "        quer&=~is_novel\n",
    "    if quer:\n",
    "        query|=trialnum_values==trialnum\n",
    "\n",
    "#TODO: select only the dubious/decisive/reflective phase\n",
    "# query|=target!=0 #don't include dubious\n",
    "# query|=target!=1 #don't include decisive\n",
    "# query|=target!=2 #don't include reflective\n",
    "\n",
    "#TODO: query by computing the boolean index for a given condition\n",
    "dat=data[query,:]\n",
    "targ=target[query]"
   ]
  },
  {
   "cell_type": "markdown",
   "metadata": {
    "heading_collapsed": true
   },
   "source": [
    "## fit data"
   ]
  },
  {
   "cell_type": "code",
   "execution_count": null,
   "metadata": {
    "ExecuteTime": {
     "start_time": "2021-06-08T16:45:33.337Z"
    },
    "hidden": true
   },
   "outputs": [],
   "source": [
    "metric='correlation'\n",
    "kwargs={\n",
    "    'metric'      :metric,\n",
    "    'random_state':42,\n",
    "#     'min_dist'    :0.5,\n",
    "#     'spread'      :2\n",
    "}\n",
    "#fit data to a gaussian mapper\n",
    "gaussian_mapper = umap.UMAP(\n",
    "    output_metric='gaussian_energy',\n",
    "    n_components=2,#n_components=40,\n",
    "    **kwargs).fit(data)\n",
    "x_values=gaussian_mapper.embedding_.T[0]\n",
    "y_values=gaussian_mapper.embedding_.T[1]\n",
    "\n",
    "# # subtract off the average umap coordinate for each trial\n",
    "# # for each trial, subtract off the mean\n",
    "# for trialnum in sorted(set(trialnum_values)):\n",
    "#     boo=trialnum_values==trialnum\n",
    "#     x_origin=np.mean(x_values[boo])\n",
    "#     x_values[boo]=x_values[boo]-x_origin\n",
    "#     y_origin=np.mean(y_values[boo])\n",
    "#     y_values[boo]=y_values[boo]-y_origin"
   ]
  },
  {
   "cell_type": "code",
   "execution_count": null,
   "metadata": {
    "ExecuteTime": {
     "start_time": "2021-06-08T16:45:33.580Z"
    },
    "hidden": true
   },
   "outputs": [],
   "source": [
    "#plot the first two axes\n",
    "cmap='jet'\n",
    "fontsize=22\n",
    "fig,ax=plt.subplots(ncols=1,figsize=(6,6))\n",
    "ax.scatter(x_values, y_values, \n",
    "            c=target, cmap=cmap, s=10, marker='.',alpha=0.7)\n",
    "# ax.scatter(x_values, y_values, \n",
    "#             c=target, cmap=cmap, s=1000, marker='.',alpha=0.7)\n",
    "# ax.scatter(x_values, y_values, \n",
    "#             c='k', s=10, marker='.')\n",
    "ax.tick_params(axis='both',labelsize=fontsize)\n",
    "# ax.tick_params(axis='both', which='major', labelsize=fontsize)\n",
    "# ax.tick_params(axis='both', which='minor', labelsize=0)\n",
    "ax.set_xlabel('UMAP1 (seconds)',fontsize=fontsize)\n",
    "ax.set_ylabel('UMAP2 (seconds)',fontsize=fontsize)\n",
    "# title='A Single Trial'\n",
    "# ax.set_title(title,fontsize=fontsize+4)\n",
    "fig.show()\n",
    "#                             random_state=42).fit(digits.data)\n",
    "# plt.scatter(gaussian_mapper.embedding_.T[0], gaussian_mapper.embedding_.T[1], c=digits.target, cmap='Spectral')\n",
    "# plt.show()"
   ]
  },
  {
   "cell_type": "code",
   "execution_count": null,
   "metadata": {
    "ExecuteTime": {
     "start_time": "2021-06-08T16:45:34.428Z"
    },
    "hidden": true
   },
   "outputs": [],
   "source": [
    "hyperbolic_mapper = umap.UMAP(\n",
    "    output_metric='hyperboloid',**kwargs).fit(data)\n",
    "x_values = hyperbolic_mapper.embedding_[:, 0]\n",
    "y_values = hyperbolic_mapper.embedding_[:, 1]\n",
    "z_values = np.sqrt(1 + np.sum(hyperbolic_mapper.embedding_**2, axis=1))\n",
    "\n",
    "# subtract off the average umap coordinate for each trial\n",
    "# for each trial, subtract off the mean\n",
    "# for trialnum in sorted(set(trialnum_values)):\n",
    "#     boo=trialnum_values==trialnum\n",
    "#     x_origin=np.mean(x_values[boo])\n",
    "#     x_values[boo]=x_values[boo]-x_origin\n",
    "#     y_origin=np.mean(y_values[boo])\n",
    "#     y_values[boo]=y_values[boo]-y_origin\n",
    "#     z_origin=np.mean(z_values[boo])\n",
    "#     z_values[boo]=z_values[boo]-z_origin\n",
    "\n",
    "disk_x = x_values / (1 + z_values)\n",
    "disk_y = y_values / (1 + z_values)"
   ]
  },
  {
   "cell_type": "code",
   "execution_count": null,
   "metadata": {
    "ExecuteTime": {
     "start_time": "2021-06-08T16:45:34.897Z"
    },
    "hidden": true
   },
   "outputs": [],
   "source": [
    "fig = plt.figure(figsize=(7,7))\n",
    "ax = fig.add_subplot(111)\n",
    "# ax.scatter(disk_x, disk_y, c=target, cmap='Spectral')\n",
    "ax.scatter(disk_x, disk_y,\n",
    "            c=target, cmap=cmap, s=10, marker='.',alpha=0.7)\n",
    "# ax.scatter(disk_x, disk_y,\n",
    "#             c='k', s=10, marker='.')\n",
    "boundary = plt.Circle((0,0), 1.05, fc='none', ec='k')\n",
    "ax.add_artist(boundary)\n",
    "ax.axis('off');\n",
    "ax.set_xlim([-1.1,1.1])\n",
    "ax.set_ylim([-1.1,1.1])\n",
    "plt.show()"
   ]
  },
  {
   "cell_type": "markdown",
   "metadata": {
    "ExecuteTime": {
     "end_time": "2021-06-07T03:09:11.714378Z",
     "start_time": "2021-06-07T03:09:11.711137Z"
    }
   },
   "source": [
    "# umap on subsets of trials with match versus mismatch conditions"
   ]
  },
  {
   "cell_type": "markdown",
   "metadata": {},
   "source": [
    "__match_code:__\n",
    "    - 0 if image only\n",
    "    - 1 if match (picture and audio monkey identity are the same)\n",
    "    - 2 if mismatch (picture and audio monkey identity are inconsistent)\n",
    "    - 3 if audio only"
   ]
  },
  {
   "cell_type": "markdown",
   "metadata": {},
   "source": [
    "## Showing that all matching cases do not lie on a small number of clear topological manifolds"
   ]
  },
  {
   "cell_type": "code",
   "execution_count": 312,
   "metadata": {
    "ExecuteTime": {
     "end_time": "2021-06-08T16:11:01.104369Z",
     "start_time": "2021-06-08T16:11:01.096968Z"
    }
   },
   "outputs": [
    {
     "data": {
      "text/plain": [
       "(array([0, 0, 0, ..., 2, 2, 2]),\n",
       " array([[3.28000000e-01, 4.67233333e-01, 1.94233333e-01, ...,\n",
       "         1.31333333e-02, 1.86666667e-02, 1.09666667e-02],\n",
       "        [2.04133333e-01, 3.05000000e-02, 1.70333333e-02, ...,\n",
       "         1.06066667e-01, 2.18333333e-02, 1.30433333e-01],\n",
       "        [2.20300000e-01, 4.66666667e-02, 3.32000000e-02, ...,\n",
       "         1.22233333e-01, 4.66666667e-03, 9.66666667e-04],\n",
       "        ...,\n",
       "        [6.93333333e-03, 2.55533333e-01, 1.36400000e-01, ...,\n",
       "         4.82056667e+00, 2.52990367e+02, 6.30433333e-01],\n",
       "        [1.33633333e-01, 4.14066667e-01, 1.43166667e-01, ...,\n",
       "         4.97910000e+00, 2.53148900e+02, 7.88966667e-01],\n",
       "        [1.63400000e-01, 4.43833333e-01, 7.23333333e-03, ...,\n",
       "         5.00886667e+00, 2.53178667e+02, 8.18733333e-01]]),\n",
       " array([  3,   3,   3, ..., 452, 452, 452]))"
      ]
     },
     "execution_count": 312,
     "metadata": {},
     "output_type": "execute_result"
    }
   ],
   "source": [
    "target,data,trialnum_values"
   ]
  },
  {
   "cell_type": "code",
   "execution_count": 321,
   "metadata": {
    "ExecuteTime": {
     "end_time": "2021-06-08T16:15:03.972858Z",
     "start_time": "2021-06-08T16:15:03.961735Z"
    }
   },
   "outputs": [],
   "source": [
    "#nota bene, this is done later in pandas in a couple lines...\n",
    "#query trials by matching nonnovel experimental conditions\n",
    "match=True\n",
    "mismatch=False\n",
    "novel=False\n",
    "query=trialnum_values<=0\n",
    "trialnum_lst=sorted(dict_trial_data.keys())\n",
    "for trialnum in trialnum_lst:\n",
    "    #todo: slice where trialnum\n",
    "    quer=True\n",
    "    #extract simplified trial condition\n",
    "    match_code=dict_trial_data[trialnum]['imMatchFlag']\n",
    "    novel_code=dict_trial_data[trialnum]['novel']\n",
    "    is_matching=match_code==1\n",
    "    if match:\n",
    "        quer&=is_matching\n",
    "        \n",
    "    is_mismatching=match_code==2\n",
    "    if mismatch:\n",
    "        quer&=is_mismatching    \n",
    "    \n",
    "    is_novel=novel_code==1\n",
    "    if novel:\n",
    "        quer&=is_novel\n",
    "    else:\n",
    "        quer&=~is_novel\n",
    "    if quer:\n",
    "        query|=trialnum_values==trialnum\n",
    "\n",
    "#TODO: select only the dubious/decisive/reflective phase\n",
    "query|=target!=0 #don't include dubious\n",
    "query|=target!=1 #don't include decisive\n",
    "# query|=target!=2 #don't include reflective\n",
    "\n",
    "#TODO: query by computing the boolean index for a given condition\n",
    "dat=data[query,:]\n",
    "targ=target[query]"
   ]
  },
  {
   "cell_type": "code",
   "execution_count": 322,
   "metadata": {
    "ExecuteTime": {
     "end_time": "2021-06-08T16:15:43.631957Z",
     "start_time": "2021-06-08T16:15:04.590392Z"
    }
   },
   "outputs": [],
   "source": [
    "#fit data to a gaussian mapper\n",
    "gaussian_mapper = umap.UMAP(output_metric='gaussian_energy',\n",
    "                            n_components=40,\n",
    "                            random_state=2).fit(dat)\n",
    "x_values=gaussian_mapper.embedding_.T[0]\n",
    "y_values=gaussian_mapper.embedding_.T[1]\n",
    "x_origin=0\n",
    "y_origin=0\n",
    "x_values=x_values-x_origin\n",
    "y_values=y_values-y_origin"
   ]
  },
  {
   "cell_type": "code",
   "execution_count": 323,
   "metadata": {
    "ExecuteTime": {
     "end_time": "2021-06-08T16:15:44.482748Z",
     "start_time": "2021-06-08T16:15:44.259660Z"
    }
   },
   "outputs": [
    {
     "data": {
      "image/png": "[encoded data removed]",
      "text/plain": [
       "<Figure size 432x432 with 1 Axes>"
      ]
     },
     "metadata": {
      "needs_background": "light"
     },
     "output_type": "display_data"
    }
   ],
   "source": [
    "#plot the first two axes\n",
    "cmap='Spectral'\n",
    "fontsize=22\n",
    "fig,ax=plt.subplots(ncols=1,figsize=(6,6))\n",
    "ax.scatter(x_values, y_values, \n",
    "            c=targ, cmap=cmap, s=10, marker='.',alpha=0.7)\n",
    "# ax.scatter(x_values, y_values, \n",
    "#             c=target, cmap=cmap, s=1000, marker='.',alpha=0.7)\n",
    "# ax.scatter(x_values, y_values, \n",
    "#             c='k', s=10, marker='.')\n",
    "ax.tick_params(axis='both',labelsize=fontsize)\n",
    "# ax.tick_params(axis='both', which='major', labelsize=fontsize)\n",
    "# ax.tick_params(axis='both', which='minor', labelsize=0)\n",
    "ax.set_xlabel('UMAP1',fontsize=fontsize)\n",
    "ax.set_ylabel('UMAP2',fontsize=fontsize)\n",
    "# title='A Single Trial'\n",
    "# ax.set_title(title,fontsize=fontsize+4)\n",
    "fig.show()\n",
    "#                             random_state=42).fit(digits.data)\n",
    "# plt.scatter(gaussian_mapper.embedding_.T[0], gaussian_mapper.embedding_.T[1], c=digits.target, cmap='Spectral')\n",
    "# plt.show()"
   ]
  },
  {
   "cell_type": "code",
   "execution_count": 316,
   "metadata": {
    "ExecuteTime": {
     "end_time": "2021-06-08T16:11:14.718443Z",
     "start_time": "2021-06-08T16:11:09.720502Z"
    }
   },
   "outputs": [],
   "source": [
    "hyperbolic_mapper = umap.UMAP(output_metric='hyperboloid',\n",
    "                              random_state=42).fit(dat)\n",
    "x = hyperbolic_mapper.embedding_[:, 0]\n",
    "y = hyperbolic_mapper.embedding_[:, 1]\n",
    "z = np.sqrt(1 + np.sum(hyperbolic_mapper.embedding_**2, axis=1))\n",
    "disk_x = x / (1 + z)\n",
    "disk_y = y / (1 + z)"
   ]
  },
  {
   "cell_type": "code",
   "execution_count": 317,
   "metadata": {
    "ExecuteTime": {
     "end_time": "2021-06-08T16:11:15.412009Z",
     "start_time": "2021-06-08T16:11:15.320496Z"
    }
   },
   "outputs": [
    {
     "data": {
      "image/png": "[encoded data removed]",
      "text/plain": [
       "<Figure size 504x504 with 1 Axes>"
      ]
     },
     "metadata": {
      "needs_background": "light"
     },
     "output_type": "display_data"
    }
   ],
   "source": [
    "fig = plt.figure(figsize=(7,7))\n",
    "ax = fig.add_subplot(111)\n",
    "ax.scatter(disk_x, disk_y, \n",
    "            c=targ, cmap=cmap, s=10, marker='.',alpha=0.7)\n",
    "# ax.scatter(disk_x, disk_y, \n",
    "#             c=targ, cmap=cmap, s=1000, marker='.',alpha=0.7)\n",
    "# ax.scatter(disk_x, disk_y, \n",
    "#             c='k', s=10, marker='.')\n",
    "boundary = plt.Circle((0,0), 1.05, fc='none', ec='k')\n",
    "ax.add_artist(boundary)\n",
    "ax.axis('off');\n",
    "ax.set_xlim([-1.1,1.1])\n",
    "ax.set_ylim([-1.1,1.1])\n",
    "plt.show()"
   ]
  },
  {
   "cell_type": "code",
   "execution_count": null,
   "metadata": {},
   "outputs": [],
   "source": []
  },
  {
   "cell_type": "code",
   "execution_count": 5,
   "metadata": {
    "ExecuteTime": {
     "end_time": "2021-06-08T16:56:03.793340Z",
     "start_time": "2021-06-08T16:56:03.790660Z"
    }
   },
   "outputs": [],
   "source": [
    "# #load a single set of trials into notebook memory\n",
    "# data_folder = f\"{nb_dir}/Data/Archie\"\n",
    "# modname = \"Archie_SRT_Set212_Subset1_200520_165716_\"\n",
    "# t_min_considered, number_of_neurons, dict_spike_times, dict_trial_times, dict_trial_data = load_dataset(\n",
    "#     modname, data_folder)\n",
    "# #import the point process\n",
    "# #compute the point process model\n",
    "# nid_self = 10\n",
    "# nid_self, target, data, trialnum_values, t_values = compute_point_process_data(\n",
    "#     t_min_considered,\n",
    "#     number_of_neurons,\n",
    "#     dict_spike_times,\n",
    "#     dict_trial_times,\n",
    "#     dict_trial_data,\n",
    "#     printing=True,\n",
    "#     nid_self=nid_self)\n",
    "\n",
    "# #save as compressed numpy array\n",
    "# save_folder = data_folder\n",
    "# os.chdir(save_folder)\n",
    "# save_fn = modname + f'pointProcess_{nid_self}_compressed.npz'\n",
    "# if not os.path.exists(save_folder):\n",
    "#     os.mkdir(save_folder)\n",
    "# np.savez_compressed(save_fn,\n",
    "#                     target=target,\n",
    "#                     data=data,\n",
    "#                     trialnum_values=trialnum_values,\n",
    "#                     t_values=t_values)\n",
    "\n",
    "# # input_dir=f\"{nb_dir}/Data/Archie/\"+'Archie_SRT_Set212_Subset1_200520_165716_pointProcess_20_compressed.npz'\n",
    "# input_dir = save_fn\n",
    "# dataset = np.load(input_dir)\n",
    "# # dict_trial_data"
   ]
  },
  {
   "cell_type": "markdown",
   "metadata": {},
   "source": [
    "## all matching cases for a given monkey & orientation is repeatable for short time scales\n",
    "there are were 2 manifolds when restricting Archie's model fit data only from the third block, which exhibited 4 matching trials where"
   ]
  },
  {
   "cell_type": "code",
   "execution_count": 4,
   "metadata": {
    "ExecuteTime": {
     "end_time": "2021-06-08T17:20:40.563024Z",
     "start_time": "2021-06-08T17:20:39.953305Z"
    }
   },
   "outputs": [
    {
     "name": "stdout",
     "output_type": "stream",
     "text": [
      "/home/timothytyree/Documents/GitHub/neurophysics/notebooks/Data/Archie/Archie_SRT_Set219_subset1_200831_124035_pointProcess_78_compressed.npz\n"
     ]
    }
   ],
   "source": [
    "print(input_dir)\n",
    "#computelag feature vector\n",
    "data = dataset['data']\n",
    "target = dataset['target']\n",
    "trialnum_values = dataset['trialnum_values']\n",
    "spike_times = dataset['t_values']\n",
    "target_names = [r'dubious', r'decisive', r'reflective']"
   ]
  },
  {
   "cell_type": "code",
   "execution_count": 5,
   "metadata": {
    "ExecuteTime": {
     "end_time": "2021-06-08T17:08:15.819948Z",
     "start_time": "2021-06-08T17:08:15.813961Z"
    }
   },
   "outputs": [],
   "source": [
    "# #compute rate of change of lag feature vector\n",
    "# DT_values=np.diff(dataset['t_values'])\n",
    "# # DT_thresh=10#1\n",
    "# # boo=np.abs(DT_values)<DT_thresh\n",
    "# boo=np.diff(dataset['trialnum_values'])==0\n",
    "# DX_values=np.diff(dataset['data'],axis=0)\n",
    "# # Y_values=np.divide(DX_values,DT_values,axis=0)\n",
    "# Y_values=np.stack([DX_values[:,j]/DT_values for j in range(DX_values.shape[1])],axis=1)\n",
    "# print(Y_values.shape)\n",
    "# data=Y_values[boo,:]\n",
    "# spike_times=dataset['t_values'][1:][boo]\n",
    "# target=dataset['target'][1:][boo]\n",
    "# trialnum_values=dataset['trialnum_values'][1:][boo]\n",
    "# target_names=[r'dubious',r'decisive',r'reflective']"
   ]
  },
  {
   "cell_type": "code",
   "execution_count": 6,
   "metadata": {
    "ExecuteTime": {
     "end_time": "2021-06-08T17:08:16.015588Z",
     "start_time": "2021-06-08T17:08:16.012833Z"
    }
   },
   "outputs": [],
   "source": [
    "# #compute moving average lag feature vector\n",
    "# navg=1\n",
    "# data=dataset['data']\n",
    "# target=dataset['target']\n",
    "# trialnum_values=dataset['trialnum_values']\n",
    "# spike_times=dataset['t_values']\n",
    "# target_names=[r'dubious',r'decisive',r'reflective']\n",
    "# def moving_average(x, w):\n",
    "#     return np.convolve(x, np.ones(w), 'valid') / w\n",
    "# x_lst=[]\n",
    "# for x in data.T:\n",
    "#     x_lst.append(moving_average(x, w=navg))\n",
    "# data=np.stack(x_lst).T\n",
    "# target=moving_average(dataset['target'], w=navg)\n",
    "# trialnum_values=moving_average(dataset['trialnum_values'], w=navg)\n",
    "# spike_times=moving_average(dataset['t_values'], w=navg)\n",
    "# boo=np.diff(moving_average(dataset['trialnum_values'], w=navg))==0\n",
    "# data=data[1:][boo,:]\n",
    "# spike_times=spike_times[1:][boo]\n",
    "# target=dataset['target'][int((navg+1)/4):-int((navg+1)/4)-1][boo]\n",
    "# trialnum_values=trialnum_values[1:][boo]\n",
    "# data.shape"
   ]
  },
  {
   "cell_type": "code",
   "execution_count": 7,
   "metadata": {
    "ExecuteTime": {
     "end_time": "2021-06-08T17:08:18.038626Z",
     "start_time": "2021-06-08T17:08:18.033196Z"
    }
   },
   "outputs": [],
   "source": [
    "# print( dataset['trialnum_values'][:250])\n",
    "# print( dataset['target'][:250])"
   ]
  },
  {
   "cell_type": "code",
   "execution_count": 5,
   "metadata": {
    "ExecuteTime": {
     "end_time": "2021-06-08T17:20:43.772294Z",
     "start_time": "2021-06-08T17:20:43.701076Z"
    }
   },
   "outputs": [
    {
     "data": {
      "text/html": [
       "<div>\n",
       "<style scoped>\n",
       "    .dataframe tbody tr th:only-of-type {\n",
       "        vertical-align: middle;\n",
       "    }\n",
       "\n",
       "    .dataframe tbody tr th {\n",
       "        vertical-align: top;\n",
       "    }\n",
       "\n",
       "    .dataframe thead th {\n",
       "        text-align: right;\n",
       "    }\n",
       "</style>\n",
       "<table border=\"1\" class=\"dataframe\">\n",
       "  <thead>\n",
       "    <tr style=\"text-align: right;\">\n",
       "      <th></th>\n",
       "      <th>imName</th>\n",
       "      <th>imNum</th>\n",
       "      <th>imPheeName</th>\n",
       "      <th>imMatchFlag</th>\n",
       "      <th>novel</th>\n",
       "      <th>imOff</th>\n",
       "      <th>vpltTrial</th>\n",
       "      <th>Block</th>\n",
       "      <th>PheeID</th>\n",
       "      <th>PicID_1</th>\n",
       "      <th>PicID_2</th>\n",
       "      <th>PidID_3</th>\n",
       "    </tr>\n",
       "  </thead>\n",
       "  <tbody>\n",
       "    <tr>\n",
       "      <th>1</th>\n",
       "      <td>HanLeftGood2.JPG</td>\n",
       "      <td>2</td>\n",
       "      <td>han</td>\n",
       "      <td>3</td>\n",
       "      <td>1</td>\n",
       "      <td>2.59139930641925</td>\n",
       "      <td>1</td>\n",
       "      <td>1</td>\n",
       "      <td>han</td>\n",
       "      <td>none</td>\n",
       "      <td>none</td>\n",
       "      <td>none</td>\n",
       "    </tr>\n",
       "    <tr>\n",
       "      <th>2</th>\n",
       "      <td>ChewieFrontGood7.JPG</td>\n",
       "      <td>3</td>\n",
       "      <td>hermes</td>\n",
       "      <td>3</td>\n",
       "      <td>1</td>\n",
       "      <td>2.10790857611096</td>\n",
       "      <td>1</td>\n",
       "      <td>1</td>\n",
       "      <td>hermes</td>\n",
       "      <td>none</td>\n",
       "      <td>none</td>\n",
       "      <td>none</td>\n",
       "    </tr>\n",
       "    <tr>\n",
       "      <th>3</th>\n",
       "      <td>JennyRightGood2.JPG</td>\n",
       "      <td>4</td>\n",
       "      <td>none</td>\n",
       "      <td>0</td>\n",
       "      <td>1</td>\n",
       "      <td>3.50815615808961</td>\n",
       "      <td>1</td>\n",
       "      <td>1</td>\n",
       "      <td>none</td>\n",
       "      <td>jenny</td>\n",
       "      <td>Right</td>\n",
       "      <td>4</td>\n",
       "    </tr>\n",
       "    <tr>\n",
       "      <th>4</th>\n",
       "      <td>CopperFrontGood2.jpg</td>\n",
       "      <td>5</td>\n",
       "      <td>none</td>\n",
       "      <td>0</td>\n",
       "      <td>1</td>\n",
       "      <td>3.50856733147015</td>\n",
       "      <td>1</td>\n",
       "      <td>1</td>\n",
       "      <td>none</td>\n",
       "      <td>copper</td>\n",
       "      <td>Front</td>\n",
       "      <td>5</td>\n",
       "    </tr>\n",
       "    <tr>\n",
       "      <th>5</th>\n",
       "      <td>JennyRightGood2.JPG</td>\n",
       "      <td>4</td>\n",
       "      <td>none</td>\n",
       "      <td>0</td>\n",
       "      <td>0</td>\n",
       "      <td>3.50791238056217</td>\n",
       "      <td>1</td>\n",
       "      <td>1</td>\n",
       "      <td>none</td>\n",
       "      <td>jenny</td>\n",
       "      <td>Right</td>\n",
       "      <td>4</td>\n",
       "    </tr>\n",
       "  </tbody>\n",
       "</table>\n",
       "</div>"
      ],
      "text/plain": [
       "                 imName imNum imPheeName imMatchFlag novel             imOff  \\\n",
       "1      HanLeftGood2.JPG     2        han           3     1  2.59139930641925   \n",
       "2  ChewieFrontGood7.JPG     3     hermes           3     1  2.10790857611096   \n",
       "3   JennyRightGood2.JPG     4       none           0     1  3.50815615808961   \n",
       "4  CopperFrontGood2.jpg     5       none           0     1  3.50856733147015   \n",
       "5   JennyRightGood2.JPG     4       none           0     0  3.50791238056217   \n",
       "\n",
       "  vpltTrial Block  PheeID PicID_1 PicID_2 PidID_3  \n",
       "1         1     1     han    none    none    none  \n",
       "2         1     1  hermes    none    none    none  \n",
       "3         1     1    none   jenny   Right       4  \n",
       "4         1     1    none  copper   Front       5  \n",
       "5         1     1    none   jenny   Right       4  "
      ]
     },
     "execution_count": 5,
     "metadata": {},
     "output_type": "execute_result"
    }
   ],
   "source": [
    "df = pd.DataFrame(dict_trial_data).T\n",
    "df['PicID_1'] = [s.lower() for s in df['PicID_1'].values]\n",
    "df.head()\n",
    "\n",
    "#TODO(later): compute rate of change of rate feature vector\n",
    "#TODO: try concatenating feature vectors\n",
    "#TODO: subdivide by monkey type\n",
    "#TODO: make a 4 panel for Archie recognizing each monkey\n",
    "#TODO: make a 4x4 panel for each monkey recognizing each other monkey. Leave diagonal entries blank for now if their not shown themselves"
   ]
  },
  {
   "cell_type": "code",
   "execution_count": 6,
   "metadata": {
    "ExecuteTime": {
     "end_time": "2021-06-08T17:20:45.470025Z",
     "start_time": "2021-06-08T17:20:45.464958Z"
    }
   },
   "outputs": [
    {
     "name": "stdout",
     "output_type": "stream",
     "text": [
      "['Front', 'Left', 'Right', 'none']\n",
      "['aladdin', 'ares', 'chewie', 'copper', 'dip', 'han', 'hank', 'hermes', 'jasmine', 'mowgli', 'none', 'poseidon', 'raja', 'waylon']\n"
     ]
    }
   ],
   "source": [
    "# PicID_1_lst=sorted(set(df.PicID_1.values))\n",
    "PheeID_lst=sorted(set(df.PheeID.values))\n",
    "orientation_lst=sorted(set(df.PicID_2.values))\n",
    "imname_lst=sorted(set(df.imName.values))\n",
    "print(orientation_lst)\n",
    "print(sorted(set(df.imPheeName.values)))\n",
    "# print(imname_lst)"
   ]
  },
  {
   "cell_type": "code",
   "execution_count": 7,
   "metadata": {
    "ExecuteTime": {
     "end_time": "2021-06-08T17:20:47.574649Z",
     "start_time": "2021-06-08T17:20:47.568659Z"
    }
   },
   "outputs": [
    {
     "name": "stdout",
     "output_type": "stream",
     "text": [
      "trials available: [ 61  64 140 141 147 148 196 198]\n",
      "Blocks available: {8, 17, 23}\n"
     ]
    }
   ],
   "source": [
    "# monkname=PheeID_lst[4]\n",
    "monkname=PheeID_lst[3]#cooper\n",
    "# orientation='Front'#'none'\n",
    "boo=df.vpltTrial==1 # as stimulus was presented\n",
    "boo&=df.imPheeName==monkname\n",
    "boo&=df.PheeID==monkname\n",
    "trialnum_include_values=df[boo].index.values\n",
    "print(f\"trials available: {trialnum_include_values}\")\n",
    "print(f\"Blocks available: {set(df[boo].Block.values)}\")"
   ]
  },
  {
   "cell_type": "code",
   "execution_count": 11,
   "metadata": {
    "ExecuteTime": {
     "end_time": "2021-06-08T17:09:55.105948Z",
     "start_time": "2021-06-08T17:09:55.099294Z"
    }
   },
   "outputs": [
    {
     "name": "stdout",
     "output_type": "stream",
     "text": [
      "trials available: [140 141 147 148]\n"
     ]
    }
   ],
   "source": [
    "#select a particular block\n",
    "blocknum=17#21#3\n",
    "boo2=boo&(df.Block==blocknum)\n",
    "trialnum_include_values=df[boo2].index.values\n",
    "print(f\"trials available: {trialnum_include_values}\")\n",
    "# print(f\"Blocks available: {set(df[boo].Block.values)}\")"
   ]
  },
  {
   "cell_type": "code",
   "execution_count": 8,
   "metadata": {
    "ExecuteTime": {
     "end_time": "2021-06-08T17:20:56.605278Z",
     "start_time": "2021-06-08T17:20:56.584887Z"
    }
   },
   "outputs": [
    {
     "data": {
      "text/plain": [
       "(405, 106)"
      ]
     },
     "execution_count": 8,
     "metadata": {},
     "output_type": "execute_result"
    }
   ],
   "source": [
    "#query trials by trialnum_include_values\n",
    "match=True\n",
    "mismatch=False\n",
    "novel=False\n",
    "query=trialnum_values<=0\n",
    "for trialnum in trialnum_include_values:\n",
    "    quer=True\n",
    "    #extract simplified trial condition\n",
    "    match_code=dict_trial_data[trialnum]['imMatchFlag']\n",
    "    novel_code=dict_trial_data[trialnum]['novel']\n",
    "    is_matching=match_code==1\n",
    "    if match:\n",
    "        quer&=is_matching\n",
    "    \n",
    "    is_mismatching=match_code==2\n",
    "    if mismatch:\n",
    "        quer&=is_mismatching    \n",
    "    \n",
    "    is_novel=novel_code==1\n",
    "    if novel:\n",
    "        quer&=is_novel\n",
    "    else:\n",
    "        quer&=~is_novel\n",
    "    if quer:\n",
    "        query|=trialnum_values==trialnum\n",
    "\n",
    "#query by computing the boolean index for a given condition\n",
    "dat=data[query,:]\n",
    "targ=target[query]\n",
    "# targ=trialnum_values[query]\n",
    "dat.shape"
   ]
  },
  {
   "cell_type": "code",
   "execution_count": 9,
   "metadata": {
    "ExecuteTime": {
     "end_time": "2021-06-08T17:21:12.728403Z",
     "start_time": "2021-06-08T17:21:02.089708Z"
    }
   },
   "outputs": [],
   "source": [
    "#fit data to a gaussian mapper\n",
    "gaussian_mapper = umap.UMAP(output_metric='gaussian_energy',\n",
    "                            n_components=2,\n",
    "                            random_state=42,\n",
    "                            n_neighbors=50).fit(dat)\n",
    "x_values=gaussian_mapper.embedding_.T[0]\n",
    "y_values=gaussian_mapper.embedding_.T[1]\n",
    "# x_origin=np.mean(x_values)\n",
    "# y_origin=np.mean(y_values)\n",
    "# x_values=x_values-x_origin\n",
    "# y_values=y_values-y_origin"
   ]
  },
  {
   "cell_type": "code",
   "execution_count": 10,
   "metadata": {
    "ExecuteTime": {
     "end_time": "2021-06-08T17:21:13.213548Z",
     "start_time": "2021-06-08T17:21:12.902087Z"
    },
    "scrolled": false
   },
   "outputs": [
    {
     "data": {
      "image/png": "[encoded data removed]",
      "text/plain": [
       "<Figure size 432x432 with 1 Axes>"
      ]
     },
     "metadata": {
      "needs_background": "light"
     },
     "output_type": "display_data"
    }
   ],
   "source": [
    "#plot the first two axes\n",
    "cmap='Spectral'\n",
    "# cmap='viridis'\n",
    "fontsize=20\n",
    "fig,ax=plt.subplots(ncols=1,figsize=(6,6))\n",
    "# ax.scatter(x_values, y_values, \n",
    "#             c=targ, cmap=cmap, s=10, marker='.',alpha=0.7)\n",
    "ax.scatter(x_values, y_values, \n",
    "            c=targ, cmap=cmap, s=1000, marker='.',alpha=0.3)\n",
    "ax.scatter(x_values, y_values,\n",
    "            c='k', s=10, marker='.')\n",
    "ax.tick_params(axis='both',labelsize=fontsize)\n",
    "# ax.tick_params(axis='both', which='major', labelsize=fontsize)\n",
    "# ax.tick_params(axis='both', which='minor', labelsize=0)\n",
    "ax.set_xlabel('UMAP1',fontsize=fontsize)\n",
    "ax.set_ylabel('UMAP2',fontsize=fontsize)\n",
    "title=f'archie recognizing {monkname}\\nusing {dat.shape[0]} obs. from {len(trialnum_include_values)} matching trials\\nfrom blocks {[8, 17, 23]} of subset 1 of set 219\\n'\n",
    "ax.set_title(title,fontsize=fontsize-2)\n",
    "fig.show()\n",
    "#                             random_state=42).fit(digits.data)\n",
    "# plt.scatter(gaussian_mapper.embedding_.T[0], gaussian_mapper.embedding_.T[1], c=digits.target, cmap='Spectral')\n",
    "# plt.show()"
   ]
  },
  {
   "cell_type": "code",
   "execution_count": 11,
   "metadata": {
    "ExecuteTime": {
     "end_time": "2021-06-08T17:21:48.182304Z",
     "start_time": "2021-06-08T17:21:42.460620Z"
    }
   },
   "outputs": [],
   "source": [
    "hyperbolic_mapper = umap.UMAP(output_metric='hyperboloid',\n",
    "                              random_state=42,n_neighbors=50).fit(dat)\n",
    "x = hyperbolic_mapper.embedding_[:, 0]\n",
    "y = hyperbolic_mapper.embedding_[:, 1]\n",
    "z = np.sqrt(1 + np.sum(hyperbolic_mapper.embedding_**2, axis=1))\n",
    "disk_x = x / (1 + z)\n",
    "disk_y = y / (1 + z)"
   ]
  },
  {
   "cell_type": "code",
   "execution_count": 15,
   "metadata": {
    "ExecuteTime": {
     "end_time": "2021-06-08T17:25:42.010875Z",
     "start_time": "2021-06-08T17:25:41.897447Z"
    }
   },
   "outputs": [
    {
     "data": {
      "image/png": "[encoded data removed]",
      "text/plain": [
       "<Figure size 504x504 with 1 Axes>"
      ]
     },
     "metadata": {
      "needs_background": "light"
     },
     "output_type": "display_data"
    }
   ],
   "source": [
    "fig = plt.figure(figsize=(7,7))\n",
    "ax = fig.add_subplot(111)\n",
    "# ax.scatter(disk_x, disk_y, \n",
    "#             c=targ, cmap=cmap, s=20, marker='.',alpha=0.7)\n",
    "ax.scatter(disk_x, disk_y, \n",
    "            c=targ, cmap=cmap, s=1000, marker='.',alpha=0.3)\n",
    "ax.scatter(disk_x, disk_y, \n",
    "            c='k', s=10, marker='.')\n",
    "boundary = plt.Circle((0,0), 1.05, fc='none', ec='k')\n",
    "ax.add_artist(boundary)\n",
    "ax.axis('off');\n",
    "ax.set_xlim([-1.1,1.1])\n",
    "ax.set_ylim([-1.1,1.1])\n",
    "plt.show()"
   ]
  },
  {
   "cell_type": "code",
   "execution_count": null,
   "metadata": {
    "ExecuteTime": {
     "end_time": "2021-06-07T20:34:40.869887Z",
     "start_time": "2021-06-07T20:34:37.894Z"
    }
   },
   "outputs": [],
   "source": [
    "#TODO: find a Block that has the most observations in it accross all monkeys.\n",
    "#TODO: consider trying different nid_self neurons"
   ]
  },
  {
   "cell_type": "code",
   "execution_count": null,
   "metadata": {
    "ExecuteTime": {
     "end_time": "2021-06-07T20:34:40.872934Z",
     "start_time": "2021-06-07T20:34:38.070Z"
    }
   },
   "outputs": [],
   "source": [
    "dat.shape"
   ]
  },
  {
   "cell_type": "markdown",
   "metadata": {},
   "source": [
    "# TODO: clustering on x_values,y_values that show meaningful structure over long time scales\n",
    "- prerequisite(?): find meaningful structure that is consistent over long time scales"
   ]
  },
  {
   "cell_type": "markdown",
   "metadata": {},
   "source": [
    "Hierarchical Density-based Spatial Clustering of Applications with Noise (HDBSCAN) was used to partition the results of UMAP into sets."
   ]
  },
  {
   "cell_type": "code",
   "execution_count": 311,
   "metadata": {
    "ExecuteTime": {
     "end_time": "2021-06-08T16:10:19.408404Z",
     "start_time": "2021-06-08T16:10:19.403582Z"
    }
   },
   "outputs": [
    {
     "data": {
      "text/plain": [
       "array([-11.611993, -11.539447, -11.533755, ...,  18.097046,  18.0995  ,\n",
       "        18.090406], dtype=float32)"
      ]
     },
     "execution_count": 311,
     "metadata": {},
     "output_type": "execute_result"
    }
   ],
   "source": [
    "x_values"
   ]
  },
  {
   "cell_type": "code",
   "execution_count": null,
   "metadata": {
    "ExecuteTime": {
     "end_time": "2021-06-07T20:34:40.878050Z",
     "start_time": "2021-06-07T20:34:38.773Z"
    }
   },
   "outputs": [],
   "source": [
    "!pip install hdbscan"
   ]
  },
  {
   "cell_type": "code",
   "execution_count": null,
   "metadata": {
    "ExecuteTime": {
     "end_time": "2021-06-07T20:34:40.880510Z",
     "start_time": "2021-06-07T20:34:38.934Z"
    }
   },
   "outputs": [],
   "source": [
    "import hdbscan\n"
   ]
  },
  {
   "cell_type": "code",
   "execution_count": null,
   "metadata": {
    "ExecuteTime": {
     "end_time": "2021-06-07T20:34:40.883749Z",
     "start_time": "2021-06-07T20:34:39.110Z"
    }
   },
   "outputs": [],
   "source": [
    "from scipy.cluster.hierarchy import fcluster\n",
    "\n",
    "clusterer = hdbscan.HDBSCAN()"
   ]
  },
  {
   "cell_type": "code",
   "execution_count": null,
   "metadata": {
    "ExecuteTime": {
     "end_time": "2021-06-07T20:34:40.887080Z",
     "start_time": "2021-06-07T20:34:39.286Z"
    }
   },
   "outputs": [],
   "source": [
    "XY=np.stack(x_values,y_values)\n",
    "clusterer.fit(XY)\n",
    "Z = clusterer.single_linkage_tree_.to_numpy()\n",
    "labels = fcluster(Z, 2, criterion='maxclust')"
   ]
  },
  {
   "cell_type": "markdown",
   "metadata": {},
   "source": [
    "# TODO(feature augmentation): make histograms of single trials and compare to those of sets of trials."
   ]
  },
  {
   "cell_type": "markdown",
   "metadata": {
    "ExecuteTime": {
     "end_time": "2021-06-07T23:19:09.342523Z",
     "start_time": "2021-06-07T23:19:09.340161Z"
    }
   },
   "source": [
    "# TODO: dev integrate and fire model, \n",
    "where M(t,tau)= the vector of number of spikes that occured for the i^th neuron in the time interval from t-tau to t. Distance/Loss metric should reward more spiking."
   ]
  },
  {
   "cell_type": "markdown",
   "metadata": {},
   "source": [
    "# TODO: try out which metrics actually reproduce the single trial patter that I've been gunning for"
   ]
  },
  {
   "cell_type": "code",
   "execution_count": null,
   "metadata": {},
   "outputs": [],
   "source": []
  },
  {
   "cell_type": "code",
   "execution_count": null,
   "metadata": {},
   "outputs": [],
   "source": []
  },
  {
   "cell_type": "code",
   "execution_count": null,
   "metadata": {},
   "outputs": [],
   "source": []
  },
  {
   "cell_type": "code",
   "execution_count": null,
   "metadata": {},
   "outputs": [],
   "source": []
  },
  {
   "cell_type": "code",
   "execution_count": null,
   "metadata": {},
   "outputs": [],
   "source": []
  },
  {
   "cell_type": "code",
   "execution_count": null,
   "metadata": {},
   "outputs": [],
   "source": []
  },
  {
   "cell_type": "code",
   "execution_count": null,
   "metadata": {},
   "outputs": [],
   "source": []
  },
  {
   "cell_type": "code",
   "execution_count": null,
   "metadata": {},
   "outputs": [],
   "source": []
  },
  {
   "cell_type": "code",
   "execution_count": null,
   "metadata": {},
   "outputs": [],
   "source": []
  },
  {
   "cell_type": "code",
   "execution_count": null,
   "metadata": {},
   "outputs": [],
   "source": []
  }
 ],
 "metadata": {
  "kernelspec": {
   "display_name": "Python 3",
   "language": "python",
   "name": "python3"
  },
  "language_info": {
   "codemirror_mode": {
    "name": "ipython",
    "version": 3
   },
   "file_extension": ".py",
   "mimetype": "text/x-python",
   "name": "python",
   "nbconvert_exporter": "python",
   "pygments_lexer": "ipython3",
   "version": "3.7.6"
  },
  "toc": {
   "base_numbering": 1,
   "nav_menu": {},
   "number_sections": true,
   "sideBar": true,
   "skip_h1_title": false,
   "title_cell": "Table of Contents",
   "title_sidebar": "Contents",
   "toc_cell": false,
   "toc_position": {},
   "toc_section_display": true,
   "toc_window_display": false
  },
  "varInspector": {
   "cols": {
    "lenName": 16,
    "lenType": 16,
    "lenVar": 40
   },
   "kernels_config": {
    "python": {
     "delete_cmd_postfix": "",
     "delete_cmd_prefix": "del ",
     "library": "var_list.py",
     "varRefreshCmd": "print(var_dic_list())"
    },
    "r": {
     "delete_cmd_postfix": ") ",
     "delete_cmd_prefix": "rm(",
     "library": "var_list.r",
     "varRefreshCmd": "cat(var_dic_list()) "
    }
   },
   "types_to_exclude": [
    "module",
    "function",
    "builtin_function_or_method",
    "instance",
    "_Feature"
   ],
   "window_display": false
  }
 },
 "nbformat": 4,
 "nbformat_minor": 4
}
