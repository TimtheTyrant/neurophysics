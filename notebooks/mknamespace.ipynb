{
 "cells": [
  {
   "cell_type": "code",
   "execution_count": 1,
   "metadata": {
    "ExecuteTime": {
     "end_time": "2021-06-05T23:15:06.094319Z",
     "start_time": "2021-06-05T23:15:05.979163Z"
    }
   },
   "outputs": [
    {
     "name": "stdout",
     "output_type": "stream",
     "text": [
      "mkdir: cannot create directory ‘lib’: File exists\r\n",
      "mkdir: cannot create directory ‘Data’: File exists\r\n",
      "mkdir: cannot create directory ‘Figures’: File exists\r\n"
     ]
    }
   ],
   "source": [
    "#make my namespace\n",
    "!mkdir lib Data Figures"
   ]
  },
  {
   "cell_type": "code",
   "execution_count": 2,
   "metadata": {
    "ExecuteTime": {
     "end_time": "2021-06-05T23:15:06.369250Z",
     "start_time": "2021-06-05T23:15:06.252132Z"
    }
   },
   "outputs": [
    {
     "name": "stdout",
     "output_type": "stream",
     "text": [
      "mkdir: cannot create directory ‘lib/model’: File exists\r\n",
      "mkdir: cannot create directory ‘lib/viewer’: File exists\r\n",
      "mkdir: cannot create directory ‘lib/controller’: File exists\r\n",
      "mkdir: cannot create directory ‘lib/utils’: File exists\r\n",
      "mkdir: cannot create directory ‘lib/measures’: File exists\r\n",
      "mkdir: cannot create directory ‘lib/routines’: File exists\r\n"
     ]
    }
   ],
   "source": [
    "mkdir lib/model lib/viewer lib/controller lib/utils lib/measures lib/routines"
   ]
  },
  {
   "cell_type": "code",
   "execution_count": 3,
   "metadata": {
    "ExecuteTime": {
     "end_time": "2021-06-05T23:15:08.964204Z",
     "start_time": "2021-06-05T23:15:08.851817Z"
    }
   },
   "outputs": [],
   "source": [
    "!touch lib/model/__init__.py lib/viewer/__init__.py lib/controller/__init__.py lib/utils/__init__.py lib/measures/__init__.py lib/routines/__init__.py\n"
   ]
  },
  {
   "cell_type": "code",
   "execution_count": 4,
   "metadata": {
    "ExecuteTime": {
     "end_time": "2021-06-05T23:15:09.625885Z",
     "start_time": "2021-06-05T23:15:09.493908Z"
    }
   },
   "outputs": [],
   "source": [
    "!touch lib/__init__.py"
   ]
  },
  {
   "cell_type": "code",
   "execution_count": 5,
   "metadata": {
    "ExecuteTime": {
     "end_time": "2021-06-05T23:15:10.071387Z",
     "start_time": "2021-06-05T23:15:09.953674Z"
    }
   },
   "outputs": [
    {
     "name": "stdout",
     "output_type": "stream",
     "text": [
      "controller     __init__.py  model\t routines  viewer\r\n",
      "getterdone.py  measures     __pycache__  utils\r\n"
     ]
    }
   ],
   "source": [
    "!ls lib"
   ]
  },
  {
   "cell_type": "code",
   "execution_count": 6,
   "metadata": {
    "ExecuteTime": {
     "end_time": "2021-06-05T23:15:11.503917Z",
     "start_time": "2021-06-05T23:15:11.231109Z"
    }
   },
   "outputs": [],
   "source": [
    "from lib import *\n",
    "import numpy as np, pandas as pd, matplotlib.pyplot as plt#, scipy.io as sio\n"
   ]
  },
  {
   "cell_type": "code",
   "execution_count": 7,
   "metadata": {
    "ExecuteTime": {
     "end_time": "2021-06-05T23:15:12.558088Z",
     "start_time": "2021-06-05T23:15:12.084679Z"
    }
   },
   "outputs": [
    {
     "ename": "ModuleNotFoundError",
     "evalue": "No module named 'umap'",
     "output_type": "error",
     "traceback": [
      "\u001b[0;31m---------------------------------------------------------------------------\u001b[0m",
      "\u001b[0;31mModuleNotFoundError\u001b[0m                       Traceback (most recent call last)",
      "\u001b[0;32m<ipython-input-7-d5f1c6b0e5b2>\u001b[0m in \u001b[0;36m<module>\u001b[0;34m\u001b[0m\n\u001b[0;32m----> 1\u001b[0;31m \u001b[0;32mfrom\u001b[0m \u001b[0mlib\u001b[0m\u001b[0;34m.\u001b[0m\u001b[0mgetterdone\u001b[0m \u001b[0;32mimport\u001b[0m \u001b[0;34m*\u001b[0m\u001b[0;34m\u001b[0m\u001b[0;34m\u001b[0m\u001b[0m\n\u001b[0m",
      "\u001b[0;32m~/Documents/GitHub/neurophysics/notebooks/lib/getterdone.py\u001b[0m in \u001b[0;36m<module>\u001b[0;34m\u001b[0m\n\u001b[1;32m     13\u001b[0m \u001b[0;32mfrom\u001b[0m \u001b[0mIPython\u001b[0m\u001b[0;34m.\u001b[0m\u001b[0mdisplay\u001b[0m \u001b[0;32mimport\u001b[0m \u001b[0mHTML\u001b[0m\u001b[0;34m\u001b[0m\u001b[0;34m\u001b[0m\u001b[0m\n\u001b[1;32m     14\u001b[0m \u001b[0;32mfrom\u001b[0m \u001b[0msklearn\u001b[0m\u001b[0;34m.\u001b[0m\u001b[0mdatasets\u001b[0m \u001b[0;32mimport\u001b[0m \u001b[0mload_digits\u001b[0m\u001b[0;34m\u001b[0m\u001b[0;34m\u001b[0m\u001b[0m\n\u001b[0;32m---> 15\u001b[0;31m \u001b[0;32mfrom\u001b[0m \u001b[0mumap\u001b[0m \u001b[0;32mimport\u001b[0m \u001b[0mUMAP\u001b[0m\u001b[0;34m\u001b[0m\u001b[0;34m\u001b[0m\u001b[0m\n\u001b[0m\u001b[1;32m     16\u001b[0m \u001b[0;32mimport\u001b[0m \u001b[0mumap\u001b[0m\u001b[0;34m\u001b[0m\u001b[0;34m\u001b[0m\u001b[0m\n\u001b[1;32m     17\u001b[0m \u001b[0;32mimport\u001b[0m \u001b[0mseaborn\u001b[0m \u001b[0;32mas\u001b[0m \u001b[0msns\u001b[0m\u001b[0;34m\u001b[0m\u001b[0;34m\u001b[0m\u001b[0m\n",
      "\u001b[0;31mModuleNotFoundError\u001b[0m: No module named 'umap'"
     ]
    }
   ],
   "source": [
    "from lib.getterdone import *"
   ]
  },
  {
   "cell_type": "code",
   "execution_count": 8,
   "metadata": {
    "ExecuteTime": {
     "end_time": "2021-06-05T23:25:22.065889Z",
     "start_time": "2021-06-05T23:24:48.955039Z"
    }
   },
   "outputs": [
    {
     "name": "stdout",
     "output_type": "stream",
     "text": [
      "Collecting numba\n",
      "  Using cached numba-0.53.1-cp37-cp37m-manylinux2014_x86_64.whl (3.4 MB)\n",
      "Collecting numpy>=1.15\n",
      "  Using cached numpy-1.20.3-cp37-cp37m-manylinux_2_12_x86_64.manylinux2010_x86_64.whl (15.3 MB)\n",
      "Collecting llvmlite<0.37,>=0.36.0rc1\n",
      "  Using cached llvmlite-0.36.0-cp37-cp37m-manylinux2010_x86_64.whl (25.3 MB)\n",
      "Collecting setuptools\n",
      "  Using cached setuptools-57.0.0-py3-none-any.whl (821 kB)\n",
      "Installing collected packages: setuptools, numpy, llvmlite, numba\n",
      "Successfully installed llvmlite-0.36.0 numba-0.53.1 numpy-1.20.3 setuptools-57.0.0\n",
      "Collecting umap-learn\n",
      "  Using cached umap_learn-0.5.1-py3-none-any.whl\n",
      "Requirement already satisfied: numba>=0.49 in /home/timothytyree/anaconda3/lib/python3.7/site-packages (from umap-learn) (0.53.1)\n",
      "Requirement already satisfied: scipy>=1.0 in /home/timothytyree/anaconda3/lib/python3.7/site-packages (from umap-learn) (1.4.1)\n",
      "Requirement already satisfied: scikit-learn>=0.22 in /home/timothytyree/anaconda3/lib/python3.7/site-packages (from umap-learn) (0.22.1)\n",
      "Collecting pynndescent>=0.5\n",
      "  Using cached pynndescent-0.5.2-py3-none-any.whl\n",
      "Requirement already satisfied: numpy>=1.17 in /home/timothytyree/anaconda3/lib/python3.7/site-packages (from umap-learn) (1.20.3)\n",
      "Requirement already satisfied: llvmlite<0.37,>=0.36.0rc1 in /home/timothytyree/anaconda3/lib/python3.7/site-packages (from numba>=0.49->umap-learn) (0.36.0)\n",
      "Requirement already satisfied: setuptools in /home/timothytyree/anaconda3/lib/python3.7/site-packages (from numba>=0.49->umap-learn) (57.0.0)\n",
      "Requirement already satisfied: joblib>=0.11 in /home/timothytyree/anaconda3/lib/python3.7/site-packages (from pynndescent>=0.5->umap-learn) (0.14.1)\n",
      "Installing collected packages: pynndescent, umap-learn\n",
      "Successfully installed pynndescent-0.5.2 umap-learn-0.5.1\n",
      "Requirement already satisfied: umap-learn[plot] in /home/timothytyree/anaconda3/lib/python3.7/site-packages (0.5.1)\n",
      "Requirement already satisfied: scikit-learn>=0.22 in /home/timothytyree/anaconda3/lib/python3.7/site-packages (from umap-learn[plot]) (0.22.1)\n",
      "Requirement already satisfied: numba>=0.49 in /home/timothytyree/anaconda3/lib/python3.7/site-packages (from umap-learn[plot]) (0.53.1)\n",
      "Requirement already satisfied: pynndescent>=0.5 in /home/timothytyree/anaconda3/lib/python3.7/site-packages (from umap-learn[plot]) (0.5.2)\n",
      "Requirement already satisfied: numpy>=1.17 in /home/timothytyree/anaconda3/lib/python3.7/site-packages (from umap-learn[plot]) (1.20.3)\n",
      "Requirement already satisfied: scipy>=1.0 in /home/timothytyree/anaconda3/lib/python3.7/site-packages (from umap-learn[plot]) (1.4.1)\n",
      "Collecting datashader\n",
      "  Using cached datashader-0.12.1-py2.py3-none-any.whl (15.8 MB)\n",
      "Requirement already satisfied: matplotlib in /home/timothytyree/anaconda3/lib/python3.7/site-packages (from umap-learn[plot]) (3.1.3)\n",
      "Collecting holoviews\n",
      "  Using cached holoviews-1.14.4-py2.py3-none-any.whl (4.3 MB)\n",
      "Collecting colorcet\n",
      "  Using cached colorcet-2.0.6-py2.py3-none-any.whl (1.6 MB)\n",
      "Requirement already satisfied: pandas in /home/timothytyree/anaconda3/lib/python3.7/site-packages (from umap-learn[plot]) (1.0.3)\n",
      "Requirement already satisfied: bokeh in /home/timothytyree/anaconda3/lib/python3.7/site-packages (from umap-learn[plot]) (1.4.0)\n",
      "Requirement already satisfied: scikit-image in /home/timothytyree/anaconda3/lib/python3.7/site-packages (from umap-learn[plot]) (0.16.2)\n",
      "Requirement already satisfied: seaborn in /home/timothytyree/anaconda3/lib/python3.7/site-packages (from umap-learn[plot]) (0.10.0)\n",
      "Requirement already satisfied: setuptools in /home/timothytyree/anaconda3/lib/python3.7/site-packages (from numba>=0.49->umap-learn[plot]) (57.0.0)\n",
      "Requirement already satisfied: llvmlite<0.37,>=0.36.0rc1 in /home/timothytyree/anaconda3/lib/python3.7/site-packages (from numba>=0.49->umap-learn[plot]) (0.36.0)\n",
      "Requirement already satisfied: joblib>=0.11 in /home/timothytyree/anaconda3/lib/python3.7/site-packages (from pynndescent>=0.5->umap-learn[plot]) (0.14.1)\n",
      "Requirement already satisfied: pillow>=4.0 in /home/timothytyree/anaconda3/lib/python3.7/site-packages (from bokeh->umap-learn[plot]) (8.2.0)\n",
      "Requirement already satisfied: tornado>=4.3 in /home/timothytyree/anaconda3/lib/python3.7/site-packages (from bokeh->umap-learn[plot]) (6.0.3)\n",
      "Requirement already satisfied: six>=1.5.2 in /home/timothytyree/anaconda3/lib/python3.7/site-packages (from bokeh->umap-learn[plot]) (1.15.0)\n",
      "Requirement already satisfied: PyYAML>=3.10 in /home/timothytyree/anaconda3/lib/python3.7/site-packages (from bokeh->umap-learn[plot]) (5.3)\n",
      "Requirement already satisfied: python-dateutil>=2.1 in /home/timothytyree/anaconda3/lib/python3.7/site-packages (from bokeh->umap-learn[plot]) (2.8.1)\n",
      "Requirement already satisfied: packaging>=16.8 in /home/timothytyree/anaconda3/lib/python3.7/site-packages (from bokeh->umap-learn[plot]) (20.1)\n",
      "Requirement already satisfied: Jinja2>=2.7 in /home/timothytyree/anaconda3/lib/python3.7/site-packages (from bokeh->umap-learn[plot]) (2.11.1)\n",
      "Requirement already satisfied: MarkupSafe>=0.23 in /home/timothytyree/anaconda3/lib/python3.7/site-packages (from Jinja2>=2.7->bokeh->umap-learn[plot]) (1.1.1)\n",
      "Requirement already satisfied: pyparsing>=2.0.2 in /home/timothytyree/anaconda3/lib/python3.7/site-packages (from packaging>=16.8->bokeh->umap-learn[plot]) (2.4.6)\n",
      "Requirement already satisfied: param>=1.7.0 in /home/timothytyree/anaconda3/lib/python3.7/site-packages (from colorcet->umap-learn[plot]) (1.10.1)\n",
      "Collecting pyct>=0.4.4\n",
      "  Using cached pyct-0.4.8-py2.py3-none-any.whl (15 kB)\n",
      "Requirement already satisfied: toolz>=0.7.4 in /home/timothytyree/anaconda3/lib/python3.7/site-packages (from datashader->umap-learn[plot]) (0.10.0)\n",
      "Requirement already satisfied: dask[complete]>=0.18.0 in /home/timothytyree/anaconda3/lib/python3.7/site-packages (from datashader->umap-learn[plot]) (2.11.0)\n",
      "Collecting datashape>=0.5.1\n",
      "  Using cached datashape-0.5.2-py3-none-any.whl\n",
      "Collecting xarray>=0.9.6\n",
      "  Using cached xarray-0.18.2-py3-none-any.whl (807 kB)\n",
      "Requirement already satisfied: fsspec>=0.6.0 in /home/timothytyree/anaconda3/lib/python3.7/site-packages (from dask[complete]>=0.18.0->datashader->umap-learn[plot]) (0.6.2)\n",
      "Requirement already satisfied: distributed>=2.0 in /home/timothytyree/anaconda3/lib/python3.7/site-packages (from dask[complete]>=0.18.0->datashader->umap-learn[plot]) (2.11.0)\n",
      "Requirement already satisfied: cloudpickle>=0.2.1 in /home/timothytyree/anaconda3/lib/python3.7/site-packages (from dask[complete]>=0.18.0->datashader->umap-learn[plot]) (1.3.0)\n",
      "Requirement already satisfied: partd>=0.3.10 in /home/timothytyree/anaconda3/lib/python3.7/site-packages (from dask[complete]>=0.18.0->datashader->umap-learn[plot]) (1.1.0)\n",
      "Requirement already satisfied: multipledispatch>=0.4.7 in /home/timothytyree/anaconda3/lib/python3.7/site-packages (from datashape>=0.5.1->datashader->umap-learn[plot]) (0.6.0)\n",
      "Requirement already satisfied: zict>=0.1.3 in /home/timothytyree/anaconda3/lib/python3.7/site-packages (from distributed>=2.0->dask[complete]>=0.18.0->datashader->umap-learn[plot]) (1.0.0)\n",
      "Requirement already satisfied: tblib>=1.6.0 in /home/timothytyree/anaconda3/lib/python3.7/site-packages (from distributed>=2.0->dask[complete]>=0.18.0->datashader->umap-learn[plot]) (1.6.0)\n",
      "Requirement already satisfied: click>=6.6 in /home/timothytyree/anaconda3/lib/python3.7/site-packages (from distributed>=2.0->dask[complete]>=0.18.0->datashader->umap-learn[plot]) (7.0)\n",
      "Requirement already satisfied: sortedcontainers!=2.0.0,!=2.0.1 in /home/timothytyree/anaconda3/lib/python3.7/site-packages (from distributed>=2.0->dask[complete]>=0.18.0->datashader->umap-learn[plot]) (2.1.0)\n",
      "Requirement already satisfied: msgpack>=0.6.0 in /home/timothytyree/anaconda3/lib/python3.7/site-packages (from distributed>=2.0->dask[complete]>=0.18.0->datashader->umap-learn[plot]) (0.6.1)\n",
      "Requirement already satisfied: psutil>=5.0 in /home/timothytyree/anaconda3/lib/python3.7/site-packages (from distributed>=2.0->dask[complete]>=0.18.0->datashader->umap-learn[plot]) (5.6.7)\n",
      "Requirement already satisfied: pytz>=2017.2 in /home/timothytyree/anaconda3/lib/python3.7/site-packages (from pandas->umap-learn[plot]) (2019.3)\n",
      "Requirement already satisfied: locket in /home/timothytyree/anaconda3/lib/python3.7/site-packages (from partd>=0.3.10->dask[complete]>=0.18.0->datashader->umap-learn[plot]) (0.2.0)\n"
     ]
    },
    {
     "name": "stdout",
     "output_type": "stream",
     "text": [
      "Requirement already satisfied: heapdict in /home/timothytyree/anaconda3/lib/python3.7/site-packages (from zict>=0.1.3->distributed>=2.0->dask[complete]>=0.18.0->datashader->umap-learn[plot]) (1.0.1)\n",
      "Collecting panel>=0.8.0\n",
      "  Using cached panel-0.11.3-py2.py3-none-any.whl (9.0 MB)\n",
      "Collecting pyviz-comms>=0.7.4\n",
      "  Using cached pyviz_comms-2.0.1-py2.py3-none-any.whl (240 kB)\n",
      "Collecting markdown\n",
      "  Using cached Markdown-3.3.4-py3-none-any.whl (97 kB)\n",
      "Requirement already satisfied: requests in /home/timothytyree/anaconda3/lib/python3.7/site-packages (from panel>=0.8.0->holoviews->umap-learn[plot]) (2.22.0)\n",
      "Collecting bokeh\n",
      "  Using cached bokeh-2.3.2-py3-none-any.whl\n",
      "Requirement already satisfied: tqdm in /home/timothytyree/anaconda3/lib/python3.7/site-packages (from panel>=0.8.0->holoviews->umap-learn[plot]) (4.42.1)\n",
      "Requirement already satisfied: typing-extensions>=3.7.4 in /home/timothytyree/anaconda3/lib/python3.7/site-packages (from bokeh->umap-learn[plot]) (3.10.0.0)\n",
      "Requirement already satisfied: importlib-metadata in /home/timothytyree/anaconda3/lib/python3.7/site-packages (from markdown->panel>=0.8.0->holoviews->umap-learn[plot]) (1.5.0)\n",
      "Requirement already satisfied: zipp>=0.5 in /home/timothytyree/anaconda3/lib/python3.7/site-packages (from importlib-metadata->markdown->panel>=0.8.0->holoviews->umap-learn[plot]) (2.2.0)\n",
      "Requirement already satisfied: kiwisolver>=1.0.1 in /home/timothytyree/anaconda3/lib/python3.7/site-packages (from matplotlib->umap-learn[plot]) (1.1.0)\n",
      "Requirement already satisfied: cycler>=0.10 in /home/timothytyree/anaconda3/lib/python3.7/site-packages (from matplotlib->umap-learn[plot]) (0.10.0)\n",
      "Requirement already satisfied: urllib3!=1.25.0,!=1.25.1,<1.26,>=1.21.1 in /home/timothytyree/anaconda3/lib/python3.7/site-packages (from requests->panel>=0.8.0->holoviews->umap-learn[plot]) (1.25.8)\n",
      "Requirement already satisfied: idna<2.9,>=2.5 in /home/timothytyree/anaconda3/lib/python3.7/site-packages (from requests->panel>=0.8.0->holoviews->umap-learn[plot]) (2.8)\n",
      "Requirement already satisfied: chardet<3.1.0,>=3.0.2 in /home/timothytyree/anaconda3/lib/python3.7/site-packages (from requests->panel>=0.8.0->holoviews->umap-learn[plot]) (3.0.4)\n",
      "Requirement already satisfied: certifi>=2017.4.17 in /home/timothytyree/anaconda3/lib/python3.7/site-packages (from requests->panel>=0.8.0->holoviews->umap-learn[plot]) (2019.11.28)\n",
      "Requirement already satisfied: PyWavelets>=0.4.0 in /home/timothytyree/anaconda3/lib/python3.7/site-packages (from scikit-image->umap-learn[plot]) (1.1.1)\n",
      "Requirement already satisfied: imageio>=2.3.0 in /home/timothytyree/anaconda3/lib/python3.7/site-packages (from scikit-image->umap-learn[plot]) (2.6.1)\n",
      "Requirement already satisfied: networkx>=2.0 in /home/timothytyree/anaconda3/lib/python3.7/site-packages (from scikit-image->umap-learn[plot]) (2.4)\n",
      "Requirement already satisfied: decorator>=4.3.0 in /home/timothytyree/anaconda3/lib/python3.7/site-packages (from networkx>=2.0->scikit-image->umap-learn[plot]) (4.4.1)\n",
      "Installing collected packages: pyviz-comms, pyct, markdown, bokeh, xarray, panel, datashape, colorcet, holoviews, datashader\n",
      "  Attempting uninstall: bokeh\n",
      "    Found existing installation: bokeh 1.4.0\n",
      "    Uninstalling bokeh-1.4.0:\n",
      "      Successfully uninstalled bokeh-1.4.0\n",
      "Successfully installed bokeh-2.3.2 colorcet-2.0.6 datashader-0.12.1 datashape-0.5.2 holoviews-1.14.4 markdown-3.3.4 panel-0.11.3 pyct-0.4.8 pyviz-comms-2.0.1 xarray-0.18.2\n",
      "Requirement already satisfied: umap-learn[parametric_umap] in /home/timothytyree/anaconda3/lib/python3.7/site-packages (0.5.1)\n",
      "Requirement already satisfied: scikit-learn>=0.22 in /home/timothytyree/anaconda3/lib/python3.7/site-packages (from umap-learn[parametric_umap]) (0.22.1)\n",
      "Requirement already satisfied: scipy>=1.0 in /home/timothytyree/anaconda3/lib/python3.7/site-packages (from umap-learn[parametric_umap]) (1.4.1)\n",
      "Requirement already satisfied: pynndescent>=0.5 in /home/timothytyree/anaconda3/lib/python3.7/site-packages (from umap-learn[parametric_umap]) (0.5.2)\n",
      "Requirement already satisfied: numba>=0.49 in /home/timothytyree/anaconda3/lib/python3.7/site-packages (from umap-learn[parametric_umap]) (0.53.1)\n",
      "Requirement already satisfied: numpy>=1.17 in /home/timothytyree/anaconda3/lib/python3.7/site-packages (from umap-learn[parametric_umap]) (1.20.3)\n",
      "Collecting tensorflow>=2.1\n",
      "  Using cached tensorflow-2.5.0-cp37-cp37m-manylinux2010_x86_64.whl (454.3 MB)\n",
      "Requirement already satisfied: llvmlite<0.37,>=0.36.0rc1 in /home/timothytyree/anaconda3/lib/python3.7/site-packages (from numba>=0.49->umap-learn[parametric_umap]) (0.36.0)\n",
      "Requirement already satisfied: setuptools in /home/timothytyree/anaconda3/lib/python3.7/site-packages (from numba>=0.49->umap-learn[parametric_umap]) (57.0.0)\n",
      "Requirement already satisfied: joblib>=0.11 in /home/timothytyree/anaconda3/lib/python3.7/site-packages (from pynndescent>=0.5->umap-learn[parametric_umap]) (0.14.1)\n",
      "Collecting termcolor~=1.1.0\n",
      "  Using cached termcolor-1.1.0-py3-none-any.whl\n",
      "Collecting wrapt~=1.12.1\n",
      "  Using cached wrapt-1.12.1-cp37-cp37m-linux_x86_64.whl\n",
      "Collecting tensorflow-estimator<2.6.0,>=2.5.0rc0\n",
      "  Using cached tensorflow_estimator-2.5.0-py2.py3-none-any.whl (462 kB)\n",
      "Collecting grpcio~=1.34.0\n",
      "  Using cached grpcio-1.34.1-cp37-cp37m-manylinux2014_x86_64.whl (4.0 MB)\n",
      "Requirement already satisfied: opt-einsum~=3.3.0 in /home/timothytyree/anaconda3/lib/python3.7/site-packages (from tensorflow>=2.1->umap-learn[parametric_umap]) (3.3.0)\n",
      "Collecting keras-preprocessing~=1.1.2\n",
      "  Using cached Keras_Preprocessing-1.1.2-py2.py3-none-any.whl (42 kB)\n",
      "Collecting keras-nightly~=2.5.0.dev\n",
      "  Using cached keras_nightly-2.5.0.dev2021032900-py2.py3-none-any.whl (1.2 MB)\n",
      "Collecting google-pasta~=0.2\n",
      "  Using cached google_pasta-0.2.0-py3-none-any.whl (57 kB)\n",
      "Requirement already satisfied: wheel~=0.35 in /home/timothytyree/anaconda3/lib/python3.7/site-packages (from tensorflow>=2.1->umap-learn[parametric_umap]) (0.35.1)\n",
      "Collecting numpy>=1.17\n",
      "  Using cached numpy-1.19.5-cp37-cp37m-manylinux2010_x86_64.whl (14.8 MB)\n",
      "Collecting h5py~=3.1.0\n",
      "  Using cached h5py-3.1.0-cp37-cp37m-manylinux1_x86_64.whl (4.0 MB)\n",
      "Collecting protobuf>=3.9.2\n",
      "  Using cached protobuf-3.17.2-cp37-cp37m-manylinux_2_5_x86_64.manylinux1_x86_64.whl (1.0 MB)\n",
      "Requirement already satisfied: six~=1.15.0 in /home/timothytyree/anaconda3/lib/python3.7/site-packages (from tensorflow>=2.1->umap-learn[parametric_umap]) (1.15.0)\n",
      "Collecting astunparse~=1.6.3\n",
      "  Using cached astunparse-1.6.3-py2.py3-none-any.whl (12 kB)\n",
      "Requirement already satisfied: flatbuffers~=1.12.0 in /home/timothytyree/anaconda3/lib/python3.7/site-packages (from tensorflow>=2.1->umap-learn[parametric_umap]) (1.12)\n",
      "Collecting tensorboard~=2.5\n",
      "  Using cached tensorboard-2.5.0-py3-none-any.whl (6.0 MB)\n",
      "Requirement already satisfied: absl-py~=0.10 in /home/timothytyree/anaconda3/lib/python3.7/site-packages (from tensorflow>=2.1->umap-learn[parametric_umap]) (0.11.0)\n",
      "Collecting gast==0.4.0\n",
      "  Using cached gast-0.4.0-py3-none-any.whl (9.8 kB)\n",
      "Collecting typing-extensions~=3.7.4\n",
      "  Using cached typing_extensions-3.7.4.3-py3-none-any.whl (22 kB)\n",
      "Collecting cached-property\n",
      "  Using cached cached_property-1.5.2-py2.py3-none-any.whl (7.6 kB)\n",
      "Collecting google-auth<2,>=1.6.3\n",
      "  Using cached google_auth-1.30.1-py2.py3-none-any.whl (146 kB)\n",
      "Collecting google-auth-oauthlib<0.5,>=0.4.1\n",
      "  Using cached google_auth_oauthlib-0.4.4-py2.py3-none-any.whl (18 kB)\n",
      "Collecting tensorboard-data-server<0.7.0,>=0.6.0\n",
      "  Using cached tensorboard_data_server-0.6.1-py3-none-manylinux2010_x86_64.whl (4.9 MB)\n",
      "Requirement already satisfied: werkzeug>=0.11.15 in /home/timothytyree/anaconda3/lib/python3.7/site-packages (from tensorboard~=2.5->tensorflow>=2.1->umap-learn[parametric_umap]) (1.0.0)\n",
      "Requirement already satisfied: requests<3,>=2.21.0 in /home/timothytyree/anaconda3/lib/python3.7/site-packages (from tensorboard~=2.5->tensorflow>=2.1->umap-learn[parametric_umap]) (2.22.0)\n",
      "Requirement already satisfied: markdown>=2.6.8 in /home/timothytyree/anaconda3/lib/python3.7/site-packages (from tensorboard~=2.5->tensorflow>=2.1->umap-learn[parametric_umap]) (3.3.4)\n",
      "Collecting tensorboard-plugin-wit>=1.6.0\n",
      "  Using cached tensorboard_plugin_wit-1.8.0-py3-none-any.whl (781 kB)\n",
      "Requirement already satisfied: pyasn1-modules>=0.2.1 in /home/timothytyree/anaconda3/lib/python3.7/site-packages (from google-auth<2,>=1.6.3->tensorboard~=2.5->tensorflow>=2.1->umap-learn[parametric_umap]) (0.2.8)\n",
      "Requirement already satisfied: rsa<5,>=3.1.4 in /home/timothytyree/anaconda3/lib/python3.7/site-packages (from google-auth<2,>=1.6.3->tensorboard~=2.5->tensorflow>=2.1->umap-learn[parametric_umap]) (4.7.2)\n",
      "Requirement already satisfied: cachetools<5.0,>=2.0.0 in /home/timothytyree/anaconda3/lib/python3.7/site-packages (from google-auth<2,>=1.6.3->tensorboard~=2.5->tensorflow>=2.1->umap-learn[parametric_umap]) (4.2.2)\n"
     ]
    },
    {
     "name": "stdout",
     "output_type": "stream",
     "text": [
      "Requirement already satisfied: requests-oauthlib>=0.7.0 in /home/timothytyree/anaconda3/lib/python3.7/site-packages (from google-auth-oauthlib<0.5,>=0.4.1->tensorboard~=2.5->tensorflow>=2.1->umap-learn[parametric_umap]) (1.3.0)\n",
      "Requirement already satisfied: importlib-metadata in /home/timothytyree/anaconda3/lib/python3.7/site-packages (from markdown>=2.6.8->tensorboard~=2.5->tensorflow>=2.1->umap-learn[parametric_umap]) (1.5.0)\n",
      "Requirement already satisfied: pyasn1<0.5.0,>=0.4.6 in /home/timothytyree/anaconda3/lib/python3.7/site-packages (from pyasn1-modules>=0.2.1->google-auth<2,>=1.6.3->tensorboard~=2.5->tensorflow>=2.1->umap-learn[parametric_umap]) (0.4.8)\n",
      "Requirement already satisfied: urllib3!=1.25.0,!=1.25.1,<1.26,>=1.21.1 in /home/timothytyree/anaconda3/lib/python3.7/site-packages (from requests<3,>=2.21.0->tensorboard~=2.5->tensorflow>=2.1->umap-learn[parametric_umap]) (1.25.8)\n",
      "Requirement already satisfied: idna<2.9,>=2.5 in /home/timothytyree/anaconda3/lib/python3.7/site-packages (from requests<3,>=2.21.0->tensorboard~=2.5->tensorflow>=2.1->umap-learn[parametric_umap]) (2.8)\n",
      "Requirement already satisfied: chardet<3.1.0,>=3.0.2 in /home/timothytyree/anaconda3/lib/python3.7/site-packages (from requests<3,>=2.21.0->tensorboard~=2.5->tensorflow>=2.1->umap-learn[parametric_umap]) (3.0.4)\n",
      "Requirement already satisfied: certifi>=2017.4.17 in /home/timothytyree/anaconda3/lib/python3.7/site-packages (from requests<3,>=2.21.0->tensorboard~=2.5->tensorflow>=2.1->umap-learn[parametric_umap]) (2019.11.28)\n",
      "Requirement already satisfied: oauthlib>=3.0.0 in /home/timothytyree/anaconda3/lib/python3.7/site-packages (from requests-oauthlib>=0.7.0->google-auth-oauthlib<0.5,>=0.4.1->tensorboard~=2.5->tensorflow>=2.1->umap-learn[parametric_umap]) (3.1.1)\n",
      "Requirement already satisfied: zipp>=0.5 in /home/timothytyree/anaconda3/lib/python3.7/site-packages (from importlib-metadata->markdown>=2.6.8->tensorboard~=2.5->tensorflow>=2.1->umap-learn[parametric_umap]) (2.2.0)\n",
      "Installing collected packages: numpy, google-auth, tensorboard-plugin-wit, tensorboard-data-server, protobuf, grpcio, google-auth-oauthlib, cached-property, wrapt, typing-extensions, termcolor, tensorflow-estimator, tensorboard, keras-preprocessing, keras-nightly, h5py, google-pasta, gast, astunparse, tensorflow\n",
      "  Attempting uninstall: numpy\n",
      "    Found existing installation: numpy 1.20.3\n",
      "    Uninstalling numpy-1.20.3:\n",
      "      Successfully uninstalled numpy-1.20.3\n",
      "  Attempting uninstall: wrapt\n",
      "    Found existing installation: wrapt 1.11.2\n",
      "    Uninstalling wrapt-1.11.2:\n",
      "      Successfully uninstalled wrapt-1.11.2\n",
      "  Attempting uninstall: typing-extensions\n",
      "    Found existing installation: typing-extensions 3.10.0.0\n",
      "    Uninstalling typing-extensions-3.10.0.0:\n",
      "      Successfully uninstalled typing-extensions-3.10.0.0\n",
      "  Attempting uninstall: h5py\n",
      "    Found existing installation: h5py 2.10.0\n",
      "    Uninstalling h5py-2.10.0:\n",
      "      Successfully uninstalled h5py-2.10.0\n",
      "\u001b[31mERROR: pip's dependency resolver does not currently take into account all the packages that are installed. This behaviour is the source of the following dependency conflicts.\n",
      "astroid 2.3.3 requires typed-ast<1.5,>=1.4.0; implementation_name == \"cpython\" and python_version < \"3.8\", which is not installed.\n",
      "astroid 2.3.3 requires wrapt==1.11.*, but you have wrapt 1.12.1 which is incompatible.\u001b[0m\n",
      "Successfully installed astunparse-1.6.3 cached-property-1.5.2 gast-0.4.0 google-auth-1.30.1 google-auth-oauthlib-0.4.4 google-pasta-0.2.0 grpcio-1.34.1 h5py-3.1.0 keras-nightly-2.5.0.dev2021032900 keras-preprocessing-1.1.2 numpy-1.19.5 protobuf-3.17.2 tensorboard-2.5.0 tensorboard-data-server-0.6.1 tensorboard-plugin-wit-1.8.0 tensorflow-2.5.0 tensorflow-estimator-2.5.0 termcolor-1.1.0 typing-extensions-3.7.4.3 wrapt-1.12.1\n"
     ]
    }
   ],
   "source": [
    "#install the goodies\n",
    "!pip install numba --ignore-installed\n",
    "!pip install umap-learn\n",
    "!pip install umap-learn[plot]\n",
    "!pip install umap-learn[parametric_umap]"
   ]
  },
  {
   "cell_type": "code",
   "execution_count": null,
   "metadata": {},
   "outputs": [],
   "source": []
  }
 ],
 "metadata": {
  "kernelspec": {
   "display_name": "Python 3",
   "language": "python",
   "name": "python3"
  },
  "language_info": {
   "codemirror_mode": {
    "name": "ipython",
    "version": 3
   },
   "file_extension": ".py",
   "mimetype": "text/x-python",
   "name": "python",
   "nbconvert_exporter": "python",
   "pygments_lexer": "ipython3",
   "version": "3.7.6"
  },
  "toc": {
   "base_numbering": 1,
   "nav_menu": {},
   "number_sections": true,
   "sideBar": true,
   "skip_h1_title": false,
   "title_cell": "Table of Contents",
   "title_sidebar": "Contents",
   "toc_cell": false,
   "toc_position": {},
   "toc_section_display": true,
   "toc_window_display": false
  },
  "varInspector": {
   "cols": {
    "lenName": 16,
    "lenType": 16,
    "lenVar": 40
   },
   "kernels_config": {
    "python": {
     "delete_cmd_postfix": "",
     "delete_cmd_prefix": "del ",
     "library": "var_list.py",
     "varRefreshCmd": "print(var_dic_list())"
    },
    "r": {
     "delete_cmd_postfix": ") ",
     "delete_cmd_prefix": "rm(",
     "library": "var_list.r",
     "varRefreshCmd": "cat(var_dic_list()) "
    }
   },
   "types_to_exclude": [
    "module",
    "function",
    "builtin_function_or_method",
    "instance",
    "_Feature"
   ],
   "window_display": false
  }
 },
 "nbformat": 4,
 "nbformat_minor": 4
}
