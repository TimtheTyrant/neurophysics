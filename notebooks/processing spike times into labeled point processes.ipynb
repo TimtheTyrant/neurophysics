{
 "cells": [
  {
   "cell_type": "markdown",
   "metadata": {},
   "source": [
    "# processing spike times into labeled point processes\n",
    "Tim Tyree<br>\n",
    "6.6.2021"
   ]
  },
  {
   "cell_type": "markdown",
   "metadata": {},
   "source": [
    "Let $t\\in[0.15,1.5)$ seconds define the dubiety interval (red), $t\\in[1.5,2.5)$ seconds define the decision interval (yellow), and $t>2.5$ seconds define the reflection interval.\n",
    "\n",
    "Trials starting before the last identified neuron spikes for the first time are discarded. \n",
    "This guarantees the same state space that is well-defined for all observations."
   ]
  },
  {
   "cell_type": "code",
   "execution_count": 1,
   "metadata": {
    "ExecuteTime": {
     "end_time": "2021-06-07T02:47:25.282876Z",
     "start_time": "2021-06-07T02:47:14.535866Z"
    }
   },
   "outputs": [],
   "source": [
    "from lib.getterdone import *\n",
    "%load_ext autoreload\n",
    "%autoreload 2"
   ]
  },
  {
   "cell_type": "code",
   "execution_count": 2,
   "metadata": {
    "ExecuteTime": {
     "end_time": "2021-06-07T02:47:27.918903Z",
     "start_time": "2021-06-07T02:47:25.284294Z"
    }
   },
   "outputs": [
    {
     "name": "stdout",
     "output_type": "stream",
     "text": [
      "61\n"
     ]
    }
   ],
   "source": [
    "#load a single set of trials into notebook memory\n",
    "data_folder=f\"{nb_dir}/Data/Archie\"\n",
    "modname=\"Archie_SRT_Set212_Subset1_200520_165716_\"\n",
    "t_min_considered, number_of_neurons, dict_spike_times, dict_trial_times, dict_trial_data = load_dataset(modname,data_folder)"
   ]
  },
  {
   "cell_type": "code",
   "execution_count": 3,
   "metadata": {
    "ExecuteTime": {
     "end_time": "2021-06-07T02:47:45.760274Z",
     "start_time": "2021-06-07T02:47:27.920212Z"
    }
   },
   "outputs": [
    {
     "name": "stdout",
     "output_type": "stream",
     "text": [
      "413 trials successfully parsed into 22043 observations.\n",
      "this point-process measure is embedded into $\\mathbb{R}^{+d}$ real Euclidean space of dimension d=61.\n"
     ]
    }
   ],
   "source": [
    "#compute the point process model\n",
    "nid_self,target,data,trialnum_values,t_values=compute_point_process_data(t_min_considered, number_of_neurons, dict_spike_times, dict_trial_times, dict_trial_data,printing=True)"
   ]
  },
  {
   "cell_type": "code",
   "execution_count": 4,
   "metadata": {
    "ExecuteTime": {
     "end_time": "2021-06-07T02:47:45.787912Z",
     "start_time": "2021-06-07T02:47:45.761485Z"
    }
   },
   "outputs": [
    {
     "data": {
      "text/plain": [
       "(22043, 61)"
      ]
     },
     "execution_count": 4,
     "metadata": {},
     "output_type": "execute_result"
    }
   ],
   "source": [
    "data.shape"
   ]
  },
  {
   "cell_type": "code",
   "execution_count": 5,
   "metadata": {
    "ExecuteTime": {
     "end_time": "2021-06-07T02:47:45.813611Z",
     "start_time": "2021-06-07T02:47:45.788732Z"
    }
   },
   "outputs": [
    {
     "data": {
      "text/plain": [
       "(22043,)"
      ]
     },
     "execution_count": 5,
     "metadata": {},
     "output_type": "execute_result"
    }
   ],
   "source": [
    "target.shape"
   ]
  },
  {
   "cell_type": "code",
   "execution_count": 6,
   "metadata": {
    "ExecuteTime": {
     "end_time": "2021-06-07T02:47:45.841254Z",
     "start_time": "2021-06-07T02:47:45.815576Z"
    }
   },
   "outputs": [
    {
     "data": {
      "text/plain": [
       "(22043,)"
      ]
     },
     "execution_count": 6,
     "metadata": {},
     "output_type": "execute_result"
    }
   ],
   "source": [
    "trialnum_values.shape"
   ]
  },
  {
   "cell_type": "code",
   "execution_count": 7,
   "metadata": {
    "ExecuteTime": {
     "end_time": "2021-06-07T02:47:46.716852Z",
     "start_time": "2021-06-07T02:47:45.842904Z"
    }
   },
   "outputs": [],
   "source": [
    "#save as compressed numpy array\n",
    "save_folder=f\"{nb_dir}/Data/point-processes\"\n",
    "save_fn=modname+f'pointProcess_{nid_self}_compressed.npz'\n",
    "if not os.path.exists(save_folder):\n",
    "    os.mkdir(save_folder)\n",
    "    np.savez_compressed(save_fn, target=target,data=data,trialnum_values=trialnum_values)"
   ]
  },
  {
   "cell_type": "code",
   "execution_count": null,
   "metadata": {},
   "outputs": [],
   "source": []
  }
 ],
 "metadata": {
  "kernelspec": {
   "display_name": "Python 3",
   "language": "python",
   "name": "python3"
  },
  "language_info": {
   "codemirror_mode": {
    "name": "ipython",
    "version": 3
   },
   "file_extension": ".py",
   "mimetype": "text/x-python",
   "name": "python",
   "nbconvert_exporter": "python",
   "pygments_lexer": "ipython3",
   "version": "3.7.6"
  },
  "toc": {
   "base_numbering": 1,
   "nav_menu": {},
   "number_sections": true,
   "sideBar": true,
   "skip_h1_title": false,
   "title_cell": "Table of Contents",
   "title_sidebar": "Contents",
   "toc_cell": false,
   "toc_position": {},
   "toc_section_display": true,
   "toc_window_display": false
  },
  "varInspector": {
   "cols": {
    "lenName": 16,
    "lenType": 16,
    "lenVar": 40
   },
   "kernels_config": {
    "python": {
     "delete_cmd_postfix": "",
     "delete_cmd_prefix": "del ",
     "library": "var_list.py",
     "varRefreshCmd": "print(var_dic_list())"
    },
    "r": {
     "delete_cmd_postfix": ") ",
     "delete_cmd_prefix": "rm(",
     "library": "var_list.r",
     "varRefreshCmd": "cat(var_dic_list()) "
    }
   },
   "types_to_exclude": [
    "module",
    "function",
    "builtin_function_or_method",
    "instance",
    "_Feature"
   ],
   "window_display": false
  }
 },
 "nbformat": 4,
 "nbformat_minor": 4
}
