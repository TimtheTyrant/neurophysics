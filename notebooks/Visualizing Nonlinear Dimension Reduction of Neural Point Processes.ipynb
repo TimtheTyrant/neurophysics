{
 "cells": [
  {
   "cell_type": "markdown",
   "metadata": {},
   "source": [
    "# Big Data Visualization of Neuron Spike Times as Fuzzy Point Processes\n",
    "Tim Tyree<br>\n",
    "6.4.2021"
   ]
  },
  {
   "cell_type": "markdown",
   "metadata": {},
   "source": [
    "Notes:\n",
    "- The assumptions of UMAP include (i) local connectivity and (ii) samples approximately uniformly distributed over the relevant information manifold.<br>\n",
    "- By exposing a given marmoset to a controlled audiovisual stimulus, we directly observed the information manifold and compared it to a control (Fig. X).\n"
   ]
  },
  {
   "cell_type": "markdown",
   "metadata": {},
   "source": [
    "- TODO(!): use the simplest method of combining two umap plots? np.concatenate... But it doesn't scale to terrabyte sized data sets...\n",
    "\n",
    "- TODO(later): compute the fuzzy complement of the test umap fit minus the control umap fit\n",
    "- TODO: i.e. intersect the (optimal interval of the) test trial with the (optimal interval of the) corresponding control trial\n",
    "\n",
    "> \"If you are willing to try something a little more experimental there is also a third option using the - operator which effectively intersects with the fuzzy set complement (and is thus not commutative, just as - implies). The goal here is to try to provide a sense of what the data looks like when we contrast it against a second view.\"\n",
    "\n",
    "- TODO(later): show reproducibility to machine precision\n",
    "- HINT: np.all(mapper1.embedding_ == mapper2.embedding_)"
   ]
  },
  {
   "cell_type": "code",
   "execution_count": 4,
   "metadata": {
    "ExecuteTime": {
     "end_time": "2021-06-07T20:38:02.260358Z",
     "start_time": "2021-06-07T20:38:02.253947Z"
    }
   },
   "outputs": [],
   "source": [
    "#DONE: compute lag durations as before\n",
    "#DONE: compute labels as before\n",
    "# TODO: compute the point-process of a given trial\n",
    "# TODO: find the corresponding control trial\n",
    "# TODO: compute the point-process of a given trial\n",
    "# TODO: compute umap on the last 1 second of this given trial. plot.\n",
    "# TODO: compute umap on the last 1 second of the corresponding control trial. plot.\n",
    "# TODO: merge ^those into 1 umap. plot.\n",
    "# TODO: smoosh everything together by changing umap parameters\n",
    "# TODO: color the test points different from the control points. shade by time.\n",
    "# TODO: Can I interpret ^that?  \n",
    "# if not, then\n",
    "# TODO: try including the whole trial and coloring the points before 1 second of the end differently\n"
   ]
  },
  {
   "cell_type": "code",
   "execution_count": 5,
   "metadata": {
    "ExecuteTime": {
     "end_time": "2021-06-07T20:38:03.499852Z",
     "start_time": "2021-06-07T20:38:03.496369Z"
    }
   },
   "outputs": [],
   "source": [
    "# #install the goodies\n",
    "# !pip install numba --ignore-installed\n",
    "# !pip install umap-learn\n",
    "# !pip install umap-learn[plot]\n",
    "# !pip install umap-learn[parametric_umap]\n",
    "# # !pip install pandas matplotlib datashader bokeh holoviews scikit-image colorcet\n",
    "# #automating the boring stuff can take ~20 seconds here...\n",
    "from lib.getterdone import *\n",
    "# import hdbscan # leland needs to update hdbscan to work with umap in the same pyenv with numpy version <=1.19"
   ]
  },
  {
   "cell_type": "markdown",
   "metadata": {
    "ExecuteTime": {
     "end_time": "2021-06-05T00:40:39.601672Z",
     "start_time": "2021-06-05T00:40:39.598707Z"
    }
   },
   "source": [
    "# visualize a single trial \n",
    "as a umap plot as the space formed by 2d-Gaussian distributions OR hyperbolic embedding"
   ]
  },
  {
   "cell_type": "markdown",
   "metadata": {},
   "source": [
    "## import a single trial"
   ]
  },
  {
   "cell_type": "code",
   "execution_count": 6,
   "metadata": {
    "ExecuteTime": {
     "end_time": "2021-06-07T20:38:05.920644Z",
     "start_time": "2021-06-07T20:38:05.902111Z"
    }
   },
   "outputs": [
    {
     "ename": "FileNotFoundError",
     "evalue": "[Errno 2] No such file or directory: '/home/timothytyree/Documents/GitHub/neurophysics/notebooks/Data/Archie/spike_times_trial_20.json'",
     "output_type": "error",
     "traceback": [
      "\u001b[0;31m-------------------------------------------\u001b[0m",
      "\u001b[0;31mFileNotFoundError\u001b[0mTraceback (most recent call last)",
      "\u001b[0;32m<ipython-input-6-db8089eea859>\u001b[0m in \u001b[0;36m<module>\u001b[0;34m\u001b[0m\n\u001b[1;32m      1\u001b[0m \u001b[0;31m#import a chunk of Mike's data, as before.\u001b[0m\u001b[0;34m\u001b[0m\u001b[0;34m\u001b[0m\u001b[0;34m\u001b[0m\u001b[0m\n\u001b[1;32m      2\u001b[0m \u001b[0minput_file_name\u001b[0m\u001b[0;34m=\u001b[0m\u001b[0;34mf\"{nb_dir}/Data/Archie/spike_times_trial_20.json\"\u001b[0m\u001b[0;34m\u001b[0m\u001b[0;34m\u001b[0m\u001b[0m\n\u001b[0;32m----> 3\u001b[0;31m \u001b[0;32mwith\u001b[0m \u001b[0mopen\u001b[0m\u001b[0;34m(\u001b[0m\u001b[0minput_file_name\u001b[0m\u001b[0;34m)\u001b[0m \u001b[0;32mas\u001b[0m \u001b[0mf\u001b[0m\u001b[0;34m:\u001b[0m\u001b[0;34m\u001b[0m\u001b[0;34m\u001b[0m\u001b[0m\n\u001b[0m\u001b[1;32m      4\u001b[0m     \u001b[0mdata_raw\u001b[0m \u001b[0;34m=\u001b[0m \u001b[0mjson\u001b[0m\u001b[0;34m.\u001b[0m\u001b[0mload\u001b[0m\u001b[0;34m(\u001b[0m\u001b[0mf\u001b[0m\u001b[0;34m)\u001b[0m\u001b[0;34m\u001b[0m\u001b[0;34m\u001b[0m\u001b[0m\n\u001b[1;32m      5\u001b[0m \u001b[0;31m# Output: {'name': 'Bob', 'languages': ['English', 'Fench']}\u001b[0m\u001b[0;34m\u001b[0m\u001b[0;34m\u001b[0m\u001b[0;34m\u001b[0m\u001b[0m\n",
      "\u001b[0;31mFileNotFoundError\u001b[0m: [Errno 2] No such file or directory: '/home/timothytyree/Documents/GitHub/neurophysics/notebooks/Data/Archie/spike_times_trial_20.json'"
     ]
    }
   ],
   "source": [
    "#import a chunk of Mike's data, as before.\n",
    "input_file_name=f\"{nb_dir}/Data/spike_times_trial_20.json\"\n",
    "with open(input_file_name) as f:\n",
    "    data_raw = json.load(f)\n",
    "# Output: {'name': 'Bob', 'languages': ['English', 'Fench']}\n",
    "type(data_raw)"
   ]
  },
  {
   "cell_type": "code",
   "execution_count": 7,
   "metadata": {
    "ExecuteTime": {
     "end_time": "2021-06-07T20:38:06.154882Z",
     "start_time": "2021-06-07T20:38:06.133829Z"
    }
   },
   "outputs": [
    {
     "ename": "NameError",
     "evalue": "name 'data_raw' is not defined",
     "output_type": "error",
     "traceback": [
      "\u001b[0;31m-------------------------------------------\u001b[0m",
      "\u001b[0;31mNameError\u001b[0m Traceback (most recent call last)",
      "\u001b[0;32m<ipython-input-7-6b13877afa06>\u001b[0m in \u001b[0;36m<module>\u001b[0;34m\u001b[0m\n\u001b[1;32m      2\u001b[0m \u001b[0mnid_self\u001b[0m\u001b[0;34m=\u001b[0m\u001b[0;36m20\u001b[0m\u001b[0;31m#0\u001b[0m\u001b[0;34m\u001b[0m\u001b[0;34m\u001b[0m\u001b[0m\n\u001b[1;32m      3\u001b[0m \u001b[0ml\u001b[0m\u001b[0;34m=\u001b[0m\u001b[0mnid_self\u001b[0m\u001b[0;34m\u001b[0m\u001b[0;34m\u001b[0m\u001b[0m\n\u001b[0;32m----> 4\u001b[0;31m \u001b[0mkey_self\u001b[0m\u001b[0;34m=\u001b[0m\u001b[0mlist\u001b[0m\u001b[0;34m(\u001b[0m\u001b[0mdata_raw\u001b[0m\u001b[0;34m.\u001b[0m\u001b[0mkeys\u001b[0m\u001b[0;34m(\u001b[0m\u001b[0;34m)\u001b[0m\u001b[0;34m)\u001b[0m\u001b[0;34m[\u001b[0m\u001b[0ml\u001b[0m\u001b[0;34m]\u001b[0m\u001b[0;34m\u001b[0m\u001b[0;34m\u001b[0m\u001b[0m\n\u001b[0m\u001b[1;32m      5\u001b[0m \u001b[0mtimes_self\u001b[0m\u001b[0;34m=\u001b[0m\u001b[0mnp\u001b[0m\u001b[0;34m.\u001b[0m\u001b[0marray\u001b[0m\u001b[0;34m(\u001b[0m\u001b[0mdata_raw\u001b[0m\u001b[0;34m[\u001b[0m\u001b[0mkey_self\u001b[0m\u001b[0;34m]\u001b[0m\u001b[0;34m,\u001b[0m\u001b[0mnp\u001b[0m\u001b[0;34m.\u001b[0m\u001b[0mfloat64\u001b[0m\u001b[0;34m)\u001b[0m\u001b[0;34m\u001b[0m\u001b[0;34m\u001b[0m\u001b[0m\n\u001b[1;32m      6\u001b[0m \u001b[0mM\u001b[0m\u001b[0;34m=\u001b[0m\u001b[0mtimes_self\u001b[0m\u001b[0;34m.\u001b[0m\u001b[0mshape\u001b[0m\u001b[0;34m[\u001b[0m\u001b[0;36m0\u001b[0m\u001b[0;34m]\u001b[0m\u001b[0;34m\u001b[0m\u001b[0;34m\u001b[0m\u001b[0m\n",
      "\u001b[0;31mNameError\u001b[0m: name 'data_raw' is not defined"
     ]
    }
   ],
   "source": [
    "#input neuron id\n",
    "nid_self=20#0\n",
    "l=nid_self\n",
    "key_self=list(data_raw.keys())[l]\n",
    "times_self=np.array(data_raw[key_self],np.float64)\n",
    "M=times_self.shape[0]"
   ]
  },
  {
   "cell_type": "code",
   "execution_count": 8,
   "metadata": {
    "ExecuteTime": {
     "end_time": "2021-06-07T20:38:06.317408Z",
     "start_time": "2021-06-07T20:38:06.295696Z"
    }
   },
   "outputs": [
    {
     "ename": "NameError",
     "evalue": "name 'data_raw' is not defined",
     "output_type": "error",
     "traceback": [
      "\u001b[0;31m-------------------------------------------\u001b[0m",
      "\u001b[0;31mNameError\u001b[0m Traceback (most recent call last)",
      "\u001b[0;32m<ipython-input-8-6ea86ddb15d4>\u001b[0m in \u001b[0;36m<module>\u001b[0;34m\u001b[0m\n\u001b[1;32m      1\u001b[0m \u001b[0;31m# #represent spiketime trial for 1 neuron as a point process in terms of an 1 x m x n numpy array\u001b[0m\u001b[0;34m\u001b[0m\u001b[0;34m\u001b[0m\u001b[0;34m\u001b[0m\u001b[0m\n\u001b[0;32m----> 2\u001b[0;31m \u001b[0mN\u001b[0m\u001b[0;34m=\u001b[0m\u001b[0mlen\u001b[0m\u001b[0;34m(\u001b[0m\u001b[0mlist\u001b[0m\u001b[0;34m(\u001b[0m\u001b[0mdata_raw\u001b[0m\u001b[0;34m.\u001b[0m\u001b[0mkeys\u001b[0m\u001b[0;34m(\u001b[0m\u001b[0;34m)\u001b[0m\u001b[0;34m)\u001b[0m\u001b[0;34m)\u001b[0m\u001b[0;34m\u001b[0m\u001b[0;34m\u001b[0m\u001b[0m\n\u001b[0m\u001b[1;32m      3\u001b[0m \u001b[0marr\u001b[0m \u001b[0;34m=\u001b[0m \u001b[0mnp\u001b[0m\u001b[0;34m.\u001b[0m\u001b[0mfull\u001b[0m\u001b[0;34m(\u001b[0m\u001b[0;34m[\u001b[0m\u001b[0mM\u001b[0m\u001b[0;34m,\u001b[0m \u001b[0mN\u001b[0m\u001b[0;34m]\u001b[0m\u001b[0;34m,\u001b[0m \u001b[0mnp\u001b[0m\u001b[0;34m.\u001b[0m\u001b[0mnan\u001b[0m\u001b[0;34m)\u001b[0m\u001b[0;34m\u001b[0m\u001b[0;34m\u001b[0m\u001b[0m\n\u001b[1;32m      4\u001b[0m \u001b[0;34m\u001b[0m\u001b[0m\n\u001b[1;32m      5\u001b[0m \u001b[0;31m#initialize a list of length N=number of neurons\u001b[0m\u001b[0;34m\u001b[0m\u001b[0;34m\u001b[0m\u001b[0;34m\u001b[0m\u001b[0m\n",
      "\u001b[0;31mNameError\u001b[0m: name 'data_raw' is not defined"
     ]
    }
   ],
   "source": [
    "# #represent spiketime trial for 1 neuron as a point process in terms of an 1 x m x n numpy array\n",
    "N=len(list(data_raw.keys()))\n",
    "arr = np.full([M, N], np.nan)\n",
    "\n",
    "#initialize a list of length N=number of neurons\n",
    "# X=np.full(N,np.nan,dtype=np.float64)\n",
    "#functionally compute the time since last spike time for a given time for each neuron\n",
    "for m,t in enumerate(times_self):\n",
    "    for n,key in enumerate(data_raw.keys()):\n",
    "        spikes=np.array(data_raw[key],np.float64)\n",
    "        spikes=spikes[spikes<t]\n",
    "        if not spikes.shape[0]==0:\n",
    "            lag=t-spikes[-1]\n",
    "            arr[m,n]=lag #time since last spike in the nth neuron\n",
    "            # X[n]=1/lag #rate since last spike in the nth neuron"
   ]
  },
  {
   "cell_type": "code",
   "execution_count": 9,
   "metadata": {
    "ExecuteTime": {
     "end_time": "2021-06-07T20:38:06.497911Z",
     "start_time": "2021-06-07T20:38:06.483986Z"
    }
   },
   "outputs": [
    {
     "ename": "NameError",
     "evalue": "name 'arr' is not defined",
     "output_type": "error",
     "traceback": [
      "\u001b[0;31m-------------------------------------------\u001b[0m",
      "\u001b[0;31mNameError\u001b[0m Traceback (most recent call last)",
      "\u001b[0;32m<ipython-input-9-273f79abccd3>\u001b[0m in \u001b[0;36m<module>\u001b[0;34m\u001b[0m\n\u001b[1;32m      2\u001b[0m \u001b[0;31m#the goal is to have no nan values in arr\u001b[0m\u001b[0;34m\u001b[0m\u001b[0;34m\u001b[0m\u001b[0;34m\u001b[0m\u001b[0m\n\u001b[1;32m      3\u001b[0m \u001b[0;31m#find the fraction of True for each column\u001b[0m\u001b[0;34m\u001b[0m\u001b[0;34m\u001b[0m\u001b[0;34m\u001b[0m\u001b[0m\n\u001b[0;32m----> 4\u001b[0;31m \u001b[0mboo_neurons_keep\u001b[0m\u001b[0;34m=\u001b[0m\u001b[0;34m~\u001b[0m\u001b[0mnp\u001b[0m\u001b[0;34m.\u001b[0m\u001b[0misnan\u001b[0m\u001b[0;34m(\u001b[0m\u001b[0marr\u001b[0m\u001b[0;34m)\u001b[0m\u001b[0;34m[\u001b[0m\u001b[0;34m-\u001b[0m\u001b[0;36m1\u001b[0m\u001b[0;34m,\u001b[0m\u001b[0;34m:\u001b[0m\u001b[0;34m]\u001b[0m\u001b[0;34m\u001b[0m\u001b[0;34m\u001b[0m\u001b[0m\n\u001b[0m\u001b[1;32m      5\u001b[0m \u001b[0;32mfor\u001b[0m \u001b[0mn\u001b[0m \u001b[0;32min\u001b[0m \u001b[0mrange\u001b[0m\u001b[0;34m(\u001b[0m\u001b[0mN\u001b[0m\u001b[0;34m)\u001b[0m\u001b[0;34m:\u001b[0m\u001b[0;34m\u001b[0m\u001b[0;34m\u001b[0m\u001b[0m\n\u001b[1;32m      6\u001b[0m     \u001b[0mearliest_time_thresh\u001b[0m\u001b[0;34m=\u001b[0m\u001b[0;34m-\u001b[0m\u001b[0;36m1\u001b[0m\u001b[0;34m\u001b[0m\u001b[0;34m\u001b[0m\u001b[0m\n",
      "\u001b[0;31mNameError\u001b[0m: name 'arr' is not defined"
     ]
    }
   ],
   "source": [
    "#find the biggest subsquare with no nan values\n",
    "#the goal is to have no nan values in arr\n",
    "#find the fraction of True for each column\n",
    "boo_neurons_keep=~np.isnan(arr)[-1,:]\n",
    "for n in range(N):\n",
    "    earliest_time_thresh=-1\n",
    "    if boo_neurons_keep[n]:\n",
    "        boo=np.isnan(arr)[:,n]\n",
    "        frac=sum(boo)/boo.shape[0]\n",
    "        #earliest time of nonnan value for given neuron is less than earliest_time_thresh\n",
    "        boo_neurons_keep[n]=times_self[~boo][0]<earliest_time_thresh"
   ]
  },
  {
   "cell_type": "code",
   "execution_count": null,
   "metadata": {
    "ExecuteTime": {
     "end_time": "2021-06-07T20:34:40.772760Z",
     "start_time": "2021-06-07T20:34:30.699Z"
    }
   },
   "outputs": [],
   "source": [
    "boo_times_keep=times_self>earliest_time_thresh\n",
    "Mnew=sum(boo_times_keep)\n",
    "Nnew=sum(boo_neurons_keep)\n",
    "arrnew=arr[boo_times_keep][:,boo_neurons_keep]\n",
    "#assert there are no remaining nan values\n",
    "assert (not np.isnan(arrnew).any())\n",
    "data=arrnew\n",
    "data.shape"
   ]
  },
  {
   "cell_type": "code",
   "execution_count": null,
   "metadata": {
    "ExecuteTime": {
     "end_time": "2021-06-07T20:34:40.775250Z",
     "start_time": "2021-06-07T20:34:30.895Z"
    }
   },
   "outputs": [],
   "source": [
    "#compute spike times\n",
    "spike_times=np.array(data_raw[f\"{nid_self}\"])\n",
    "\n",
    "#classify spikes as before/after the stimulus\n",
    "t_stim=.15#~150ms for stimulus to reach the neurons in the hippocampus\n",
    "boo_before_stim=spike_times<t_stim\n",
    "boo_after_stim=~boo_before_stim\n",
    "target_names=[r'before',r'after']\n",
    "target=boo_before_stim*0+boo_after_stim*1\n",
    "target=target[boo_times_keep]"
   ]
  },
  {
   "cell_type": "code",
   "execution_count": null,
   "metadata": {
    "ExecuteTime": {
     "end_time": "2021-06-07T20:34:40.777648Z",
     "start_time": "2021-06-07T20:34:31.086Z"
    }
   },
   "outputs": [],
   "source": [
    "#classify spikes as before or during the arrival time of the information of the stimulus\n",
    "t_arrival=1.5 #seconds\n",
    "t_departure=2.5 #seconds\n",
    "boo_before=spike_times<t_arrival\n",
    "boo_after=~boo_before\n",
    "boo_after&=spike_times<t_departure\n",
    "boo_ignore=spike_times>=t_departure\n",
    "target_names=[r'before',r'after',r'ignore']\n",
    "target=boo_before*0+boo_after*1+boo_ignore*2\n",
    "target=target[boo_times_keep]"
   ]
  },
  {
   "cell_type": "code",
   "execution_count": null,
   "metadata": {
    "ExecuteTime": {
     "end_time": "2021-06-07T20:34:40.779942Z",
     "start_time": "2021-06-07T20:34:31.267Z"
    }
   },
   "outputs": [],
   "source": [
    "#DONE: set data to the point process array\n",
    "#DONT: set target to the next spike time\n",
    "#DONE: change digits.data/target to data/target in any of ^those examples \n",
    "#DONE: run those cells!\n",
    "#DONE: try out the hyperbolic embedding"
   ]
  },
  {
   "cell_type": "markdown",
   "metadata": {},
   "source": [
    "## fit data"
   ]
  },
  {
   "cell_type": "code",
   "execution_count": null,
   "metadata": {
    "ExecuteTime": {
     "end_time": "2021-06-07T20:34:40.782331Z",
     "start_time": "2021-06-07T20:34:31.601Z"
    }
   },
   "outputs": [],
   "source": [
    "#fit data to a gaussian mapper\n",
    "gaussian_mapper = umap.UMAP(output_metric='gaussian_energy',\n",
    "                            n_components=40,\n",
    "                            random_state=2).fit(data)\n",
    "x_values=gaussian_mapper.embedding_.T[0]\n",
    "y_values=gaussian_mapper.embedding_.T[1]\n",
    "x_origin=5.5\n",
    "y_origin=3.5\n",
    "x_values=x_values-x_origin\n",
    "y_values=y_values-y_origin"
   ]
  },
  {
   "cell_type": "code",
   "execution_count": null,
   "metadata": {
    "ExecuteTime": {
     "end_time": "2021-06-07T20:34:40.784734Z",
     "start_time": "2021-06-07T20:34:31.745Z"
    }
   },
   "outputs": [],
   "source": [
    "#plot the first two axes\n",
    "cmap='Spectral'\n",
    "fontsize=22\n",
    "fig,ax=plt.subplots(ncols=1,figsize=(6,6))\n",
    "ax.scatter(x_values, y_values, \n",
    "            c=target, cmap=cmap, s=1000, marker='.',alpha=0.7)\n",
    "ax.scatter(x_values, y_values, \n",
    "            c='k', s=10, marker='.')\n",
    "ax.tick_params(axis='both',labelsize=fontsize)\n",
    "# ax.tick_params(axis='both', which='major', labelsize=fontsize)\n",
    "# ax.tick_params(axis='both', which='minor', labelsize=0)\n",
    "ax.set_xlabel('UMAP1 (seconds)',fontsize=fontsize)\n",
    "ax.set_ylabel('UMAP2 (seconds)',fontsize=fontsize)\n",
    "# title='A Single Trial'\n",
    "# ax.set_title(title,fontsize=fontsize+4)\n",
    "fig.show()\n",
    "#                             random_state=42).fit(digits.data)\n",
    "# plt.scatter(gaussian_mapper.embedding_.T[0], gaussian_mapper.embedding_.T[1], c=digits.target, cmap='Spectral')\n",
    "# plt.show()"
   ]
  },
  {
   "cell_type": "code",
   "execution_count": null,
   "metadata": {
    "ExecuteTime": {
     "end_time": "2021-06-07T20:34:40.787185Z",
     "start_time": "2021-06-07T20:34:31.889Z"
    }
   },
   "outputs": [],
   "source": [
    "hyperbolic_mapper = umap.UMAP(output_metric='hyperboloid',\n",
    "                              random_state=42).fit(data)\n",
    "x = hyperbolic_mapper.embedding_[:, 0]\n",
    "y = hyperbolic_mapper.embedding_[:, 1]\n",
    "z = np.sqrt(1 + np.sum(hyperbolic_mapper.embedding_**2, axis=1))\n",
    "disk_x = x / (1 + z)\n",
    "disk_y = y / (1 + z)\n",
    "\n",
    "fig = plt.figure(figsize=(7,7))\n",
    "ax = fig.add_subplot(111)\n",
    "# ax.scatter(disk_x, disk_y, c=target, cmap='Spectral')\n",
    "ax.scatter(disk_x, disk_y, \n",
    "            c=target, cmap=cmap, s=1000, marker='.',alpha=0.7)\n",
    "ax.scatter(disk_x, disk_y, \n",
    "            c='k', s=10, marker='.')\n",
    "boundary = plt.Circle((0,0), 1.05, fc='none', ec='k')\n",
    "ax.add_artist(boundary)\n",
    "ax.axis('off');\n",
    "ax.set_xlim([-1.1,1.1])\n",
    "ax.set_ylim([-1.1,1.1])\n",
    "plt.show()"
   ]
  },
  {
   "cell_type": "markdown",
   "metadata": {
    "heading_collapsed": true
   },
   "source": [
    "# visualize many trials"
   ]
  },
  {
   "cell_type": "markdown",
   "metadata": {
    "heading_collapsed": true,
    "hidden": true
   },
   "source": [
    "## import a set of trials and compute their point process feature vectors"
   ]
  },
  {
   "cell_type": "code",
   "execution_count": 10,
   "metadata": {
    "ExecuteTime": {
     "end_time": "2021-06-07T20:38:36.509161Z",
     "start_time": "2021-06-07T20:38:33.977945Z"
    },
    "hidden": true
   },
   "outputs": [
    {
     "name": "stdout",
     "output_type": "stream",
     "text": [
      "61\n"
     ]
    }
   ],
   "source": [
    "#load a single set of trials into notebook memory\n",
    "data_folder=f\"{nb_dir}/Data/Archie\"\n",
    "modname=\"Archie_SRT_Set212_Subset1_200520_165716_\"\n",
    "t_min_considered, number_of_neurons, dict_spike_times, dict_trial_times, dict_trial_data = load_dataset(modname,data_folder)"
   ]
  },
  {
   "cell_type": "code",
   "execution_count": 11,
   "metadata": {
    "ExecuteTime": {
     "end_time": "2021-06-07T20:38:41.962726Z",
     "start_time": "2021-06-07T20:38:37.350407Z"
    },
    "hidden": true
   },
   "outputs": [
    {
     "name": "stdout",
     "output_type": "stream",
     "text": [
      "412 trials successfully parsed into 5534 observations.\n",
      "this point-process measure is embedded into $\\mathbb{R}^{+d}$ real Euclidean space of dimension d=61.\n"
     ]
    }
   ],
   "source": [
    "#compute the point process model\n",
    "nid_self,target,data,trialnum_values,t_values=compute_point_process_data(t_min_considered, number_of_neurons, dict_spike_times, dict_trial_times, dict_trial_data,printing=True,nid_self=20)"
   ]
  },
  {
   "cell_type": "code",
   "execution_count": 12,
   "metadata": {
    "ExecuteTime": {
     "end_time": "2021-06-07T20:38:42.038469Z",
     "start_time": "2021-06-07T20:38:42.034769Z"
    },
    "hidden": true
   },
   "outputs": [
    {
     "data": {
      "text/plain": [
       "(5534, 61)"
      ]
     },
     "execution_count": 12,
     "metadata": {},
     "output_type": "execute_result"
    }
   ],
   "source": [
    "data.shape"
   ]
  },
  {
   "cell_type": "code",
   "execution_count": 13,
   "metadata": {
    "ExecuteTime": {
     "end_time": "2021-06-07T20:38:42.115280Z",
     "start_time": "2021-06-07T20:38:42.112644Z"
    },
    "hidden": true
   },
   "outputs": [
    {
     "data": {
      "text/plain": [
       "(5534,)"
      ]
     },
     "execution_count": 13,
     "metadata": {},
     "output_type": "execute_result"
    }
   ],
   "source": [
    "target.shape"
   ]
  },
  {
   "cell_type": "code",
   "execution_count": 14,
   "metadata": {
    "ExecuteTime": {
     "end_time": "2021-06-07T20:38:42.186795Z",
     "start_time": "2021-06-07T20:38:42.184175Z"
    },
    "hidden": true
   },
   "outputs": [
    {
     "data": {
      "text/plain": [
       "(5534,)"
      ]
     },
     "execution_count": 14,
     "metadata": {},
     "output_type": "execute_result"
    }
   ],
   "source": [
    "trialnum_values.shape"
   ]
  },
  {
   "cell_type": "code",
   "execution_count": 15,
   "metadata": {
    "ExecuteTime": {
     "end_time": "2021-06-07T20:38:42.494317Z",
     "start_time": "2021-06-07T20:38:42.261172Z"
    },
    "hidden": true
   },
   "outputs": [],
   "source": [
    "#save as compressed numpy array\n",
    "save_folder=data_folder\n",
    "os.chdir(save_folder)\n",
    "save_fn=modname+f'pointProcess_{nid_self}_compressed.npz'\n",
    "if not os.path.exists(save_folder):\n",
    "    os.mkdir(save_folder)\n",
    "np.savez_compressed(save_fn, target=target,data=data,trialnum_values=trialnum_values,t_values=t_values)"
   ]
  },
  {
   "cell_type": "code",
   "execution_count": 27,
   "metadata": {
    "ExecuteTime": {
     "end_time": "2021-06-07T21:36:10.774828Z",
     "start_time": "2021-06-07T21:36:10.770061Z"
    },
    "hidden": true
   },
   "outputs": [
    {
     "data": {
      "text/plain": [
       "'Archie_SRT_Set212_Subset1_200520_165716_pointProcess_20_compressed.npz'"
      ]
     },
     "execution_count": 27,
     "metadata": {},
     "output_type": "execute_result"
    }
   ],
   "source": [
    "save_fn"
   ]
  },
  {
   "cell_type": "markdown",
   "metadata": {
    "heading_collapsed": true,
    "hidden": true
   },
   "source": [
    "## fit data"
   ]
  },
  {
   "cell_type": "code",
   "execution_count": 29,
   "metadata": {
    "ExecuteTime": {
     "end_time": "2021-06-07T21:38:23.496972Z",
     "start_time": "2021-06-07T21:37:24.903308Z"
    },
    "hidden": true
   },
   "outputs": [],
   "source": [
    "metric='mahalanobis'#'minkowski',#'cosine',\n",
    "#fit data to a gaussian mapper\n",
    "gaussian_mapper = umap.UMAP(\n",
    "    metric=metric,\n",
    "    output_metric='gaussian_energy',\n",
    "    n_components=40,\n",
    "    random_state=42).fit(data)\n",
    "x_values=gaussian_mapper.embedding_.T[0]\n",
    "y_values=gaussian_mapper.embedding_.T[1]\n",
    "x_origin=0\n",
    "y_origin=0\n",
    "x_values=x_values-x_origin\n",
    "y_values=y_values-y_origin"
   ]
  },
  {
   "cell_type": "code",
   "execution_count": 30,
   "metadata": {
    "ExecuteTime": {
     "end_time": "2021-06-07T21:38:23.783580Z",
     "start_time": "2021-06-07T21:38:23.579979Z"
    },
    "hidden": true
   },
   "outputs": [
    {
     "data": {
      "image/png": "[encoded data removed]",
      "text/plain": [
       "<Figure size 432x432 with 1 Axes>"
      ]
     },
     "metadata": {
      "needs_background": "light"
     },
     "output_type": "display_data"
    }
   ],
   "source": [
    "#plot the first two axes\n",
    "cmap='Spectral'\n",
    "fontsize=22\n",
    "fig,ax=plt.subplots(ncols=1,figsize=(6,6))\n",
    "ax.scatter(x_values, y_values, \n",
    "            c=target, cmap=cmap, s=10, marker='.',alpha=0.7)\n",
    "# ax.scatter(x_values, y_values, \n",
    "#             c=target, cmap=cmap, s=1000, marker='.',alpha=0.7)\n",
    "# ax.scatter(x_values, y_values, \n",
    "#             c='k', s=10, marker='.')\n",
    "ax.tick_params(axis='both',labelsize=fontsize)\n",
    "# ax.tick_params(axis='both', which='major', labelsize=fontsize)\n",
    "# ax.tick_params(axis='both', which='minor', labelsize=0)\n",
    "ax.set_xlabel('UMAP1 (seconds)',fontsize=fontsize)\n",
    "ax.set_ylabel('UMAP2 (seconds)',fontsize=fontsize)\n",
    "# title='A Single Trial'\n",
    "# ax.set_title(title,fontsize=fontsize+4)\n",
    "fig.show()\n",
    "#                             random_state=42).fit(digits.data)\n",
    "# plt.scatter(gaussian_mapper.embedding_.T[0], gaussian_mapper.embedding_.T[1], c=digits.target, cmap='Spectral')\n",
    "# plt.show()"
   ]
  },
  {
   "cell_type": "code",
   "execution_count": 32,
   "metadata": {
    "ExecuteTime": {
     "end_time": "2021-06-07T21:42:06.879816Z",
     "start_time": "2021-06-07T21:41:34.140622Z"
    },
    "hidden": true
   },
   "outputs": [],
   "source": [
    "hyperbolic_mapper = umap.UMAP(\n",
    "    metric='cosine',\n",
    "    output_metric='hyperboloid',\n",
    "    random_state=42).fit(data)\n",
    "x = hyperbolic_mapper.embedding_[:, 0]\n",
    "y = hyperbolic_mapper.embedding_[:, 1]\n",
    "z = np.sqrt(1 + np.sum(hyperbolic_mapper.embedding_**2, axis=1))\n",
    "disk_x = x / (1 + z)\n",
    "disk_y = y / (1 + z)"
   ]
  },
  {
   "cell_type": "code",
   "execution_count": 33,
   "metadata": {
    "ExecuteTime": {
     "end_time": "2021-06-07T21:42:07.342277Z",
     "start_time": "2021-06-07T21:42:06.997545Z"
    },
    "hidden": true
   },
   "outputs": [
    {
     "data": {
      "image/png": "[encoded data removed]",
      "text/plain": [
       "<Figure size 504x504 with 1 Axes>"
      ]
     },
     "metadata": {
      "needs_background": "light"
     },
     "output_type": "display_data"
    }
   ],
   "source": [
    "fig = plt.figure(figsize=(7,7))\n",
    "ax = fig.add_subplot(111)\n",
    "# ax.scatter(disk_x, disk_y, c=target, cmap='Spectral')\n",
    "ax.scatter(disk_x, disk_y, \n",
    "            c=target, cmap=cmap, s=1000, marker='.',alpha=0.7)\n",
    "ax.scatter(disk_x, disk_y, \n",
    "            c='k', s=10, marker='.')\n",
    "boundary = plt.Circle((0,0), 1.05, fc='none', ec='k')\n",
    "ax.add_artist(boundary)\n",
    "ax.axis('off');\n",
    "ax.set_xlim([-1.1,1.1])\n",
    "ax.set_ylim([-1.1,1.1])\n",
    "plt.show()"
   ]
  },
  {
   "cell_type": "markdown",
   "metadata": {
    "ExecuteTime": {
     "end_time": "2021-06-07T03:09:11.714378Z",
     "start_time": "2021-06-07T03:09:11.711137Z"
    },
    "heading_collapsed": true
   },
   "source": [
    "# umap on subsets of trials with match versus mismatch conditions"
   ]
  },
  {
   "cell_type": "markdown",
   "metadata": {
    "hidden": true
   },
   "source": [
    "__match_code:__\n",
    "    - 0 if image only\n",
    "    - 1 if match (picture and audio monkey identity are the same)\n",
    "    - 2 if mismatch (picture and audio monkey identity are inconsistent)\n",
    "    - 3 if audio only"
   ]
  },
  {
   "cell_type": "markdown",
   "metadata": {
    "heading_collapsed": true,
    "hidden": true
   },
   "source": [
    "## all matching cases do not lie on a small number of clear topological manifolds"
   ]
  },
  {
   "cell_type": "code",
   "execution_count": null,
   "metadata": {
    "ExecuteTime": {
     "end_time": "2021-06-07T20:34:40.825020Z",
     "start_time": "2021-06-07T20:34:34.995Z"
    },
    "hidden": true
   },
   "outputs": [],
   "source": [
    "target,data,trialnum_values"
   ]
  },
  {
   "cell_type": "code",
   "execution_count": null,
   "metadata": {
    "ExecuteTime": {
     "end_time": "2021-06-07T20:34:40.827736Z",
     "start_time": "2021-06-07T20:34:35.216Z"
    },
    "hidden": true
   },
   "outputs": [],
   "source": [
    "#nota bene, this is done later in pandas in a couple lines...\n",
    "#query trials by matching nonnovel experimental conditions\n",
    "match=True\n",
    "mismatch=False\n",
    "novel=False\n",
    "query=trialnum_values<=0\n",
    "trialnum_lst=sorted(dict_trial_data.keys())\n",
    "for trialnum in trialnum_lst:\n",
    "    #todo: slice where trialnum\n",
    "    quer=True\n",
    "    #extract simplified trial condition\n",
    "    match_code=dict_trial_data[trialnum]['imMatchFlag']\n",
    "    novel_code=dict_trial_data[trialnum]['novel']\n",
    "    is_matching=match_code==1\n",
    "    if match:\n",
    "        quer&=is_matching\n",
    "    \n",
    "    is_mismatching=match_code==2\n",
    "    if mismatch:\n",
    "        quer&=is_mismatching    \n",
    "    \n",
    "    is_novel=novel_code==1\n",
    "    if novel:\n",
    "        quer&=is_novel\n",
    "    else:\n",
    "        quer&=~is_novel\n",
    "    if quer:\n",
    "        query|=trialnum_values==trialnum\n",
    "\n",
    "#TODO: query by computing the boolean index for a given condition\n",
    "dat=data[query,:]\n",
    "targ=target[query]"
   ]
  },
  {
   "cell_type": "code",
   "execution_count": null,
   "metadata": {
    "ExecuteTime": {
     "end_time": "2021-06-07T20:34:40.830654Z",
     "start_time": "2021-06-07T20:34:35.407Z"
    },
    "hidden": true
   },
   "outputs": [],
   "source": [
    "#fit data to a gaussian mapper\n",
    "gaussian_mapper = umap.UMAP(output_metric='gaussian_energy',\n",
    "                            n_components=40,\n",
    "                            random_state=2).fit(dat)\n",
    "x_values=gaussian_mapper.embedding_.T[0]\n",
    "y_values=gaussian_mapper.embedding_.T[1]\n",
    "x_origin=0\n",
    "y_origin=0\n",
    "x_values=x_values-x_origin\n",
    "y_values=y_values-y_origin"
   ]
  },
  {
   "cell_type": "code",
   "execution_count": null,
   "metadata": {
    "ExecuteTime": {
     "end_time": "2021-06-07T20:34:40.833306Z",
     "start_time": "2021-06-07T20:34:35.578Z"
    },
    "hidden": true
   },
   "outputs": [],
   "source": [
    "#plot the first two axes\n",
    "cmap='Spectral'\n",
    "fontsize=22\n",
    "fig,ax=plt.subplots(ncols=1,figsize=(6,6))\n",
    "ax.scatter(x_values, y_values, \n",
    "            c=targ, cmap=cmap, s=10, marker='.',alpha=0.7)\n",
    "# ax.scatter(x_values, y_values, \n",
    "#             c=target, cmap=cmap, s=1000, marker='.',alpha=0.7)\n",
    "# ax.scatter(x_values, y_values, \n",
    "#             c='k', s=10, marker='.')\n",
    "ax.tick_params(axis='both',labelsize=fontsize)\n",
    "# ax.tick_params(axis='both', which='major', labelsize=fontsize)\n",
    "# ax.tick_params(axis='both', which='minor', labelsize=0)\n",
    "ax.set_xlabel('UMAP1 (seconds)',fontsize=fontsize)\n",
    "ax.set_ylabel('UMAP2 (seconds)',fontsize=fontsize)\n",
    "# title='A Single Trial'\n",
    "# ax.set_title(title,fontsize=fontsize+4)\n",
    "fig.show()\n",
    "#                             random_state=42).fit(digits.data)\n",
    "# plt.scatter(gaussian_mapper.embedding_.T[0], gaussian_mapper.embedding_.T[1], c=digits.target, cmap='Spectral')\n",
    "# plt.show()"
   ]
  },
  {
   "cell_type": "code",
   "execution_count": null,
   "metadata": {
    "ExecuteTime": {
     "end_time": "2021-06-07T20:34:40.835735Z",
     "start_time": "2021-06-07T20:34:35.763Z"
    },
    "hidden": true
   },
   "outputs": [],
   "source": [
    "hyperbolic_mapper = umap.UMAP(output_metric='hyperboloid',\n",
    "                              random_state=42).fit(dat)\n",
    "x = hyperbolic_mapper.embedding_[:, 0]\n",
    "y = hyperbolic_mapper.embedding_[:, 1]\n",
    "z = np.sqrt(1 + np.sum(hyperbolic_mapper.embedding_**2, axis=1))\n",
    "disk_x = x / (1 + z)\n",
    "disk_y = y / (1 + z)"
   ]
  },
  {
   "cell_type": "code",
   "execution_count": null,
   "metadata": {
    "ExecuteTime": {
     "end_time": "2021-06-07T20:34:40.838221Z",
     "start_time": "2021-06-07T20:34:35.929Z"
    },
    "hidden": true
   },
   "outputs": [],
   "source": [
    "fig = plt.figure(figsize=(7,7))\n",
    "ax = fig.add_subplot(111)\n",
    "ax.scatter(disk_x, disk_y, \n",
    "            c=targ, cmap=cmap, s=10, marker='.',alpha=0.7)\n",
    "# ax.scatter(disk_x, disk_y, \n",
    "#             c=targ, cmap=cmap, s=1000, marker='.',alpha=0.7)\n",
    "# ax.scatter(disk_x, disk_y, \n",
    "#             c='k', s=10, marker='.')\n",
    "boundary = plt.Circle((0,0), 1.05, fc='none', ec='k')\n",
    "ax.add_artist(boundary)\n",
    "ax.axis('off');\n",
    "ax.set_xlim([-1.1,1.1])\n",
    "ax.set_ylim([-1.1,1.1])\n",
    "plt.show()"
   ]
  },
  {
   "cell_type": "markdown",
   "metadata": {
    "hidden": true
   },
   "source": [
    "## all matching cases for a given monkey & orientation is repeatable for short time scales\n",
    "there are were 2 manifolds when restricting Archie's model fit data only from the third block, which exhibited 4 matching trials where"
   ]
  },
  {
   "cell_type": "code",
   "execution_count": 135,
   "metadata": {
    "ExecuteTime": {
     "end_time": "2021-06-07T22:56:13.045032Z",
     "start_time": "2021-06-07T22:56:10.020502Z"
    },
    "hidden": true
   },
   "outputs": [
    {
     "name": "stdout",
     "output_type": "stream",
     "text": [
      "61\n",
      "120 trials successfully parsed into 182 observations.\n",
      "this point-process measure is embedded into $\\mathbb{R}^{+d}$ real Euclidean space of dimension d=61.\n"
     ]
    }
   ],
   "source": [
    "#load a single set of trials into notebook memory\n",
    "data_folder = f\"{nb_dir}/Data/Archie\"\n",
    "modname = \"Archie_SRT_Set212_Subset1_200520_165716_\"\n",
    "t_min_considered, number_of_neurons, dict_spike_times, dict_trial_times, dict_trial_data = load_dataset(\n",
    "    modname, data_folder)\n",
    "#import the point process\n",
    "#compute the point process model\n",
    "nid_self = 10\n",
    "nid_self, target, data, trialnum_values, t_values = compute_point_process_data(\n",
    "    t_min_considered,\n",
    "    number_of_neurons,\n",
    "    dict_spike_times,\n",
    "    dict_trial_times,\n",
    "    dict_trial_data,\n",
    "    printing=True,\n",
    "    nid_self=nid_self)\n",
    "\n",
    "#save as compressed numpy array\n",
    "save_folder = data_folder\n",
    "os.chdir(save_folder)\n",
    "save_fn = modname + f'pointProcess_{nid_self}_compressed.npz'\n",
    "if not os.path.exists(save_folder):\n",
    "    os.mkdir(save_folder)\n",
    "np.savez_compressed(save_fn,\n",
    "                    target=target,\n",
    "                    data=data,\n",
    "                    trialnum_values=trialnum_values,\n",
    "                    t_values=t_values)\n",
    "\n",
    "# input_dir=f\"{nb_dir}/Data/Archie/\"+'Archie_SRT_Set212_Subset1_200520_165716_pointProcess_20_compressed.npz'\n",
    "input_dir = save_fn\n",
    "dataset = np.load(input_dir)\n",
    "# dict_trial_data"
   ]
  },
  {
   "cell_type": "code",
   "execution_count": 136,
   "metadata": {
    "ExecuteTime": {
     "end_time": "2021-06-07T22:56:27.331273Z",
     "start_time": "2021-06-07T22:56:27.325684Z"
    },
    "hidden": true
   },
   "outputs": [],
   "source": [
    "#computelag feature vector\n",
    "data = dataset['data']\n",
    "target = dataset['target']\n",
    "trialnum_values = dataset['trialnum_values']\n",
    "spike_times = dataset['t_values']\n",
    "target_names = [r'dubious', r'decisive', r'reflective']"
   ]
  },
  {
   "cell_type": "code",
   "execution_count": 137,
   "metadata": {
    "ExecuteTime": {
     "end_time": "2021-06-07T22:56:27.914564Z",
     "start_time": "2021-06-07T22:56:27.906878Z"
    },
    "hidden": true
   },
   "outputs": [
    {
     "name": "stdout",
     "output_type": "stream",
     "text": [
      "(181, 61)\n"
     ]
    }
   ],
   "source": [
    "#compute rate of change of lag feature vector\n",
    "DT_values=np.diff(dataset['t_values'])\n",
    "# DT_thresh=10#1\n",
    "# boo=np.abs(DT_values)<DT_thresh\n",
    "boo=np.diff(dataset['trialnum_values'])==0\n",
    "DX_values=np.diff(dataset['data'],axis=0)\n",
    "# Y_values=np.divide(DX_values,DT_values,axis=0)\n",
    "Y_values=np.stack([DX_values[:,j]/DT_values for j in range(DX_values.shape[1])],axis=1)\n",
    "print(Y_values.shape)\n",
    "data=Y_values[boo,:]\n",
    "spike_times=dataset['t_values'][1:][boo]\n",
    "target=dataset['target'][1:][boo]\n",
    "trialnum_values=dataset['trialnum_values'][1:][boo]\n",
    "target_names=[r'dubious',r'decisive',r'reflective']"
   ]
  },
  {
   "cell_type": "code",
   "execution_count": 138,
   "metadata": {
    "ExecuteTime": {
     "end_time": "2021-06-07T22:56:28.462293Z",
     "start_time": "2021-06-07T22:56:28.450792Z"
    },
    "hidden": true
   },
   "outputs": [
    {
     "data": {
      "text/plain": [
       "(62, 61)"
      ]
     },
     "execution_count": 138,
     "metadata": {},
     "output_type": "execute_result"
    }
   ],
   "source": [
    "#compute moving average lag feature vector\n",
    "navg=1\n",
    "data=dataset['data']\n",
    "target=dataset['target']\n",
    "trialnum_values=dataset['trialnum_values']\n",
    "spike_times=dataset['t_values']\n",
    "target_names=[r'dubious',r'decisive',r'reflective']\n",
    "def moving_average(x, w):\n",
    "    return np.convolve(x, np.ones(w), 'valid') / w\n",
    "x_lst=[]\n",
    "for x in data.T:\n",
    "    x_lst.append(moving_average(x, w=navg))\n",
    "data=np.stack(x_lst).T\n",
    "target=moving_average(dataset['target'], w=navg)\n",
    "trialnum_values=moving_average(dataset['trialnum_values'], w=navg)\n",
    "spike_times=moving_average(dataset['t_values'], w=navg)\n",
    "boo=np.diff(moving_average(dataset['trialnum_values'], w=navg))==0\n",
    "data=data[1:][boo,:]\n",
    "spike_times=spike_times[1:][boo]\n",
    "target=dataset['target'][int((navg+1)/4):-int((navg+1)/4)-1][boo]\n",
    "trialnum_values=trialnum_values[1:][boo]\n",
    "data.shape"
   ]
  },
  {
   "cell_type": "code",
   "execution_count": 139,
   "metadata": {
    "ExecuteTime": {
     "end_time": "2021-06-07T22:56:29.108276Z",
     "start_time": "2021-06-07T22:56:29.104306Z"
    },
    "hidden": true
   },
   "outputs": [
    {
     "data": {
      "text/plain": [
       "array([ 4,  5,  7,  7,  8,  8, 10, 10, 10, 10, 10, 10, 10, 12, 12, 13, 14,\n",
       "       15, 18, 18, 19, 20, 20, 25, 27, 28, 29, 31, 32, 33, 33, 33, 34, 41,\n",
       "       42, 42, 42, 43, 45, 46, 47, 48, 50, 51, 52, 53, 53, 54, 58, 58])"
      ]
     },
     "execution_count": 139,
     "metadata": {},
     "output_type": "execute_result"
    }
   ],
   "source": [
    "\n",
    "dataset['trialnum_values'][:50]"
   ]
  },
  {
   "cell_type": "code",
   "execution_count": 140,
   "metadata": {
    "ExecuteTime": {
     "end_time": "2021-06-07T22:56:36.801585Z",
     "start_time": "2021-06-07T22:56:36.769478Z"
    },
    "hidden": true
   },
   "outputs": [],
   "source": [
    "#TODO(later): compute rate of change of rate feature vector\n",
    "#TODO: try concatenating feature vectors\n",
    "\n",
    "#TODO: subdivide by monkey type\n",
    "#TODO: make a 4 panel for Archie recognizing each monkey\n",
    "#TODO: make a 4x4 panel for each monkey recognizing each other monkey. Leave diagonal entries blank for now if their not shown themselves\n",
    "df = pd.DataFrame(dict_trial_data).T\n",
    "df['PicID_1'] = [s.lower() for s in df['PicID_1'].values]"
   ]
  },
  {
   "cell_type": "code",
   "execution_count": 141,
   "metadata": {
    "ExecuteTime": {
     "end_time": "2021-06-07T22:56:37.289969Z",
     "start_time": "2021-06-07T22:56:37.279426Z"
    },
    "hidden": true
   },
   "outputs": [
    {
     "data": {
      "text/html": [
       "<div>\n",
       "<style scoped>\n",
       "    .dataframe tbody tr th:only-of-type {\n",
       "        vertical-align: middle;\n",
       "    }\n",
       "\n",
       "    .dataframe tbody tr th {\n",
       "        vertical-align: top;\n",
       "    }\n",
       "\n",
       "    .dataframe thead th {\n",
       "        text-align: right;\n",
       "    }\n",
       "</style>\n",
       "<table border=\"1\" class=\"dataframe\">\n",
       "  <thead>\n",
       "    <tr style=\"text-align: right;\">\n",
       "      <th></th>\n",
       "      <th>imName</th>\n",
       "      <th>imNum</th>\n",
       "      <th>imPheeName</th>\n",
       "      <th>imMatchFlag</th>\n",
       "      <th>novel</th>\n",
       "      <th>imOff</th>\n",
       "      <th>vpltTrial</th>\n",
       "      <th>Block</th>\n",
       "      <th>PheeID</th>\n",
       "      <th>PicID_1</th>\n",
       "      <th>PicID_2</th>\n",
       "      <th>PidID_3</th>\n",
       "    </tr>\n",
       "  </thead>\n",
       "  <tbody>\n",
       "    <tr>\n",
       "      <th>1</th>\n",
       "      <td>JennyRightGood3.JPG</td>\n",
       "      <td>2</td>\n",
       "      <td>none</td>\n",
       "      <td>0</td>\n",
       "      <td>1</td>\n",
       "      <td>3.5081116752699</td>\n",
       "      <td>1</td>\n",
       "      <td>1</td>\n",
       "      <td>none</td>\n",
       "      <td>jenny</td>\n",
       "      <td>Right</td>\n",
       "      <td>2</td>\n",
       "    </tr>\n",
       "    <tr>\n",
       "      <th>2</th>\n",
       "      <td>ChewieRightGood1.JPG</td>\n",
       "      <td>3</td>\n",
       "      <td>none</td>\n",
       "      <td>0</td>\n",
       "      <td>1</td>\n",
       "      <td>3.50763143645599</td>\n",
       "      <td>1</td>\n",
       "      <td>1</td>\n",
       "      <td>none</td>\n",
       "      <td>chewie</td>\n",
       "      <td>Right</td>\n",
       "      <td>3</td>\n",
       "    </tr>\n",
       "    <tr>\n",
       "      <th>3</th>\n",
       "      <td>HermesFrontGood2.JPG</td>\n",
       "      <td>4</td>\n",
       "      <td>none</td>\n",
       "      <td>0</td>\n",
       "      <td>1</td>\n",
       "      <td>3.50854450464249</td>\n",
       "      <td>1</td>\n",
       "      <td>1</td>\n",
       "      <td>none</td>\n",
       "      <td>hermes</td>\n",
       "      <td>Front</td>\n",
       "      <td>4</td>\n",
       "    </tr>\n",
       "    <tr>\n",
       "      <th>4</th>\n",
       "      <td>HankRightGood1.jpg</td>\n",
       "      <td>5</td>\n",
       "      <td>hank</td>\n",
       "      <td>1</td>\n",
       "      <td>1</td>\n",
       "      <td>2.66679767635651</td>\n",
       "      <td>1</td>\n",
       "      <td>1</td>\n",
       "      <td>hank</td>\n",
       "      <td>hank</td>\n",
       "      <td>Right</td>\n",
       "      <td>5</td>\n",
       "    </tr>\n",
       "    <tr>\n",
       "      <th>5</th>\n",
       "      <td>HermesFrontGood2.JPG</td>\n",
       "      <td>4</td>\n",
       "      <td>none</td>\n",
       "      <td>0</td>\n",
       "      <td>0</td>\n",
       "      <td>3.50858635362238</td>\n",
       "      <td>1</td>\n",
       "      <td>1</td>\n",
       "      <td>none</td>\n",
       "      <td>hermes</td>\n",
       "      <td>Front</td>\n",
       "      <td>4</td>\n",
       "    </tr>\n",
       "  </tbody>\n",
       "</table>\n",
       "</div>"
      ],
      "text/plain": [
       "                 imName imNum imPheeName imMatchFlag novel             imOff  \\\n",
       "1   JennyRightGood3.JPG     2       none           0     1   3.5081116752699   \n",
       "2  ChewieRightGood1.JPG     3       none           0     1  3.50763143645599   \n",
       "3  HermesFrontGood2.JPG     4       none           0     1  3.50854450464249   \n",
       "4    HankRightGood1.jpg     5       hank           1     1  2.66679767635651   \n",
       "5  HermesFrontGood2.JPG     4       none           0     0  3.50858635362238   \n",
       "\n",
       "  vpltTrial Block PheeID PicID_1 PicID_2 PidID_3  \n",
       "1         1     1   none   jenny   Right       2  \n",
       "2         1     1   none  chewie   Right       3  \n",
       "3         1     1   none  hermes   Front       4  \n",
       "4         1     1   hank    hank   Right       5  \n",
       "5         1     1   none  hermes   Front       4  "
      ]
     },
     "execution_count": 141,
     "metadata": {},
     "output_type": "execute_result"
    }
   ],
   "source": [
    "df.head()"
   ]
  },
  {
   "cell_type": "code",
   "execution_count": 142,
   "metadata": {
    "ExecuteTime": {
     "end_time": "2021-06-07T22:56:37.725959Z",
     "start_time": "2021-06-07T22:56:37.722568Z"
    },
    "hidden": true
   },
   "outputs": [
    {
     "name": "stdout",
     "output_type": "stream",
     "text": [
      "['Front', 'Left', 'Right', 'none']\n",
      "['aladdin', 'ares', 'chewie', 'copper', 'dip', 'han', 'hank', 'hermes', 'jasmine', 'mowgli', 'none', 'poseidon', 'raja', 'waylon']\n"
     ]
    }
   ],
   "source": [
    "# PicID_1_lst=sorted(set(df.PicID_1.values))\n",
    "PheeID_lst=sorted(set(df.PheeID.values))\n",
    "orientation_lst=sorted(set(df.PicID_2.values))\n",
    "imname_lst=sorted(set(df.imName.values))\n",
    "print(orientation_lst)\n",
    "print(sorted(set(df.imPheeName.values)))\n",
    "# print(imname_lst)"
   ]
  },
  {
   "cell_type": "code",
   "execution_count": 143,
   "metadata": {
    "ExecuteTime": {
     "end_time": "2021-06-07T22:56:38.130100Z",
     "start_time": "2021-06-07T22:56:38.125386Z"
    },
    "hidden": true
   },
   "outputs": [
    {
     "name": "stdout",
     "output_type": "stream",
     "text": [
      "trials available: [ 12  16  61  64  69  73  76  78  82  90 105 108 110 112 115 118 121 122\n",
      " 140 149 168 172 196 198 226 235 239 242 288 290 377 381 404 407]\n",
      "Blocks available: {1, 2, 8, 9, 10, 11, 13, 14, 17, 18, 20, 21, 23}\n"
     ]
    }
   ],
   "source": [
    "monkname=PheeID_lst[4]\n",
    "# monkname=PheeID_lst[3]\n",
    "orientation='Front'#'none'\n",
    "boo=df.vpltTrial==1 # as stimulus was presented\n",
    "boo&=df.imPheeName==monkname\n",
    "boo&=df.PheeID==monkname\n",
    "trialnum_include_values=df[boo].index.values\n",
    "print(f\"trials available: {trialnum_include_values}\")\n",
    "print(f\"Blocks available: {set(df[boo].Block.values)}\")"
   ]
  },
  {
   "cell_type": "code",
   "execution_count": 144,
   "metadata": {
    "ExecuteTime": {
     "end_time": "2021-06-07T22:56:38.523973Z",
     "start_time": "2021-06-07T22:56:38.522405Z"
    },
    "hidden": true
   },
   "outputs": [],
   "source": [
    "# #select a particular block\n",
    "# blocknum=3#21#3\n",
    "# boo2=boo&(df.Block==blocknum)\n",
    "# trialnum_include_values=df[boo2].index.values\n",
    "# print(f\"trials available: {trialnum_include_values}\")\n",
    "# # print(f\"Blocks available: {set(df[boo].Block.values)}\")"
   ]
  },
  {
   "cell_type": "code",
   "execution_count": 145,
   "metadata": {
    "ExecuteTime": {
     "end_time": "2021-06-07T22:56:38.945569Z",
     "start_time": "2021-06-07T22:56:38.939408Z"
    },
    "hidden": true
   },
   "outputs": [
    {
     "data": {
      "text/plain": [
       "(0, 61)"
      ]
     },
     "execution_count": 145,
     "metadata": {},
     "output_type": "execute_result"
    }
   ],
   "source": [
    "#query trials by trialnum_include_values\n",
    "match=True\n",
    "mismatch=False\n",
    "novel=False\n",
    "query=trialnum_values<=0\n",
    "for trialnum in trialnum_include_values:\n",
    "    quer=True\n",
    "    #extract simplified trial condition\n",
    "    match_code=dict_trial_data[trialnum]['imMatchFlag']\n",
    "    novel_code=dict_trial_data[trialnum]['novel']\n",
    "    is_matching=match_code==1\n",
    "    if match:\n",
    "        quer&=is_matching\n",
    "    \n",
    "    is_mismatching=match_code==2\n",
    "    if mismatch:\n",
    "        quer&=is_mismatching    \n",
    "    \n",
    "    is_novel=novel_code==1\n",
    "    if novel:\n",
    "        quer&=is_novel\n",
    "    else:\n",
    "        quer&=~is_novel\n",
    "    if quer:\n",
    "        query|=trialnum_values==trialnum\n",
    "\n",
    "#query by computing the boolean index for a given condition\n",
    "dat=data[query,:]\n",
    "# targ=target[query]\n",
    "targ=trialnum_values[query]\n",
    "dat.shape"
   ]
  },
  {
   "cell_type": "code",
   "execution_count": 146,
   "metadata": {
    "ExecuteTime": {
     "end_time": "2021-06-07T22:56:39.423006Z",
     "start_time": "2021-06-07T22:56:39.396128Z"
    },
    "hidden": true
   },
   "outputs": [
    {
     "ename": "ValueError",
     "evalue": "Found array with 0 sample(s) (shape=(0, 61)) while a minimum of 1 is required.",
     "output_type": "error",
     "traceback": [
      "\u001b[0;31m-------------------------------------------\u001b[0m",
      "\u001b[0;31mValueError\u001b[0mTraceback (most recent call last)",
      "\u001b[0;32m<ipython-input-146-6055d84a2c6a>\u001b[0m in \u001b[0;36m<module>\u001b[0;34m\u001b[0m\n\u001b[1;32m      2\u001b[0m gaussian_mapper = umap.UMAP(output_metric='gaussian_energy',\n\u001b[1;32m      3\u001b[0m                             \u001b[0mn_components\u001b[0m\u001b[0;34m=\u001b[0m\u001b[0;36m40\u001b[0m\u001b[0;34m,\u001b[0m\u001b[0;34m\u001b[0m\u001b[0;34m\u001b[0m\u001b[0m\n\u001b[0;32m----> 4\u001b[0;31m                             random_state=42).fit(dat)\n\u001b[0m\u001b[1;32m      5\u001b[0m \u001b[0mx_values\u001b[0m\u001b[0;34m=\u001b[0m\u001b[0mgaussian_mapper\u001b[0m\u001b[0;34m.\u001b[0m\u001b[0membedding_\u001b[0m\u001b[0;34m.\u001b[0m\u001b[0mT\u001b[0m\u001b[0;34m[\u001b[0m\u001b[0;36m0\u001b[0m\u001b[0;34m]\u001b[0m\u001b[0;34m\u001b[0m\u001b[0;34m\u001b[0m\u001b[0m\n\u001b[1;32m      6\u001b[0m \u001b[0my_values\u001b[0m\u001b[0;34m=\u001b[0m\u001b[0mgaussian_mapper\u001b[0m\u001b[0;34m.\u001b[0m\u001b[0membedding_\u001b[0m\u001b[0;34m.\u001b[0m\u001b[0mT\u001b[0m\u001b[0;34m[\u001b[0m\u001b[0;36m1\u001b[0m\u001b[0;34m]\u001b[0m\u001b[0;34m\u001b[0m\u001b[0;34m\u001b[0m\u001b[0m\n",
      "\u001b[0;32m~/anaconda3/lib/python3.7/site-packages/umap/umap_.py\u001b[0m in \u001b[0;36mfit\u001b[0;34m(self, X, y)\u001b[0m\n\u001b[1;32m   2140\u001b[0m         \"\"\"\n\u001b[1;32m   2141\u001b[0m \u001b[0;34m\u001b[0m\u001b[0m\n\u001b[0;32m-> 2142\u001b[0;31m         \u001b[0mX\u001b[0m \u001b[0;34m=\u001b[0m \u001b[0mcheck_array\u001b[0m\u001b[0;34m(\u001b[0m\u001b[0mX\u001b[0m\u001b[0;34m,\u001b[0m \u001b[0mdtype\u001b[0m\u001b[0;34m=\u001b[0m\u001b[0mnp\u001b[0m\u001b[0;34m.\u001b[0m\u001b[0mfloat32\u001b[0m\u001b[0;34m,\u001b[0m \u001b[0maccept_sparse\u001b[0m\u001b[0;34m=\u001b[0m\u001b[0;34m\"csr\"\u001b[0m\u001b[0;34m,\u001b[0m \u001b[0morder\u001b[0m\u001b[0;34m=\u001b[0m\u001b[0;34m\"C\"\u001b[0m\u001b[0;34m)\u001b[0m\u001b[0;34m\u001b[0m\u001b[0;34m\u001b[0m\u001b[0m\n\u001b[0m\u001b[1;32m   2143\u001b[0m         \u001b[0mself\u001b[0m\u001b[0;34m.\u001b[0m\u001b[0m_raw_data\u001b[0m \u001b[0;34m=\u001b[0m \u001b[0mX\u001b[0m\u001b[0;34m\u001b[0m\u001b[0;34m\u001b[0m\u001b[0m\n\u001b[1;32m   2144\u001b[0m \u001b[0;34m\u001b[0m\u001b[0m\n",
      "\u001b[0;32m~/anaconda3/lib/python3.7/site-packages/sklearn/utils/validation.py\u001b[0m in \u001b[0;36mcheck_array\u001b[0;34m(array, accept_sparse, accept_large_sparse, dtype, order, copy, force_all_finite, ensure_2d, allow_nd, ensure_min_samples, ensure_min_features, warn_on_dtype, estimator)\u001b[0m\n\u001b[1;32m    584\u001b[0m                              \u001b[0;34m\" minimum of %d is required%s.\"\u001b[0m\u001b[0;34m\u001b[0m\u001b[0;34m\u001b[0m\u001b[0m\n\u001b[1;32m    585\u001b[0m                              % (n_samples, array.shape, ensure_min_samples,\n\u001b[0;32m--> 586\u001b[0;31m                                 context))\n\u001b[0m\u001b[1;32m    587\u001b[0m \u001b[0;34m\u001b[0m\u001b[0m\n\u001b[1;32m    588\u001b[0m     \u001b[0;32mif\u001b[0m \u001b[0mensure_min_features\u001b[0m \u001b[0;34m>\u001b[0m \u001b[0;36m0\u001b[0m \u001b[0;32mand\u001b[0m \u001b[0marray\u001b[0m\u001b[0;34m.\u001b[0m\u001b[0mndim\u001b[0m \u001b[0;34m==\u001b[0m \u001b[0;36m2\u001b[0m\u001b[0;34m:\u001b[0m\u001b[0;34m\u001b[0m\u001b[0;34m\u001b[0m\u001b[0m\n",
      "\u001b[0;31mValueError\u001b[0m: Found array with 0 sample(s) (shape=(0, 61)) while a minimum of 1 is required."
     ]
    }
   ],
   "source": [
    "#fit data to a gaussian mapper\n",
    "gaussian_mapper = umap.UMAP(output_metric='gaussian_energy',\n",
    "                            n_components=40,\n",
    "                            random_state=42).fit(dat)\n",
    "x_values=gaussian_mapper.embedding_.T[0]\n",
    "y_values=gaussian_mapper.embedding_.T[1]\n",
    "x_origin=np.mean(x_values)\n",
    "y_origin=np.mean(y_values)\n",
    "x_values=x_values-x_origin\n",
    "y_values=y_values-y_origin"
   ]
  },
  {
   "cell_type": "code",
   "execution_count": 147,
   "metadata": {
    "ExecuteTime": {
     "end_time": "2021-06-07T22:56:40.067740Z",
     "start_time": "2021-06-07T22:56:39.920872Z"
    },
    "hidden": true
   },
   "outputs": [
    {
     "data": {
      "image/png": "[encoded data removed]",
      "text/plain": [
       "<Figure size 432x432 with 1 Axes>"
      ]
     },
     "metadata": {
      "needs_background": "light"
     },
     "output_type": "display_data"
    }
   ],
   "source": [
    "#plot the first two axes\n",
    "cmap='viridis'\n",
    "fontsize=22\n",
    "fig,ax=plt.subplots(ncols=1,figsize=(6,6))\n",
    "# ax.scatter(x_values, y_values, \n",
    "#             c=targ, cmap=cmap, s=10, marker='.',alpha=0.7)\n",
    "ax.scatter(x_values, y_values, \n",
    "            c=targ, cmap=cmap, s=1000, marker='.',alpha=0.3)\n",
    "ax.scatter(x_values, y_values,\n",
    "            c='k', s=10, marker='.')\n",
    "ax.tick_params(axis='both',labelsize=fontsize)\n",
    "# ax.tick_params(axis='both', which='major', labelsize=fontsize)\n",
    "# ax.tick_params(axis='both', which='minor', labelsize=0)\n",
    "ax.set_xlabel('UMAP1',fontsize=fontsize)\n",
    "ax.set_ylabel('UMAP2',fontsize=fontsize)\n",
    "title=f'out of {len(trialnum_include_values)} matches for {monkname}'\n",
    "ax.set_title(title,fontsize=fontsize-2)\n",
    "fig.show()\n",
    "#                             random_state=42).fit(digits.data)\n",
    "# plt.scatter(gaussian_mapper.embedding_.T[0], gaussian_mapper.embedding_.T[1], c=digits.target, cmap='Spectral')\n",
    "# plt.show()"
   ]
  },
  {
   "cell_type": "code",
   "execution_count": 148,
   "metadata": {
    "ExecuteTime": {
     "end_time": "2021-06-07T22:56:42.940065Z",
     "start_time": "2021-06-07T22:56:42.925223Z"
    },
    "hidden": true
   },
   "outputs": [
    {
     "ename": "ValueError",
     "evalue": "Found array with 0 sample(s) (shape=(0, 61)) while a minimum of 1 is required.",
     "output_type": "error",
     "traceback": [
      "\u001b[0;31m-------------------------------------------\u001b[0m",
      "\u001b[0;31mValueError\u001b[0mTraceback (most recent call last)",
      "\u001b[0;32m<ipython-input-148-725c304f64e1>\u001b[0m in \u001b[0;36m<module>\u001b[0;34m\u001b[0m\n\u001b[1;32m      1\u001b[0m hyperbolic_mapper = umap.UMAP(output_metric='hyperboloid',\n\u001b[0;32m----> 2\u001b[0;31m                               random_state=42).fit(dat)\n\u001b[0m\u001b[1;32m      3\u001b[0m \u001b[0mx\u001b[0m \u001b[0;34m=\u001b[0m \u001b[0mhyperbolic_mapper\u001b[0m\u001b[0;34m.\u001b[0m\u001b[0membedding_\u001b[0m\u001b[0;34m[\u001b[0m\u001b[0;34m:\u001b[0m\u001b[0;34m,\u001b[0m \u001b[0;36m0\u001b[0m\u001b[0;34m]\u001b[0m\u001b[0;34m\u001b[0m\u001b[0;34m\u001b[0m\u001b[0m\n\u001b[1;32m      4\u001b[0m \u001b[0my\u001b[0m \u001b[0;34m=\u001b[0m \u001b[0mhyperbolic_mapper\u001b[0m\u001b[0;34m.\u001b[0m\u001b[0membedding_\u001b[0m\u001b[0;34m[\u001b[0m\u001b[0;34m:\u001b[0m\u001b[0;34m,\u001b[0m \u001b[0;36m1\u001b[0m\u001b[0;34m]\u001b[0m\u001b[0;34m\u001b[0m\u001b[0;34m\u001b[0m\u001b[0m\n\u001b[1;32m      5\u001b[0m \u001b[0mz\u001b[0m \u001b[0;34m=\u001b[0m \u001b[0mnp\u001b[0m\u001b[0;34m.\u001b[0m\u001b[0msqrt\u001b[0m\u001b[0;34m(\u001b[0m\u001b[0;36m1\u001b[0m \u001b[0;34m+\u001b[0m \u001b[0mnp\u001b[0m\u001b[0;34m.\u001b[0m\u001b[0msum\u001b[0m\u001b[0;34m(\u001b[0m\u001b[0mhyperbolic_mapper\u001b[0m\u001b[0;34m.\u001b[0m\u001b[0membedding_\u001b[0m\u001b[0;34m**\u001b[0m\u001b[0;36m2\u001b[0m\u001b[0;34m,\u001b[0m \u001b[0maxis\u001b[0m\u001b[0;34m=\u001b[0m\u001b[0;36m1\u001b[0m\u001b[0;34m)\u001b[0m\u001b[0;34m)\u001b[0m\u001b[0;34m\u001b[0m\u001b[0;34m\u001b[0m\u001b[0m\n",
      "\u001b[0;32m~/anaconda3/lib/python3.7/site-packages/umap/umap_.py\u001b[0m in \u001b[0;36mfit\u001b[0;34m(self, X, y)\u001b[0m\n\u001b[1;32m   2140\u001b[0m         \"\"\"\n\u001b[1;32m   2141\u001b[0m \u001b[0;34m\u001b[0m\u001b[0m\n\u001b[0;32m-> 2142\u001b[0;31m         \u001b[0mX\u001b[0m \u001b[0;34m=\u001b[0m \u001b[0mcheck_array\u001b[0m\u001b[0;34m(\u001b[0m\u001b[0mX\u001b[0m\u001b[0;34m,\u001b[0m \u001b[0mdtype\u001b[0m\u001b[0;34m=\u001b[0m\u001b[0mnp\u001b[0m\u001b[0;34m.\u001b[0m\u001b[0mfloat32\u001b[0m\u001b[0;34m,\u001b[0m \u001b[0maccept_sparse\u001b[0m\u001b[0;34m=\u001b[0m\u001b[0;34m\"csr\"\u001b[0m\u001b[0;34m,\u001b[0m \u001b[0morder\u001b[0m\u001b[0;34m=\u001b[0m\u001b[0;34m\"C\"\u001b[0m\u001b[0;34m)\u001b[0m\u001b[0;34m\u001b[0m\u001b[0;34m\u001b[0m\u001b[0m\n\u001b[0m\u001b[1;32m   2143\u001b[0m         \u001b[0mself\u001b[0m\u001b[0;34m.\u001b[0m\u001b[0m_raw_data\u001b[0m \u001b[0;34m=\u001b[0m \u001b[0mX\u001b[0m\u001b[0;34m\u001b[0m\u001b[0;34m\u001b[0m\u001b[0m\n\u001b[1;32m   2144\u001b[0m \u001b[0;34m\u001b[0m\u001b[0m\n",
      "\u001b[0;32m~/anaconda3/lib/python3.7/site-packages/sklearn/utils/validation.py\u001b[0m in \u001b[0;36mcheck_array\u001b[0;34m(array, accept_sparse, accept_large_sparse, dtype, order, copy, force_all_finite, ensure_2d, allow_nd, ensure_min_samples, ensure_min_features, warn_on_dtype, estimator)\u001b[0m\n\u001b[1;32m    584\u001b[0m                              \u001b[0;34m\" minimum of %d is required%s.\"\u001b[0m\u001b[0;34m\u001b[0m\u001b[0;34m\u001b[0m\u001b[0m\n\u001b[1;32m    585\u001b[0m                              % (n_samples, array.shape, ensure_min_samples,\n\u001b[0;32m--> 586\u001b[0;31m                                 context))\n\u001b[0m\u001b[1;32m    587\u001b[0m \u001b[0;34m\u001b[0m\u001b[0m\n\u001b[1;32m    588\u001b[0m     \u001b[0;32mif\u001b[0m \u001b[0mensure_min_features\u001b[0m \u001b[0;34m>\u001b[0m \u001b[0;36m0\u001b[0m \u001b[0;32mand\u001b[0m \u001b[0marray\u001b[0m\u001b[0;34m.\u001b[0m\u001b[0mndim\u001b[0m \u001b[0;34m==\u001b[0m \u001b[0;36m2\u001b[0m\u001b[0;34m:\u001b[0m\u001b[0;34m\u001b[0m\u001b[0;34m\u001b[0m\u001b[0m\n",
      "\u001b[0;31mValueError\u001b[0m: Found array with 0 sample(s) (shape=(0, 61)) while a minimum of 1 is required."
     ]
    }
   ],
   "source": [
    "hyperbolic_mapper = umap.UMAP(output_metric='hyperboloid',\n",
    "                              random_state=42).fit(dat)\n",
    "x = hyperbolic_mapper.embedding_[:, 0]\n",
    "y = hyperbolic_mapper.embedding_[:, 1]\n",
    "z = np.sqrt(1 + np.sum(hyperbolic_mapper.embedding_**2, axis=1))\n",
    "disk_x = x / (1 + z)\n",
    "disk_y = y / (1 + z)"
   ]
  },
  {
   "cell_type": "code",
   "execution_count": 149,
   "metadata": {
    "ExecuteTime": {
     "end_time": "2021-06-07T22:56:43.521315Z",
     "start_time": "2021-06-07T22:56:43.471096Z"
    },
    "hidden": true
   },
   "outputs": [
    {
     "data": {
      "image/png": "[encoded data removed]",
      "text/plain": [
       "<Figure size 504x504 with 1 Axes>"
      ]
     },
     "metadata": {
      "needs_background": "light"
     },
     "output_type": "display_data"
    }
   ],
   "source": [
    "fig = plt.figure(figsize=(7,7))\n",
    "ax = fig.add_subplot(111)\n",
    "ax.scatter(disk_x, disk_y, \n",
    "            c=targ, cmap=cmap, s=20, marker='.',alpha=0.7)\n",
    "# ax.scatter(disk_x, disk_y, \n",
    "#             c=targ, cmap=cmap, s=1000, marker='.',alpha=0.7)\n",
    "# ax.scatter(disk_x, disk_y, \n",
    "#             c='k', s=10, marker='.')\n",
    "boundary = plt.Circle((0,0), 1.05, fc='none', ec='k')\n",
    "ax.add_artist(boundary)\n",
    "ax.axis('off');\n",
    "ax.set_xlim([-1.1,1.1])\n",
    "ax.set_ylim([-1.1,1.1])\n",
    "plt.show()"
   ]
  },
  {
   "cell_type": "code",
   "execution_count": null,
   "metadata": {
    "ExecuteTime": {
     "end_time": "2021-06-07T20:34:40.869887Z",
     "start_time": "2021-06-07T20:34:37.894Z"
    },
    "hidden": true
   },
   "outputs": [],
   "source": [
    "#TODO: find a Block that has the most observations in it accross all monkeys.\n",
    "#TODO: consider trying different nid_self neurons"
   ]
  },
  {
   "cell_type": "code",
   "execution_count": null,
   "metadata": {
    "ExecuteTime": {
     "end_time": "2021-06-07T20:34:40.872934Z",
     "start_time": "2021-06-07T20:34:38.070Z"
    },
    "hidden": true
   },
   "outputs": [],
   "source": [
    "dat.shape"
   ]
  },
  {
   "cell_type": "markdown",
   "metadata": {},
   "source": [
    "# TODO: clustering on x_values,y_values that show meaningful structure over long time scales\n",
    "- prerequisite: find meaningful structure over long time scales"
   ]
  },
  {
   "cell_type": "markdown",
   "metadata": {},
   "source": [
    "Hierarchical Density-based Spatial Clustering of Applications with Noise (HDBSCAN) was used to partition the results of UMAP into sets."
   ]
  },
  {
   "cell_type": "code",
   "execution_count": null,
   "metadata": {
    "ExecuteTime": {
     "end_time": "2021-06-07T20:34:40.875737Z",
     "start_time": "2021-06-07T20:34:38.592Z"
    }
   },
   "outputs": [],
   "source": [
    "x_values"
   ]
  },
  {
   "cell_type": "code",
   "execution_count": null,
   "metadata": {
    "ExecuteTime": {
     "end_time": "2021-06-07T20:34:40.878050Z",
     "start_time": "2021-06-07T20:34:38.773Z"
    }
   },
   "outputs": [],
   "source": [
    "!pip install hdbscan"
   ]
  },
  {
   "cell_type": "code",
   "execution_count": null,
   "metadata": {
    "ExecuteTime": {
     "end_time": "2021-06-07T20:34:40.880510Z",
     "start_time": "2021-06-07T20:34:38.934Z"
    }
   },
   "outputs": [],
   "source": [
    "import hdbscan\n"
   ]
  },
  {
   "cell_type": "code",
   "execution_count": null,
   "metadata": {
    "ExecuteTime": {
     "end_time": "2021-06-07T20:34:40.883749Z",
     "start_time": "2021-06-07T20:34:39.110Z"
    }
   },
   "outputs": [],
   "source": [
    "from scipy.cluster.hierarchy import fcluster\n",
    "\n",
    "clusterer = hdbscan.HDBSCAN()"
   ]
  },
  {
   "cell_type": "code",
   "execution_count": null,
   "metadata": {
    "ExecuteTime": {
     "end_time": "2021-06-07T20:34:40.887080Z",
     "start_time": "2021-06-07T20:34:39.286Z"
    }
   },
   "outputs": [],
   "source": [
    "XY=np.stack(x_values,y_values)\n",
    "clusterer.fit(XY)\n",
    "Z = clusterer.single_linkage_tree_.to_numpy()\n",
    "labels = fcluster(Z, 2, criterion='maxclust')"
   ]
  },
  {
   "cell_type": "markdown",
   "metadata": {},
   "source": [
    "# TODO(feature augmentation): make histograms of single trials and compare to those of sets of trials."
   ]
  },
  {
   "cell_type": "markdown",
   "metadata": {},
   "source": [
    "# TODO: plot umap only on points that are in "
   ]
  },
  {
   "cell_type": "markdown",
   "metadata": {
    "ExecuteTime": {
     "end_time": "2021-06-07T23:19:09.342523Z",
     "start_time": "2021-06-07T23:19:09.340161Z"
    }
   },
   "source": [
    "# TODO: dev integrate and fire model, where M(t,tau)= the vector of number of spikes that occured for the i^th neuron in the time interval from t-tau to t"
   ]
  },
  {
   "cell_type": "markdown",
   "metadata": {},
   "source": [
    "# TODO: try out which metrics actually reproduce the single trial patter that I've been gunning for"
   ]
  },
  {
   "cell_type": "code",
   "execution_count": null,
   "metadata": {},
   "outputs": [],
   "source": []
  },
  {
   "cell_type": "code",
   "execution_count": null,
   "metadata": {},
   "outputs": [],
   "source": []
  },
  {
   "cell_type": "code",
   "execution_count": null,
   "metadata": {},
   "outputs": [],
   "source": []
  },
  {
   "cell_type": "code",
   "execution_count": null,
   "metadata": {},
   "outputs": [],
   "source": []
  },
  {
   "cell_type": "code",
   "execution_count": null,
   "metadata": {},
   "outputs": [],
   "source": []
  },
  {
   "cell_type": "code",
   "execution_count": null,
   "metadata": {},
   "outputs": [],
   "source": []
  },
  {
   "cell_type": "code",
   "execution_count": null,
   "metadata": {},
   "outputs": [],
   "source": []
  },
  {
   "cell_type": "code",
   "execution_count": null,
   "metadata": {},
   "outputs": [],
   "source": []
  },
  {
   "cell_type": "code",
   "execution_count": null,
   "metadata": {},
   "outputs": [],
   "source": []
  },
  {
   "cell_type": "code",
   "execution_count": null,
   "metadata": {},
   "outputs": [],
   "source": []
  }
 ],
 "metadata": {
  "kernelspec": {
   "display_name": "Python 3",
   "language": "python",
   "name": "python3"
  },
  "language_info": {
   "codemirror_mode": {
    "name": "ipython",
    "version": 3
   },
   "file_extension": ".py",
   "mimetype": "text/x-python",
   "name": "python",
   "nbconvert_exporter": "python",
   "pygments_lexer": "ipython3",
   "version": "3.7.6"
  },
  "toc": {
   "base_numbering": 1,
   "nav_menu": {},
   "number_sections": true,
   "sideBar": true,
   "skip_h1_title": false,
   "title_cell": "Table of Contents",
   "title_sidebar": "Contents",
   "toc_cell": false,
   "toc_position": {},
   "toc_section_display": true,
   "toc_window_display": false
  },
  "varInspector": {
   "cols": {
    "lenName": 16,
    "lenType": 16,
    "lenVar": 40
   },
   "kernels_config": {
    "python": {
     "delete_cmd_postfix": "",
     "delete_cmd_prefix": "del ",
     "library": "var_list.py",
     "varRefreshCmd": "print(var_dic_list())"
    },
    "r": {
     "delete_cmd_postfix": ") ",
     "delete_cmd_prefix": "rm(",
     "library": "var_list.r",
     "varRefreshCmd": "cat(var_dic_list()) "
    }
   },
   "types_to_exclude": [
    "module",
    "function",
    "builtin_function_or_method",
    "instance",
    "_Feature"
   ],
   "window_display": false
  }
 },
 "nbformat": 4,
 "nbformat_minor": 4
}
