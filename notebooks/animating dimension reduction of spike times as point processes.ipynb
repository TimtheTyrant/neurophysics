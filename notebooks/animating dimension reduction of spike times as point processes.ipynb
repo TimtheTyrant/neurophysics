{
 "cells": [
  {
   "cell_type": "markdown",
   "metadata": {},
   "source": [
    "# animating dimension reduction of spike times as point processes\n",
    "Tim Tyree<br>\n",
    "2.20.2021"
   ]
  },
  {
   "cell_type": "code",
   "execution_count": 1,
   "metadata": {
    "ExecuteTime": {
     "end_time": "2021-06-07T21:43:26.809980Z",
     "start_time": "2021-06-07T21:43:15.935175Z"
    }
   },
   "outputs": [],
   "source": [
    "#automate the boring stuff\n",
    "from lib.getterdone import *\n",
    "# import h5py,json,os"
   ]
  },
  {
   "cell_type": "markdown",
   "metadata": {
    "heading_collapsed": true
   },
   "source": [
    "### compute the point process feature vectors for one trial"
   ]
  },
  {
   "cell_type": "code",
   "execution_count": 130,
   "metadata": {
    "ExecuteTime": {
     "end_time": "2021-03-05T03:50:03.852866Z",
     "start_time": "2021-03-05T03:50:03.850033Z"
    },
    "hidden": true
   },
   "outputs": [],
   "source": [
    "#search_for_filename\n",
    "# input_file_name=search_for_file()\n",
    "#preparsed json data is deserialized\n",
    "# input_file_name=f\"{nb_dir}/Data/Archie/spike_times_trial_80.json\"\n",
    "input_file_name=f\"{nb_dir}/Data/Archie/spike_times_trial_20.json\"\n",
    "# input_file_name=f\"{nb_dir}/Data/Archie/spike_times_trial_4.json\"\n",
    "\n",
    "#manual data has an ugly dtype\n",
    "# input_file_name='/Users/timothytyree/Documents/GitHub/neurophysics/notebooks/Data/SRT_CollabData/SortedData_Manual/catTempPopStorage_full.mat'\n",
    "#early autogen data\n",
    "# input_file_name='/Users/timothytyree/Documents/GitHub/neurophysics/notebooks/Data/SRT_CollabData/SortedData_AutoGen/Archie_SRT_Set226_subset1_201020_142509_UnitStorage.mat'\n"
   ]
  },
  {
   "cell_type": "code",
   "execution_count": null,
   "metadata": {
    "ExecuteTime": {
     "end_time": "2021-02-27T14:52:18.651237Z",
     "start_time": "2021-02-27T14:52:18.648552Z"
    },
    "hidden": true
   },
   "outputs": [],
   "source": []
  },
  {
   "cell_type": "code",
   "execution_count": 131,
   "metadata": {
    "ExecuteTime": {
     "end_time": "2021-03-05T03:50:04.527429Z",
     "start_time": "2021-03-05T03:50:04.491914Z"
    },
    "hidden": true
   },
   "outputs": [
    {
     "data": {
      "text/plain": [
       "dict"
      ]
     },
     "execution_count": 131,
     "metadata": {},
     "output_type": "execute_result"
    }
   ],
   "source": [
    "with open(input_file_name) as f:\n",
    "    data_raw = json.load(f)\n",
    "# Output: {'name': 'Bob', 'languages': ['English', 'Fench']}\n",
    "type(data_raw)"
   ]
  },
  {
   "cell_type": "code",
   "execution_count": 132,
   "metadata": {
    "ExecuteTime": {
     "end_time": "2021-03-05T03:50:04.753539Z",
     "start_time": "2021-03-05T03:50:04.750214Z"
    },
    "hidden": true
   },
   "outputs": [],
   "source": [
    "# #initialize a list of length N=number of neurons\n",
    "# N=len(list(data_raw.keys()))\n",
    "# X=np.full(N,np.nan,dtype=np.float64)\n",
    "# #functionally compute the time since last spike time for a given time for each neuron\n",
    "# t=0\n",
    "# for n,key in enumerate(data_raw.keys()):\n",
    "#     spikes=np.array(data_raw[key],np.float64)\n",
    "#     spikes=spikes[spikes<t]\n",
    "#     if not spikes.shape[0]==0:\n",
    "#         lag=t-spikes[-1]\n",
    "#         X[n]=lag #time since last spike in the nth neuron\n",
    "#         # X[n]=1/lag #rate since last spike in the nth neuron"
   ]
  },
  {
   "cell_type": "code",
   "execution_count": 133,
   "metadata": {
    "ExecuteTime": {
     "end_time": "2021-03-05T03:50:05.194910Z",
     "start_time": "2021-03-05T03:50:05.190420Z"
    },
    "hidden": true
   },
   "outputs": [],
   "source": [
    "#input neuron id\n",
    "nid_self=20#0\n",
    "l=nid_self\n",
    "key_self=list(data_raw.keys())[l]\n",
    "times_self=np.array(data_raw[key_self],np.float64)\n",
    "M=times_self.shape[0]"
   ]
  },
  {
   "cell_type": "code",
   "execution_count": 134,
   "metadata": {
    "ExecuteTime": {
     "end_time": "2021-03-05T03:50:05.808964Z",
     "start_time": "2021-03-05T03:50:05.629081Z"
    },
    "hidden": true
   },
   "outputs": [],
   "source": [
    "# #represent spiketime trial for 1 neuron as a point process in terms of an 1 x m x n numpy array\n",
    "N=len(list(data_raw.keys()))\n",
    "arr = np.full([M, N], np.nan)\n",
    "\n",
    "#initialize a list of length N=number of neurons\n",
    "# X=np.full(N,np.nan,dtype=np.float64)\n",
    "#functionally compute the time since last spike time for a given time for each neuron\n",
    "for m,t in enumerate(times_self):\n",
    "    for n,key in enumerate(data_raw.keys()):\n",
    "        spikes=np.array(data_raw[key],np.float64)\n",
    "        spikes=spikes[spikes<t]\n",
    "        if not spikes.shape[0]==0:\n",
    "            lag=t-spikes[-1]\n",
    "            arr[m,n]=lag #time since last spike in the nth neuron\n",
    "            # X[n]=1/lag #rate since last spike in the nth neuron"
   ]
  },
  {
   "cell_type": "code",
   "execution_count": null,
   "metadata": {
    "ExecuteTime": {
     "end_time": "2021-02-27T14:52:40.842585Z",
     "start_time": "2021-02-27T14:52:40.837214Z"
    },
    "hidden": true
   },
   "outputs": [],
   "source": []
  },
  {
   "cell_type": "code",
   "execution_count": 135,
   "metadata": {
    "ExecuteTime": {
     "end_time": "2021-03-05T03:50:06.895508Z",
     "start_time": "2021-03-05T03:50:06.834266Z"
    },
    "hidden": true
   },
   "outputs": [],
   "source": [
    "#TODO: find the biggest subsquare with no nan values\n",
    "#GOAL: have no nan values in arr\n",
    "#find the fraction of True for each column\n",
    "boo_neurons_keep=~np.isnan(arr)[-1,:]\n",
    "for n in range(N):\n",
    "    earliest_time_thresh=-1\n",
    "    if boo_neurons_keep[n]:\n",
    "        boo=np.isnan(arr)[:,n]\n",
    "        frac=sum(boo)/boo.shape[0]\n",
    "        #earliest time of nonnan value for given neuron is less than earliest_time_thresh\n",
    "        boo_neurons_keep[n]=times_self[~boo][0]<earliest_time_thresh"
   ]
  },
  {
   "cell_type": "code",
   "execution_count": 136,
   "metadata": {
    "ExecuteTime": {
     "end_time": "2021-03-05T03:50:07.346382Z",
     "start_time": "2021-03-05T03:50:07.341001Z"
    },
    "hidden": true
   },
   "outputs": [],
   "source": [
    "boo_times_keep=times_self>earliest_time_thresh\n",
    "Mnew=sum(boo_times_keep)\n",
    "Nnew=sum(boo_neurons_keep)\n",
    "arrnew=arr[boo_times_keep][:,boo_neurons_keep]\n",
    "#assert there are no remaining nan values\n",
    "assert (not np.isnan(arrnew).any())"
   ]
  },
  {
   "cell_type": "code",
   "execution_count": 137,
   "metadata": {
    "ExecuteTime": {
     "end_time": "2021-03-05T03:50:08.007576Z",
     "start_time": "2021-03-05T03:50:08.001087Z"
    },
    "hidden": true
   },
   "outputs": [
    {
     "data": {
      "text/plain": [
       "(74, 188)"
      ]
     },
     "execution_count": 137,
     "metadata": {},
     "output_type": "execute_result"
    }
   ],
   "source": [
    "data=arrnew\n",
    "data.shape"
   ]
  },
  {
   "cell_type": "code",
   "execution_count": 138,
   "metadata": {
    "ExecuteTime": {
     "end_time": "2021-03-05T03:50:08.910479Z",
     "start_time": "2021-03-05T03:50:08.906956Z"
    },
    "hidden": true
   },
   "outputs": [],
   "source": [
    "#classify spikes as before/after the stimulus\n",
    "spike_times=np.array(data_raw[f\"{nid_self}\"])\n",
    "\n",
    "t_stim=.15#~150ms for stimulus to reach the neurons in the hippocampus\n",
    "boo_before_stim=spike_times<t_stim\n",
    "boo_after_stim=~boo_before_stim\n",
    "\n",
    "#classify spikes as before or after stim\n",
    "target_names=[r'before',r'after']\n",
    "target=boo_before_stim*0+boo_after_stim*1\n",
    "target=target[boo_times_keep]\n",
    "\n",
    "#TODO(later): represent spiketime trial for all neurons as an array of point processes in terms of an l x m x n numpy array"
   ]
  },
  {
   "cell_type": "markdown",
   "metadata": {},
   "source": [
    "## for a set of trials, compute the feature vectors\n",
    "6.7.2021"
   ]
  },
  {
   "cell_type": "code",
   "execution_count": 2,
   "metadata": {
    "ExecuteTime": {
     "end_time": "2021-06-07T21:43:32.431596Z",
     "start_time": "2021-06-07T21:43:32.428925Z"
    }
   },
   "outputs": [],
   "source": [
    "input_dir=f\"{nb_dir}/Data/Archie/\"+'Archie_SRT_Set212_Subset1_200520_165716_pointProcess_20_compressed.npz'\n",
    "dataset=np.load(input_dir)"
   ]
  },
  {
   "cell_type": "code",
   "execution_count": 53,
   "metadata": {
    "ExecuteTime": {
     "end_time": "2021-06-07T22:03:57.568225Z",
     "start_time": "2021-06-07T22:03:57.542941Z"
    }
   },
   "outputs": [],
   "source": [
    "#computelag feature vector\n",
    "data=dataset['data']\n",
    "target=dataset['target']\n",
    "trialnum_values=dataset['trialnum_values']\n",
    "spike_times=dataset['t_values']\n",
    "target_names=[r'dubious',r'decisive',r'reflective']"
   ]
  },
  {
   "cell_type": "code",
   "execution_count": null,
   "metadata": {
    "ExecuteTime": {
     "end_time": "2021-06-07T23:23:15.940194Z",
     "start_time": "2021-06-07T22:46:07.589Z"
    }
   },
   "outputs": [],
   "source": [
    "# #compute rate of change of lag feature vector\n",
    "# DT_values=np.diff(dataset['t_values'])\n",
    "# # DT_thresh=10#1\n",
    "# # boo=np.abs(DT_values)<DT_thresh\n",
    "# boo=np.diff(dataset['trialnum_values'])==0\n",
    "# DX_values=np.diff(dataset['data'],axis=0)\n",
    "# # Y_values=np.divide(DX_values,DT_values,axis=0)\n",
    "# Y_values=np.stack([DX_values[:,j]/DT_values for j in range(DX_values.shape[1])],axis=1)\n",
    "# print(Y_values.shape)\n",
    "# data=Y_values[boo,:]\n",
    "# spike_times=dataset['t_values'][1:][boo]\n",
    "# target=dataset['target'][1:][boo]\n",
    "# trialnum_values=dataset['trialnum_values'][1:][boo]\n",
    "# target_names=[r'dubious',r'decisive',r'reflective']"
   ]
  },
  {
   "cell_type": "code",
   "execution_count": 131,
   "metadata": {
    "ExecuteTime": {
     "end_time": "2021-06-07T23:28:11.023832Z",
     "start_time": "2021-06-07T23:28:10.986553Z"
    }
   },
   "outputs": [],
   "source": [
    "#TODO: compute moving average lag feature vector\n",
    "data=dataset['data']\n",
    "target=dataset['target']\n",
    "trialnum_values=dataset['trialnum_values']\n",
    "spike_times=dataset['t_values']\n",
    "target_names=[r'dubious',r'decisive',r'reflective']\n",
    "def moving_average(x, w):\n",
    "    return np.convolve(x, np.ones(w), 'valid') / w\n",
    "x_lst=[]\n",
    "navg=5\n",
    "for x in data.T:\n",
    "    x_lst.append(moving_average(x, w=navg))\n",
    "data=np.stack(x_lst).T\n",
    "target=moving_average(dataset['target'], w=navg)\n",
    "trialnum_values=moving_average(dataset['trialnum_values'], w=navg)\n",
    "spike_times=moving_average(dataset['t_values'], w=navg)\n",
    "boo=np.diff(moving_average(dataset['trialnum_values'], w=navg))==0\n",
    "data=data[1:][boo,:]\n",
    "spike_times=spike_times[1:][boo]\n",
    "target=dataset['target'][2+int((navg+1)/4):-int((navg+1)/4)-1][boo]\n",
    "trialnum_values=trialnum_values[1:][boo]"
   ]
  },
  {
   "cell_type": "code",
   "execution_count": null,
   "metadata": {
    "ExecuteTime": {
     "end_time": "2021-06-07T22:16:28.237422Z",
     "start_time": "2021-06-07T22:16:28.233424Z"
    }
   },
   "outputs": [],
   "source": []
  },
  {
   "cell_type": "code",
   "execution_count": null,
   "metadata": {
    "ExecuteTime": {
     "end_time": "2021-06-07T22:02:12.269100Z",
     "start_time": "2021-06-07T22:02:12.263692Z"
    }
   },
   "outputs": [],
   "source": [
    "#select a particular temporal phase\n",
    "# boo=target==0 #dubious\n",
    "# boo=target==1 #decisive\n",
    "boo=target==2 #reflective\n",
    "data=data[boo]\n",
    "target=trialnum_values[boo]"
   ]
  },
  {
   "cell_type": "code",
   "execution_count": null,
   "metadata": {},
   "outputs": [],
   "source": [
    "#TODO(later): compute rate of change of rate feature vector\n",
    "#TODO: try concatenating feature vectors"
   ]
  },
  {
   "cell_type": "markdown",
   "metadata": {},
   "source": [
    "# visualize different parameter settings with umap\n",
    "- Results for ~250 spikes (neuron 0, trial 4, archie)\n",
    "    - spike event patterns can be observed as lines in data=arrnew\n",
    "    - self-consistent in time\n",
    "    - large angles at beginning of umap clustere\n",
    "    - umap clusters separate at stimulus onset\n",
    "- Results for 23 spikes (neuron 7, trial 40, archie)\n",
    "    - spike event patterns can be observed somewhat.  Data may be too sparse...\n",
    "-"
   ]
  },
  {
   "cell_type": "code",
   "execution_count": 38,
   "metadata": {
    "ExecuteTime": {
     "end_time": "2021-06-07T21:25:43.835200Z",
     "start_time": "2021-06-07T21:25:43.829884Z"
    }
   },
   "outputs": [],
   "source": [
    "# #load example data\n",
    "# from sklearn.datasets import load_digits\n",
    "# digits = load_digits()\n",
    "# data = digits.data\n",
    "# data.shape"
   ]
  },
  {
   "cell_type": "code",
   "execution_count": 39,
   "metadata": {
    "ExecuteTime": {
     "end_time": "2021-06-07T21:25:44.068915Z",
     "start_time": "2021-06-07T21:25:44.067169Z"
    }
   },
   "outputs": [],
   "source": [
    "# #TODO(later): Represent point process of spike times as an 8x8 bit image (under some reasonable normalization that is consistent accross samples)\n",
    "# index=212\n",
    "# plt.subplots(figsize=(1,1))\n",
    "# plt.imshow(data[index].reshape((8,8)),cmap='gray')\n",
    "# plt.axis('off')\n",
    "# plt.show()"
   ]
  },
  {
   "cell_type": "code",
   "execution_count": 108,
   "metadata": {
    "ExecuteTime": {
     "end_time": "2021-06-07T22:20:45.286834Z",
     "start_time": "2021-06-07T22:20:45.281472Z"
    }
   },
   "outputs": [],
   "source": [
    "# Ignore UserWarnings\n",
    "import warnings\n",
    "warnings.simplefilter('ignore', UserWarning)\n",
    "# from umap import UMAP"
   ]
  },
  {
   "cell_type": "code",
   "execution_count": 127,
   "metadata": {
    "ExecuteTime": {
     "end_time": "2021-06-07T23:25:41.567601Z",
     "start_time": "2021-06-07T23:25:41.564417Z"
    }
   },
   "outputs": [],
   "source": [
    "def tween(e1, e2, n_frames=20):\n",
    "    for i in range(5):\n",
    "        yield e1\n",
    "    for i in range(n_frames):\n",
    "        alpha = i / float(n_frames - 1)\n",
    "        yield (1 - alpha) * e1 + alpha * e2\n",
    "    for i in range(5):\n",
    "        yield(e2)\n",
    "    return"
   ]
  },
  {
   "cell_type": "code",
   "execution_count": 128,
   "metadata": {
    "ExecuteTime": {
     "end_time": "2021-06-07T23:25:41.863077Z",
     "start_time": "2021-06-07T23:25:41.858182Z"
    }
   },
   "outputs": [],
   "source": [
    "def generate_frame_data(data, metric, arg_name='n_neighbors', arg_list=[], **kwargs):\n",
    "    result = []\n",
    "    es = []\n",
    "    for arg in arg_list:\n",
    "        kwargs = {arg_name:arg}\n",
    "        if len(es) > 0:\n",
    "            es.append(UMAP(init=es[-1], negative_sample_rate=3,metric=metric, **kwargs).fit_transform(data))\n",
    "        else:\n",
    "            es.append(UMAP(negative_sample_rate=3,metric=metric, **kwargs).fit_transform(data))\n",
    "        \n",
    "    for e1, e2 in zip(es[:-1], es[1:]):\n",
    "        result.extend(list(tween(e1, e2)))\n",
    "        \n",
    "    return result"
   ]
  },
  {
   "cell_type": "code",
   "execution_count": 129,
   "metadata": {
    "ExecuteTime": {
     "end_time": "2021-06-07T23:25:42.113622Z",
     "start_time": "2021-06-07T23:25:42.103327Z"
    }
   },
   "outputs": [],
   "source": [
    "def create_animation(frame_data, spike_times, arg_name='n_neighbors', arg_list=[],**kwargs):\n",
    "    fig, ax = plt.subplots()\n",
    "    all_data = np.vstack(frame_data)\n",
    "    frame_bounds = (all_data[:, 0].min() * 1.1, \n",
    "                    all_data[:, 0].max() * 1.1,\n",
    "                    all_data[:, 1].min() * 1.1, \n",
    "                    all_data[:, 1].max() * 1.1)\n",
    "    ax.set_xlim(frame_bounds[0], frame_bounds[1])\n",
    "    ax.set_ylim(frame_bounds[2], frame_bounds[3])\n",
    "    \n",
    "    #size by class and color by time \n",
    "\n",
    "# #     #size by class and color by time\n",
    "#     spike_times=np.array(data_raw[f\"{nid_self}\"])\n",
    "#     st=spike_times[boo_times_keep]\n",
    "#     s_values=target*100+5\n",
    "# #     s_values=20*(st-st[0])/(st[-1]-st[0])\n",
    "#     points = ax.scatter(frame_data[0][:, 0], frame_data[0][:, 1], s=s_values, c=st, cmap='Blues', \n",
    "#                         animated=True)\n",
    "    \n",
    "    \n",
    "    #color by time\n",
    "    spike_times=np.array(data_raw[f\"{nid_self}\"])\n",
    "    points = ax.scatter(frame_data[0][:, 0], frame_data[0][:, 1], s=50, c=spike_times, cmap='Blues', \n",
    "                        animated=True)\n",
    "\n",
    "#     color by class and spike times\n",
    "#         points = ax.scatter(frame_data[0][:, 0], frame_data[0][:, 1], s=s_values, c=target, cmap='Spectral', \n",
    "#                         animated=True)\n",
    "\n",
    "    #color by class and size by time\n",
    "# #     st=spike_times[boo_times_keep]\n",
    "#     st=spike_times\n",
    "# #     s_values=80*(st-st[0])/(st[-1]-st[0])\n",
    "#     s_values=88+0*(st-st[0])/(st[-1]-st[0])\n",
    "#     points = ax.scatter(frame_data[0][:, 0], frame_data[0][:, 1], s=s_values, c=target, cmap='viridis', \n",
    "#                         animated=True,alpha=0.7)\n",
    "    n=len(target_names)\n",
    "    #Colorbar\n",
    "    cbar = fig.colorbar(\n",
    "        points,\n",
    "        cax=make_axes_locatable(ax).append_axes(\"right\", size=\"5%\", pad=0.25),\n",
    "        orientation=\"vertical\",\n",
    "        values=np.arange(n),\n",
    "        boundaries=np.arange(n+1)-0.5,\n",
    "        ticks=np.arange(n),\n",
    "        drawedges=True,\n",
    "    )\n",
    "    cbar.ax.yaxis.set_ticklabels(target_names, fontsize=18)\n",
    "    \n",
    "    title = ax.set_title('', fontsize=24)\n",
    "    ax.set_xticks([])\n",
    "    ax.set_yticks([])\n",
    "\n",
    "    def init():\n",
    "        points.set_offsets(frame_data[0])\n",
    "        arg = arg_list[0]\n",
    "        arg_str = f'{arg:.3f}' if isinstance(arg, float) else f'{arg}'\n",
    "        title.set_text(f'{arg_name}={arg_str}')\n",
    "#         title.set_text(f'UMAP with {arg_name}={arg_str}')\n",
    "        return (points,)\n",
    "\n",
    "    def animate(i):\n",
    "        points.set_offsets(frame_data[i])\n",
    "        if (i + 15) % 30 == 0:\n",
    "            arg = arg_list[(i + 15) // 30]\n",
    "            arg_str = f'{arg:.3f}' if isinstance(arg, float) else f'{arg}'\n",
    "            title.set_text(f'{arg_name}={arg_str}')\n",
    "#             title.set_text(f'UMAP with {arg_name}={arg_str}')\n",
    "        return (points,)\n",
    "\n",
    "    anim = animation.FuncAnimation(fig, animate, init_func=init, frames=len(frame_data), interval=20, blit=True)\n",
    "    plt.close()\n",
    "    return anim"
   ]
  },
  {
   "cell_type": "code",
   "execution_count": 130,
   "metadata": {
    "ExecuteTime": {
     "end_time": "2021-06-07T23:25:42.773505Z",
     "start_time": "2021-06-07T23:25:42.764073Z"
    }
   },
   "outputs": [],
   "source": [
    "def animate_param(data, arg_name='n_neighbors', arg_list=[],**kwargs):\n",
    "    frame_data = generate_frame_data(data, arg_name=arg_name, arg_list=arg_list, **kwargs)\n",
    "    return create_animation(frame_data, spike_times, arg_name, arg_list)"
   ]
  },
  {
   "cell_type": "code",
   "execution_count": 117,
   "metadata": {
    "ExecuteTime": {
     "end_time": "2021-06-07T22:24:47.718852Z",
     "start_time": "2021-06-07T22:24:47.714642Z"
    }
   },
   "outputs": [],
   "source": [
    "#set the style/make the ticks small and the figsize fixed\n",
    "sns.set(style='white', rc={'figure.figsize':(14, 12), 'animation.html': 'html5'})"
   ]
  },
  {
   "cell_type": "code",
   "execution_count": 132,
   "metadata": {
    "ExecuteTime": {
     "end_time": "2021-06-07T23:29:59.614657Z",
     "start_time": "2021-06-07T23:29:59.611750Z"
    }
   },
   "outputs": [],
   "source": [
    "# #select a particular phase\n",
    "# boo=target==2 #reflective\n",
    "# data=data[boo]\n",
    "# target=trialnum_values[boo]"
   ]
  },
  {
   "cell_type": "code",
   "execution_count": null,
   "metadata": {},
   "outputs": [],
   "source": []
  },
  {
   "cell_type": "code",
   "execution_count": 133,
   "metadata": {
    "ExecuteTime": {
     "end_time": "2021-06-07T23:32:22.701100Z",
     "start_time": "2021-06-07T23:30:01.634512Z"
    },
    "scrolled": true
   },
   "outputs": [
    {
     "ename": "NameError",
     "evalue": "name 'data_raw' is not defined",
     "output_type": "error",
     "traceback": [
      "\u001b[0;31m-------------------------------------------\u001b[0m",
      "\u001b[0;31mNameError\u001b[0m Traceback (most recent call last)",
      "\u001b[0;32m<ipython-input-133-96a74aceeab3>\u001b[0m in \u001b[0;36m<module>\u001b[0;34m\u001b[0m\n\u001b[1;32m     15\u001b[0m     \u001b[0;34m'output_metric'\u001b[0m\u001b[0;34m:\u001b[0m\u001b[0moutput_metric\u001b[0m\u001b[0;34m\u001b[0m\u001b[0;34m\u001b[0m\u001b[0m\n\u001b[1;32m     16\u001b[0m }\n\u001b[0;32m---> 17\u001b[0;31m \u001b[0manimate_param\u001b[0m\u001b[0;34m(\u001b[0m\u001b[0mdata\u001b[0m\u001b[0;34m,\u001b[0m \u001b[0;34m'n_neighbors'\u001b[0m\u001b[0;34m,\u001b[0m \u001b[0;34m[\u001b[0m\u001b[0;36m3\u001b[0m\u001b[0;34m,\u001b[0m \u001b[0;36m4\u001b[0m\u001b[0;34m,\u001b[0m \u001b[0;36m5\u001b[0m\u001b[0;34m,\u001b[0m \u001b[0;36m7\u001b[0m\u001b[0;34m,\u001b[0m \u001b[0;36m10\u001b[0m\u001b[0;34m,\u001b[0m \u001b[0;36m15\u001b[0m\u001b[0;34m,\u001b[0m \u001b[0;36m25\u001b[0m\u001b[0;34m,\u001b[0m \u001b[0;36m50\u001b[0m\u001b[0;34m,\u001b[0m \u001b[0;36m100\u001b[0m\u001b[0;34m]\u001b[0m\u001b[0;34m,\u001b[0m\u001b[0;34m**\u001b[0m\u001b[0mkwargs\u001b[0m\u001b[0;34m)\u001b[0m\u001b[0;34m\u001b[0m\u001b[0;34m\u001b[0m\u001b[0m\n\u001b[0m",
      "\u001b[0;32m<ipython-input-130-8d7eabcb4cc7>\u001b[0m in \u001b[0;36manimate_param\u001b[0;34m(data, arg_name, arg_list, **kwargs)\u001b[0m\n\u001b[1;32m      1\u001b[0m \u001b[0;32mdef\u001b[0m \u001b[0manimate_param\u001b[0m\u001b[0;34m(\u001b[0m\u001b[0mdata\u001b[0m\u001b[0;34m,\u001b[0m \u001b[0marg_name\u001b[0m\u001b[0;34m=\u001b[0m\u001b[0;34m'n_neighbors'\u001b[0m\u001b[0;34m,\u001b[0m \u001b[0marg_list\u001b[0m\u001b[0;34m=\u001b[0m\u001b[0;34m[\u001b[0m\u001b[0;34m]\u001b[0m\u001b[0;34m,\u001b[0m\u001b[0;34m**\u001b[0m\u001b[0mkwargs\u001b[0m\u001b[0;34m)\u001b[0m\u001b[0;34m:\u001b[0m\u001b[0;34m\u001b[0m\u001b[0;34m\u001b[0m\u001b[0m\n\u001b[1;32m      2\u001b[0m     \u001b[0mframe_data\u001b[0m \u001b[0;34m=\u001b[0m \u001b[0mgenerate_frame_data\u001b[0m\u001b[0;34m(\u001b[0m\u001b[0mdata\u001b[0m\u001b[0;34m,\u001b[0m \u001b[0marg_name\u001b[0m\u001b[0;34m=\u001b[0m\u001b[0marg_name\u001b[0m\u001b[0;34m,\u001b[0m \u001b[0marg_list\u001b[0m\u001b[0;34m=\u001b[0m\u001b[0marg_list\u001b[0m\u001b[0;34m,\u001b[0m \u001b[0;34m**\u001b[0m\u001b[0mkwargs\u001b[0m\u001b[0;34m)\u001b[0m\u001b[0;34m\u001b[0m\u001b[0;34m\u001b[0m\u001b[0m\n\u001b[0;32m----> 3\u001b[0;31m     \u001b[0;32mreturn\u001b[0m \u001b[0mcreate_animation\u001b[0m\u001b[0;34m(\u001b[0m\u001b[0mframe_data\u001b[0m\u001b[0;34m,\u001b[0m \u001b[0mspike_times\u001b[0m\u001b[0;34m,\u001b[0m \u001b[0marg_name\u001b[0m\u001b[0;34m,\u001b[0m \u001b[0marg_list\u001b[0m\u001b[0;34m)\u001b[0m\u001b[0;34m\u001b[0m\u001b[0;34m\u001b[0m\u001b[0m\n\u001b[0m",
      "\u001b[0;32m<ipython-input-129-a66301c42b8a>\u001b[0m in \u001b[0;36mcreate_animation\u001b[0;34m(frame_data, spike_times, arg_name, arg_list, **kwargs)\u001b[0m\n\u001b[1;32m     21\u001b[0m \u001b[0;34m\u001b[0m\u001b[0m\n\u001b[1;32m     22\u001b[0m     \u001b[0;31m#color by time\u001b[0m\u001b[0;34m\u001b[0m\u001b[0;34m\u001b[0m\u001b[0;34m\u001b[0m\u001b[0m\n\u001b[0;32m---> 23\u001b[0;31m     \u001b[0mspike_times\u001b[0m\u001b[0;34m=\u001b[0m\u001b[0mnp\u001b[0m\u001b[0;34m.\u001b[0m\u001b[0marray\u001b[0m\u001b[0;34m(\u001b[0m\u001b[0mdata_raw\u001b[0m\u001b[0;34m[\u001b[0m\u001b[0;34mf\"{nid_self}\"\u001b[0m\u001b[0;34m]\u001b[0m\u001b[0;34m)\u001b[0m\u001b[0;34m\u001b[0m\u001b[0;34m\u001b[0m\u001b[0m\n\u001b[0m\u001b[1;32m     24\u001b[0m     points = ax.scatter(frame_data[0][:, 0], frame_data[0][:, 1], s=50, c=spike_times, cmap='Blues', \n\u001b[1;32m     25\u001b[0m                         animated=True)\n",
      "\u001b[0;31mNameError\u001b[0m: name 'data_raw' is not defined"
     ]
    },
    {
     "data": {
      "image/png": "[encoded data removed]",
      "text/plain": [
       "<Figure size 1008x864 with 1 Axes>"
      ]
     },
     "metadata": {},
     "output_type": "display_data"
    }
   ],
   "source": [
    "# data=arrnew #naive spike dwell times did yield seperable connection types\n",
    "# data=1/arrnew  #naive spike rates did not yield seperable connection types\n",
    "# metric='euclidean'\n",
    "metric='mahalanobis'\n",
    "# metric='cosine'\n",
    "# metric='correlation'\n",
    "# metric='hellinger'\n",
    "metric='wminkowski'\n",
    "\n",
    "# output_metric='euclidean'\n",
    "# output_metric='hyperboloid'\n",
    "output_metric='gaussian_energy'\n",
    "kwargs={\n",
    "    'metric':metric,\n",
    "    'output_metric':output_metric\n",
    "}\n",
    "animate_param(data, 'n_neighbors', [3, 4, 5, 7, 10, 15, 25, 50, 100],**kwargs)"
   ]
  },
  {
   "cell_type": "code",
   "execution_count": null,
   "metadata": {
    "ExecuteTime": {
     "end_time": "2021-06-07T23:32:22.706716Z",
     "start_time": "2021-06-07T23:30:02.222Z"
    }
   },
   "outputs": [],
   "source": [
    "animate_param(data, 'min_dist', [0.0, 0.01, 0.1, 0.2, 0.4, 0.6, 0.9],**kwargs)"
   ]
  },
  {
   "cell_type": "code",
   "execution_count": null,
   "metadata": {
    "ExecuteTime": {
     "end_time": "2021-06-07T23:32:22.711460Z",
     "start_time": "2021-06-07T23:30:02.831Z"
    }
   },
   "outputs": [],
   "source": [
    "animate_param(data, 'local_connectivity', [0.1, 0.2, 0.5, 1, 2, 10],**kwargs)"
   ]
  },
  {
   "cell_type": "code",
   "execution_count": null,
   "metadata": {
    "ExecuteTime": {
     "end_time": "2021-06-07T23:32:22.715875Z",
     "start_time": "2021-06-07T23:30:03.420Z"
    }
   },
   "outputs": [],
   "source": [
    "animate_param(data, 'set_op_mix_ratio', np.linspace(0.0, 1.0, 10),**kwargs)"
   ]
  },
  {
   "cell_type": "code",
   "execution_count": null,
   "metadata": {},
   "outputs": [],
   "source": []
  },
  {
   "cell_type": "markdown",
   "metadata": {},
   "source": [
    "## more ideas of what to do with umap and various distance metrics..."
   ]
  },
  {
   "cell_type": "code",
   "execution_count": null,
   "metadata": {},
   "outputs": [],
   "source": [
    "%%time\n",
    "embedding = umap.UMAP(n_components=2, metric='hellinger').fit(word_doc_matrix)\n",
    "\n",
    "#embed interactive video toys in your documents!  \n",
    "# http://localhost:8888/notebooks/umap/notebooks/Document%20embedding%20using%20UMAP.ipynb"
   ]
  },
  {
   "cell_type": "markdown",
   "metadata": {},
   "source": [
    "- I would expect the Mahalanobis distance to be the natural measure of gaussian distributions embedded in $\\mathbb{R}^{+N}$.\n",
    "- Hellinger distance measures the distance between two probability distributions\n",
    "- Consider XX[i] as the true distribution of times since each neuron has fired conditioned on the ith neuron having just fired? \n",
    "    - Question: what is the hellinger distance between the distributions __before vs. after__ the stimulus onset at time t=0?  \n",
    "    - Question: what is the hellinger distance between the max liklihood estimate for XX[i] and the uniform distribution UU[i] (as a null hypothesis?)\n"
   ]
  },
  {
   "cell_type": "code",
   "execution_count": 136,
   "metadata": {
    "ExecuteTime": {
     "end_time": "2021-02-23T19:43:34.467047Z",
     "start_time": "2021-02-23T19:43:34.464484Z"
    }
   },
   "outputs": [],
   "source": [
    "#for a discussion of the following distance measures, see\n",
    "# http://localhost:8888/notebooks/umap/notebooks/UMAP%20usage%20and%20parameters.ipynb"
   ]
  },
  {
   "cell_type": "code",
   "execution_count": null,
   "metadata": {},
   "outputs": [],
   "source": []
  },
  {
   "cell_type": "markdown",
   "metadata": {},
   "source": [
    "### ``metric``\n",
    "\n",
    "The final UMAP parameter we will be considering in this notebook is the ``metric`` parameter. This controls how distance is computed in the ambient space of the input data. By default UMAP supports a wide variety of metrics, including:\n",
    "\n",
    "**Minkowski style metrics**\n",
    "* euclidean\n",
    "* manhattan\n",
    "* chebyshev\n",
    "* minkowski\n",
    "\n",
    "**Miscellaneous spatial metrics**\n",
    "* canberra\n",
    "* braycurtis\n",
    "* haversine\n",
    "\n",
    "**Normalized spatial metrics**\n",
    "* mahalanobis\n",
    "* wminkowski\n",
    "* seuclidean\n",
    "\n",
    "**Angular and correlation metrics**\n",
    "* cosine\n",
    "* correlation\n",
    "\n",
    "**Metrics for binary data**\n",
    "* hamming\n",
    "* jaccard\n",
    "* dice\n",
    "* russelrao\n",
    "* kulsinski\n",
    "* rogerstanimoto\n",
    "* sokalmichener\n",
    "* sokalsneath\n",
    "* yule\n",
    "\n",
    "Any of which can be specified by setting ``metric='<metric name>'``; for example to use cosine distance as the metric you would use ``metric='cosine'``.\n",
    "\n",
    "UMAP offers more than this however -- it supports custom user defined metrics as long as those metrics can be compiled in ``nopython`` mode by numba. For this notebook we will be looking at such custom metrics. To define such metrics we'll need numba ..."
   ]
  },
  {
   "cell_type": "markdown",
   "metadata": {
    "heading_collapsed": true
   },
   "source": [
    "## TODO: apply naïve umap to a point process representation of one trial.\n",
    "- TODO: look for a convenient interface to explore .mat files or .hdf5 files.  MATLAB?  Then, how to import to python?  Save to .hdf5 file?\n",
    "\n",
    "- TODO: import 1 trial of spiketimes as a numpy array\n",
    "    - N = number of neurons\n",
    "- TODO: for the i^th neuron, compute the time since last firing for each neuron, X[i]\n",
    "    - X[i][j,k] = the latest time since the k^th neuron has fired at the time the j^th time the i^th neuron has fired\n",
    "- TODO: compute at least one interesting UMAP .mp4 for each neuron, i=1,...,N\n",
    "\n",
    "\n",
    "and then,\n",
    "- TODO: find two trials that are a match/mismatch pair, "
   ]
  },
  {
   "cell_type": "code",
   "execution_count": 135,
   "metadata": {
    "ExecuteTime": {
     "end_time": "2021-02-23T19:36:46.470815Z",
     "start_time": "2021-02-23T19:36:43.798210Z"
    },
    "hidden": true
   },
   "outputs": [
    {
     "name": "stdout",
     "output_type": "stream",
     "text": [
      "Collecting hdf5plugin\n",
      "  Downloading hdf5plugin-2.3.2-py2.py3-none-macosx_10_9_x86_64.whl (829 kB)\n",
      "\u001b[K     |████████████████████████████████| 829 kB 3.4 MB/s eta 0:00:01\n",
      "\u001b[?25hRequirement already satisfied: h5py in /usr/local/lib/python3.8/site-packages (from hdf5plugin) (2.10.0)\n",
      "Requirement already satisfied: six in /usr/local/lib/python3.8/site-packages (from h5py->hdf5plugin) (1.15.0)\n",
      "Requirement already satisfied: numpy>=1.7 in /usr/local/lib/python3.8/site-packages (from h5py->hdf5plugin) (1.19.0)\n",
      "Installing collected packages: hdf5plugin\n",
      "Successfully installed hdf5plugin-2.3.2\n",
      "Note: you may need to restart the kernel to use updated packages.\n"
     ]
    }
   ],
   "source": [
    "pip install hdf5plugin"
   ]
  },
  {
   "cell_type": "markdown",
   "metadata": {
    "heading_collapsed": true
   },
   "source": [
    "# Classification of spikes as caused by in-house connections or out-of-house connections \n",
    "- by counting the number of spikes within a bin of reasonable lags, (1ms - 20ms)\n",
    "- Result: you can't easily/clearly distinguish neurons as stimulating vs not stimulating a given neuron"
   ]
  },
  {
   "cell_type": "code",
   "execution_count": 25,
   "metadata": {
    "ExecuteTime": {
     "end_time": "2021-03-05T03:14:47.055031Z",
     "start_time": "2021-03-05T03:14:47.050343Z"
    },
    "hidden": true
   },
   "outputs": [
    {
     "data": {
      "text/plain": [
       "(23, 169)"
      ]
     },
     "execution_count": 25,
     "metadata": {},
     "output_type": "execute_result"
    }
   ],
   "source": [
    "# index 0: spike id\n",
    "# index 1: neuron id\n",
    "\n",
    "data.shape"
   ]
  },
  {
   "cell_type": "code",
   "execution_count": 26,
   "metadata": {
    "ExecuteTime": {
     "end_time": "2021-03-05T03:14:53.718764Z",
     "start_time": "2021-03-05T03:14:53.700279Z"
    },
    "hidden": true
   },
   "outputs": [],
   "source": [
    "#time window that defines cofiring\n",
    "tau_min=0.001#sec\n",
    "tau_max=0.02#sec\n",
    "\n",
    "#percentage thresholds to classify cofiring/anticofiring\n",
    "pthresh_upper=70\n",
    "pthresh_lower=10\n",
    "\n",
    "frc_lst=[]\n",
    "for nid in range(data.shape[1]):\n",
    "    boo=(data[:,nid]>tau_min)&(data[:,nid]<tau_max)\n",
    "    percent_within_time_window=100*sum(boo)/boo.size\n",
    "    frc_lst.append(percent_within_time_window)"
   ]
  },
  {
   "cell_type": "code",
   "execution_count": 27,
   "metadata": {
    "ExecuteTime": {
     "end_time": "2021-03-05T03:14:56.166344Z",
     "start_time": "2021-03-05T03:14:55.634220Z"
    },
    "hidden": true
   },
   "outputs": [
    {
     "data": {
      "image/png": "[encoded data removed]",
      "text/plain": [
       "<Figure size 504x360 with 1 Axes>"
      ]
     },
     "metadata": {},
     "output_type": "display_data"
    }
   ],
   "source": [
    "fontsize=20\n",
    "plt.subplots(figsize=(7,5))\n",
    "x_values=np.array(sorted(range(data.shape[1])))/data.shape[1]*100\n",
    "y_values=np.array(sorted(frc_lst))\n",
    "plt.plot(x_values,y_values,c='green')\n",
    "plt.plot(x_values,x_values,c='grey')\n",
    "plt.fill_between(x_values,pthresh_upper+0.*x_values,100+0.*x_values,color='blue',alpha=0.4)\n",
    "plt.fill_between(x_values,0.+0.*x_values,pthresh_lower+0.*x_values,color='red',alpha=0.4)\n",
    "plt.ylabel('% of spikes that cofired',fontsize=fontsize)\n",
    "plt.xlabel('% of neurons that cofired less',fontsize=fontsize)\n",
    "plt.tick_params(axis='both', which='major', labelsize=fontsize)\n",
    "plt.tick_params(axis='both', which='minor', labelsize=0)\n",
    "plt.grid()\n",
    "plt.show()"
   ]
  },
  {
   "cell_type": "markdown",
   "metadata": {
    "hidden": true
   },
   "source": [
    "- TODO: make function that makes data from data_raw for a given input_neuron_id\n",
    "- TODO: make ^this line plot for all neurons and the average neuron for 1 trial\n",
    "\n",
    "- TODO: scatter plot of most cofiring and least cofiring neurons"
   ]
  },
  {
   "cell_type": "code",
   "execution_count": 191,
   "metadata": {
    "ExecuteTime": {
     "end_time": "2021-03-04T19:41:50.693080Z",
     "start_time": "2021-03-04T19:41:50.687829Z"
    },
    "hidden": true
   },
   "outputs": [
    {
     "name": "stdout",
     "output_type": "stream",
     "text": [
      "(7,)\n",
      "(52,)\n",
      "(133,)\n"
     ]
    }
   ],
   "source": [
    "nid_values=np.array(sorted(range(data.shape[1])))\n",
    "boo=np.array(frc_lst)>pthresh_upper\n",
    "boo_remaining = ~boo\n",
    "cofiring_neuron_indicies=nid_values[boo]\n",
    "\n",
    "boo=np.array(frc_lst)<pthresh_lower\n",
    "boo_remaining &= ~boo\n",
    "antifiring_neuron_indicies=nid_values[boo]\n",
    "\n",
    "remaining_neuron_indicies=nid_values[boo_remaining]\n",
    "\n",
    "print(cofiring_neuron_indicies.shape)\n",
    "print(antifiring_neuron_indicies.shape)\n",
    "print(remaining_neuron_indicies.shape)"
   ]
  },
  {
   "cell_type": "code",
   "execution_count": 192,
   "metadata": {
    "ExecuteTime": {
     "end_time": "2021-03-04T19:41:53.102789Z",
     "start_time": "2021-03-04T19:41:51.406129Z"
    },
    "hidden": true
   },
   "outputs": [
    {
     "data": {
      "image/png": "[encoded data removed]",
      "text/plain": [
       "<Figure size 504x360 with 1 Axes>"
      ]
     },
     "metadata": {},
     "output_type": "display_data"
    }
   ],
   "source": [
    "fontsize=20\n",
    "plt.subplots(figsize=(7,5))\n",
    "# for nid_other in remaining_neuron_indicies:#cofiring is unclear\n",
    "#     y_values=data[:,nid]*10**3#time between spikes for self\n",
    "#     x_values=data[:,nid_other]*10**3#time since given neuron has fired\n",
    "#     plt.scatter(x_values,y_values,c='gray',alpha=0.01,s=3,label='_Hidden')\n",
    "for nid_other in antifiring_neuron_indicies:#antifiring is unclear\n",
    "    y_values=data[:,nid]*10**3#time between spikes for self\n",
    "    x_values=data[:,nid_other]*10**3#time since given neuron has fired\n",
    "    plt.scatter(x_values,y_values,c='r',alpha=0.1,s=6,label='antifiring')\n",
    "for nid_other in cofiring_neuron_indicies:#cofiring is unclear\n",
    "    y_values=data[:,nid]*10**3#time between spikes for self\n",
    "    x_values=data[:,nid_other]*10**3#time since given neuron has fired\n",
    "    plt.scatter(x_values,y_values,c='b',alpha=0.1,s=6,label='cofiring')\n",
    "plt.ylabel(r'$\\Delta t_{self}$ (milliseconds)',fontsize=fontsize)\n",
    "plt.xlabel(r'$\\Delta t_{other}$ (milliseconds)',fontsize=fontsize)\n",
    "plt.yscale('log')\n",
    "plt.xscale('log')\n",
    "# plt.legend(fontsize=fontsize)\n",
    "plt.tick_params(axis='both', which='major', labelsize=fontsize)\n",
    "plt.tick_params(axis='both', which='minor', labelsize=0)\n",
    "plt.grid()\n",
    "plt.show()"
   ]
  },
  {
   "cell_type": "markdown",
   "metadata": {
    "heading_collapsed": true
   },
   "source": [
    "# classify each spike on the basis of how many cofiring neurons are present"
   ]
  },
  {
   "cell_type": "code",
   "execution_count": 270,
   "metadata": {
    "ExecuteTime": {
     "end_time": "2021-03-04T20:17:36.121920Z",
     "start_time": "2021-03-04T20:17:36.117950Z"
    },
    "hidden": true
   },
   "outputs": [],
   "source": [
    "#time window that defines cofiring\n",
    "tau_min=0.001#sec\n",
    "tau_max=0.02#sec\n",
    "boo_cofiring=(data>tau_min)&(data<tau_max)\n",
    "\n",
    "#percentage thresholds to classify cofiring/anticofiring\n",
    "pthresh_upper=30\n",
    "pthresh_lower=17\n",
    "# frc_lst=[]\n",
    "# for nid in range(data.shape[1]):\n",
    "#     boo=(data[:,nid]>tau_min)&(data[:,nid]<tau_max)\n",
    "#     percent_within_time_window=100*sum(boo)/boo.size\n",
    "#     frc_lst.append(percent_within_time_window)\n",
    "\n",
    "number_cofiring_neurons=np.sum(boo_cofiring,axis=1)\n",
    "spike_index=np.arange(0,number_cofiring_neurons.shape[0])\n",
    "\n",
    "#classify spikes as in-house or out-of-house\n",
    "percent_of_neurons_cofiring=number_cofiring_neurons*100/data.shape[1]\n",
    "boo_remaining=(percent_of_neurons_cofiring>pthresh_lower)&(percent_of_neurons_cofiring<pthresh_upper)\n",
    "boo_out_of_house=(percent_of_neurons_cofiring<=pthresh_lower)\n",
    "boo_in_house=(percent_of_neurons_cofiring>=pthresh_upper)\n",
    "target_names=['out-of-house','remaining','in-house']\n",
    "target=boo_in_house*2+boo_remaining*1+boo_out_of_house*0"
   ]
  },
  {
   "cell_type": "code",
   "execution_count": 273,
   "metadata": {
    "ExecuteTime": {
     "end_time": "2021-03-04T20:17:38.254315Z",
     "start_time": "2021-03-04T20:17:37.596495Z"
    },
    "hidden": true
   },
   "outputs": [
    {
     "data": {
      "image/png": "[encoded data removed]",
      "text/plain": [
       "<Figure size 504x360 with 1 Axes>"
      ]
     },
     "metadata": {},
     "output_type": "display_data"
    }
   ],
   "source": [
    "fontsize=20\n",
    "plt.subplots(figsize=(7,5))\n",
    "x_values=np.array(sorted(range(data.shape[0])))/data.shape[0]*100\n",
    "y_values=np.array(sorted(number_cofiring_neurons))*100/data.shape[1]\n",
    "plt.plot(x_values,y_values,c='green')\n",
    "plt.plot(x_values,x_values,c='grey')\n",
    "plt.fill_between(x_values,pthresh_upper+0.*x_values,100+0.*x_values,color='blue',alpha=0.4)\n",
    "plt.fill_between(x_values,0.+0.*x_values,pthresh_lower+0.*x_values,color='red',alpha=0.4)\n",
    "plt.ylabel('% of neurons that are cospiking',fontsize=fontsize)\n",
    "plt.xlabel('% of spikes with less cospiking',fontsize=fontsize)\n",
    "plt.tick_params(axis='both', which='major', labelsize=fontsize)\n",
    "plt.tick_params(axis='both', which='minor', labelsize=0)\n",
    "plt.grid()\n",
    "plt.show()"
   ]
  },
  {
   "cell_type": "markdown",
   "metadata": {
    "hidden": true
   },
   "source": [
    "__Results__\n",
    "- Blue=in-house spikes\n",
    "- Red=out-of-house spikes\n",
    "- between 15-40% of neurons recorded are cospiking for a given spike from a given neuron"
   ]
  },
  {
   "cell_type": "markdown",
   "metadata": {
    "hidden": true
   },
   "source": [
    "__Methods__\n",
    "- see above"
   ]
  },
  {
   "cell_type": "code",
   "execution_count": 264,
   "metadata": {
    "ExecuteTime": {
     "end_time": "2021-03-04T20:16:58.251322Z",
     "start_time": "2021-03-04T20:16:58.249008Z"
    },
    "hidden": true
   },
   "outputs": [],
   "source": [
    "#TODO: label each neuron as firing vs. cofiring"
   ]
  },
  {
   "cell_type": "code",
   "execution_count": null,
   "metadata": {
    "ExecuteTime": {
     "end_time": "2021-03-04T19:52:26.433244Z",
     "start_time": "2021-03-04T19:52:26.428120Z"
    },
    "hidden": true
   },
   "outputs": [],
   "source": []
  },
  {
   "cell_type": "code",
   "execution_count": null,
   "metadata": {
    "ExecuteTime": {
     "end_time": "2021-03-04T19:47:37.298638Z",
     "start_time": "2021-03-04T19:47:37.293203Z"
    },
    "hidden": true
   },
   "outputs": [],
   "source": []
  },
  {
   "cell_type": "code",
   "execution_count": 266,
   "metadata": {
    "ExecuteTime": {
     "end_time": "2021-03-04T20:17:00.419140Z",
     "start_time": "2021-03-04T20:17:00.416840Z"
    },
    "hidden": true
   },
   "outputs": [],
   "source": [
    "# #load example data\n",
    "# from sklearn.datasets import load_digits\n",
    "# digits = load_digits()\n",
    "# dat = digits.data\n",
    "# dat.shape"
   ]
  },
  {
   "cell_type": "code",
   "execution_count": 267,
   "metadata": {
    "ExecuteTime": {
     "end_time": "2021-03-04T20:17:01.122017Z",
     "start_time": "2021-03-04T20:17:01.119287Z"
    },
    "hidden": true
   },
   "outputs": [],
   "source": [
    "# digits.target"
   ]
  },
  {
   "cell_type": "markdown",
   "metadata": {
    "ExecuteTime": {
     "end_time": "2021-03-04T19:51:14.311286Z",
     "start_time": "2021-03-04T19:51:14.307698Z"
    },
    "heading_collapsed": true
   },
   "source": [
    "# histogram of lags of others"
   ]
  },
  {
   "cell_type": "code",
   "execution_count": null,
   "metadata": {
    "ExecuteTime": {
     "end_time": "2021-03-04T19:51:17.183031Z",
     "start_time": "2021-03-04T19:51:17.178075Z"
    },
    "hidden": true
   },
   "outputs": [],
   "source": [
    "    y_values=data[:,nid]*10**3#time between spikes for self\n",
    "    x_values=data[:,nid_other]*10**3#time since given neuron has fired\n",
    "    plt.scatter(x_values,y_values,c='r',alpha=0.1,s=6,label='antifiring')"
   ]
  },
  {
   "cell_type": "code",
   "execution_count": 252,
   "metadata": {
    "ExecuteTime": {
     "end_time": "2021-03-04T20:11:02.253001Z",
     "start_time": "2021-03-04T20:11:02.015562Z"
    },
    "hidden": true
   },
   "outputs": [
    {
     "data": {
      "image/png": "[encoded data removed]",
      "text/plain": [
       "<Figure size 1008x864 with 1 Axes>"
      ]
     },
     "metadata": {},
     "output_type": "display_data"
    }
   ],
   "source": [
    "plt.hist(np.mean(data,axis=0)*10**3)\n",
    "plt.title('spike averaged lag by neuron')\n",
    "plt.show()"
   ]
  },
  {
   "cell_type": "code",
   "execution_count": 253,
   "metadata": {
    "ExecuteTime": {
     "end_time": "2021-03-04T20:11:23.718710Z",
     "start_time": "2021-03-04T20:11:23.471488Z"
    },
    "hidden": true
   },
   "outputs": [
    {
     "data": {
      "image/png": "[encoded data removed]",
      "text/plain": [
       "<Figure size 1008x864 with 1 Axes>"
      ]
     },
     "metadata": {},
     "output_type": "display_data"
    }
   ],
   "source": [
    "plt.hist(np.mean(data,axis=1)*10**3)\n",
    "plt.title('spike averaged lag by spike')\n",
    "plt.show()"
   ]
  },
  {
   "cell_type": "markdown",
   "metadata": {},
   "source": [
    "# classify on the basis of being before/after the stimulus\n",
    "__Result__\n",
    "- before stimulus is cleanly separated from after stimulus"
   ]
  },
  {
   "cell_type": "code",
   "execution_count": 69,
   "metadata": {
    "ExecuteTime": {
     "end_time": "2021-03-05T03:27:40.988876Z",
     "start_time": "2021-03-05T03:27:40.984641Z"
    }
   },
   "outputs": [],
   "source": [
    "spike_times=np.array(data_raw[f\"{nid_self}\"])\n",
    "\n",
    "t_stim=.15#~150ms for stimulus to reach the neurons in the hippocampus\n",
    "boo_before_stim=spike_times<t_stim\n",
    "boo_after_stim=~boo_before_stim\n",
    "\n",
    "#classify spikes as before or after stim\n",
    "target_names=[r'before',r'after']\n",
    "target=boo_before_stim*0+boo_after_stim*1\n",
    "target=target[boo_times_keep]"
   ]
  },
  {
   "cell_type": "code",
   "execution_count": null,
   "metadata": {
    "ExecuteTime": {
     "end_time": "2021-03-04T20:26:55.549321Z",
     "start_time": "2021-03-04T20:26:55.544093Z"
    }
   },
   "outputs": [],
   "source": []
  },
  {
   "cell_type": "markdown",
   "metadata": {},
   "source": [
    "# classify spikes based on when they occured\n",
    "__Result__\n",
    "- spike event patterns are slowly varying in time\n",
    "- TODO: umap the derivative of X versus time \n",
    "- TODO: compute the derivative of X versus time "
   ]
  },
  {
   "cell_type": "code",
   "execution_count": 68,
   "metadata": {
    "ExecuteTime": {
     "end_time": "2021-03-05T03:27:19.468410Z",
     "start_time": "2021-03-05T03:27:19.464153Z"
    }
   },
   "outputs": [],
   "source": [
    "spike_times=np.array(data_raw[f\"{nid_self}\"])\n",
    "\n",
    "t_stim=.15#~150ms for stimulus to reach the neurons in the hippocampus\n",
    "t_part=1.+t_stim\n",
    "boo_before=spike_times<t_stim\n",
    "boo_after_1=(~boo_before_stim)&(spike_times<t_part)\n",
    "boo_after_2=~boo_before_stim&(spike_times>=t_part)\n",
    "\n",
    "\n",
    "#classify spikes as before or after stim\n",
    "target_names=[r'before',r'just after', r'1 sec after']\n",
    "target=boo_before*0+boo_after_1*1+boo_after_2*2\n",
    "target=target[boo_times_keep]"
   ]
  },
  {
   "cell_type": "markdown",
   "metadata": {
    "heading_collapsed": true
   },
   "source": [
    "# TODO: classify spikes based on the angle between them and a given token spike-delay pattern\n",
    "- method option # 1: unsupervised heirarchical clustering\n",
    "- method option # 2: look through the umap repo for how to take info out from umap"
   ]
  },
  {
   "cell_type": "markdown",
   "metadata": {},
   "source": [
    "# TODO: classify spikes based on the value of the determinant of the outer product of the spike event\n",
    "- -> This is a simple scalar measure of a markovian spike event pattern\n",
    "- however, det appears always zero unless a weight matrix is used to represent connections... but everything is connected to everything..."
   ]
  },
  {
   "cell_type": "code",
   "execution_count": 335,
   "metadata": {
    "ExecuteTime": {
     "end_time": "2021-03-04T20:42:22.731143Z",
     "start_time": "2021-03-04T20:42:22.598885Z"
    }
   },
   "outputs": [],
   "source": [
    "det_lst=[]\n",
    "for i in range(data.shape[0]):\n",
    "    X=1/(data[i]*10**3)\n",
    "    det_lst.append(np.linalg.det(np.outer(X.T,X)))"
   ]
  },
  {
   "cell_type": "code",
   "execution_count": 334,
   "metadata": {
    "ExecuteTime": {
     "end_time": "2021-03-04T20:41:34.229428Z",
     "start_time": "2021-03-04T20:41:34.224663Z"
    }
   },
   "outputs": [
    {
     "data": {
      "text/plain": [
       "(254, 192)"
      ]
     },
     "execution_count": 334,
     "metadata": {},
     "output_type": "execute_result"
    }
   ],
   "source": [
    "data.shape"
   ]
  },
  {
   "cell_type": "code",
   "execution_count": 321,
   "metadata": {
    "ExecuteTime": {
     "end_time": "2021-03-04T20:39:08.021016Z",
     "start_time": "2021-03-04T20:39:08.010222Z"
    }
   },
   "outputs": [
    {
     "data": {
      "text/plain": [
       "0.0"
      ]
     },
     "execution_count": 321,
     "metadata": {},
     "output_type": "execute_result"
    }
   ],
   "source": []
  },
  {
   "cell_type": "markdown",
   "metadata": {},
   "source": [
    "# Research Question: does the number of distinct  spike event patterns depend on whether the stimulus is a match mismatch?\n",
    "- spike event patterns='markovian spike event patterns'?\n",
    "- spike event patterns='attention heads'?"
   ]
  },
  {
   "cell_type": "markdown",
   "metadata": {},
   "source": [
    " # Research Question: do the jump times in a umap correspond to saccade jump times?\n",
    " - easy test given saccade times + ~150ms, does the attention switch"
   ]
  },
  {
   "cell_type": "markdown",
   "metadata": {},
   "source": [
    "# Classifying spikes based on angular defect between consecutive spikes\n",
    "__Result__\n",
    "- large angular changes happen at the beginning of attention heads"
   ]
  },
  {
   "cell_type": "code",
   "execution_count": 456,
   "metadata": {
    "ExecuteTime": {
     "end_time": "2021-03-04T21:43:14.920692Z",
     "start_time": "2021-03-04T21:43:14.911858Z"
    }
   },
   "outputs": [],
   "source": [
    "#angle between X versus time\n",
    "angle_lst=[]\n",
    "for i in range(1,data.shape[0]):\n",
    "    X_prv=data[i-1]\n",
    "    X_cur=data[i]\n",
    "    angle=180/np.pi*np.arccos(np.dot(X_prv,X_cur)/np.sqrt(np.dot(X_prv,X_prv)*np.dot(X_cur,X_cur)))#degrees\n",
    "    angle_lst.append(angle)"
   ]
  },
  {
   "cell_type": "code",
   "execution_count": 457,
   "metadata": {
    "ExecuteTime": {
     "end_time": "2021-03-04T21:43:15.258361Z",
     "start_time": "2021-03-04T21:43:15.255231Z"
    }
   },
   "outputs": [],
   "source": [
    "#angular thresholds to classify changes in attention head\n",
    "thresh_upper=32\n",
    "# thresh_lower=18"
   ]
  },
  {
   "cell_type": "code",
   "execution_count": 458,
   "metadata": {
    "ExecuteTime": {
     "end_time": "2021-03-04T21:43:16.111090Z",
     "start_time": "2021-03-04T21:43:15.670445Z"
    }
   },
   "outputs": [
    {
     "data": {
      "image/png": "[encoded data removed]",
      "text/plain": [
       "<Figure size 504x360 with 1 Axes>"
      ]
     },
     "metadata": {},
     "output_type": "display_data"
    }
   ],
   "source": [
    "fontsize=20\n",
    "plt.subplots(figsize=(7,5))\n",
    "x_values=np.array(sorted(range(1,data.shape[0])))/data.shape[0]*100\n",
    "y_values=np.array(sorted(angle_lst))\n",
    "plt.plot(x_values,y_values,c='green')\n",
    "# plt.plot(x_values,x_values,c='grey')\n",
    "plt.fill_between(x_values,thresh_upper+0.*x_values,60+0.*x_values,color='blue',alpha=0.4)\n",
    "# plt.fill_between(x_values,0.+0.*x_values,pthresh_lower+0.*x_values,color='red',alpha=0.4)\n",
    "plt.ylabel('angle between consecutive\\nspikes (degrees)',fontsize=fontsize)\n",
    "plt.xlabel('% of spikes that changed less',fontsize=fontsize)\n",
    "plt.tick_params(axis='both', which='major', labelsize=fontsize)\n",
    "plt.tick_params(axis='both', which='minor', labelsize=0)\n",
    "plt.grid()\n",
    "plt.show()"
   ]
  },
  {
   "cell_type": "code",
   "execution_count": 459,
   "metadata": {
    "ExecuteTime": {
     "end_time": "2021-03-04T21:43:18.237648Z",
     "start_time": "2021-03-04T21:43:18.231740Z"
    }
   },
   "outputs": [
    {
     "name": "stdout",
     "output_type": "stream",
     "text": [
      "5\n"
     ]
    }
   ],
   "source": [
    "\n",
    "boo_remaining=(percent_of_neurons_cofiring>pthresh_lower)&(percent_of_neurons_cofiring<pthresh_upper)\n",
    "\n",
    "boo_remaining|=True\n",
    "\n",
    "boo_remaining[1:]&=np.array(angle_lst)<thresh_upper\n",
    "boo_changers=~boo_remaining\n",
    "\n",
    "print(sum(boo_changers))\n",
    "\n",
    "#classify spikes as angular changers or not\n",
    "target_names=['changers','remaining']\n",
    "target=boo_changers*1+boo_remaining*0"
   ]
  },
  {
   "cell_type": "markdown",
   "metadata": {},
   "source": [
    "# TODO: tensorflow the spike times of the given as a function of all other neuronal spike times"
   ]
  },
  {
   "cell_type": "markdown",
   "metadata": {},
   "source": [
    "# TODO: validate results by repeating notebook with different neurons, different trials, and different monkeys"
   ]
  },
  {
   "cell_type": "markdown",
   "metadata": {},
   "source": [
    "# TODO(then): label spike times by cluster index, where cluster index is defined by \"crawls\" between spike event patterns in steps of stepsize, $\\Delta Y>0$ in UMAP1,2 space (or UMAP1,2,3 space)\n",
    "- TODO: test for consistency of attention heads versus time between neurons for a given trial\n",
    "- TODO: compute mean feature vector projection for each attention head\n",
    "- if neuron index is consistent between trials\n",
    "    - TODO: compute angles between ^thesee projections between trials."
   ]
  },
  {
   "cell_type": "markdown",
   "metadata": {},
   "source": [
    "# TODO(first): test whether these jumps in attention are at saccade times"
   ]
  },
  {
   "cell_type": "code",
   "execution_count": null,
   "metadata": {},
   "outputs": [],
   "source": []
  }
 ],
 "metadata": {
  "kernelspec": {
   "display_name": "Python 3",
   "language": "python",
   "name": "python3"
  },
  "toc": {
   "base_numbering": 1,
   "nav_menu": {},
   "number_sections": true,
   "sideBar": true,
   "skip_h1_title": false,
   "title_cell": "Table of Contents",
   "title_sidebar": "Contents",
   "toc_cell": false,
   "toc_position": {},
   "toc_section_display": true,
   "toc_window_display": false
  },
  "varInspector": {
   "cols": {
    "lenName": 16,
    "lenType": 16,
    "lenVar": 40
   },
   "kernels_config": {
    "python": {
     "delete_cmd_postfix": "",
     "delete_cmd_prefix": "del ",
     "library": "var_list.py",
     "varRefreshCmd": "print(var_dic_list())"
    },
    "r": {
     "delete_cmd_postfix": ") ",
     "delete_cmd_prefix": "rm(",
     "library": "var_list.r",
     "varRefreshCmd": "cat(var_dic_list()) "
    }
   },
   "types_to_exclude": [
    "module",
    "function",
    "builtin_function_or_method",
    "instance",
    "_Feature"
   ],
   "window_display": false
  }
 },
 "nbformat": 4,
 "nbformat_minor": 4
}
