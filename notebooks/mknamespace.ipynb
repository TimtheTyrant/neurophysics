{
 "cells": [
  {
   "cell_type": "code",
   "execution_count": 18,
   "metadata": {
    "ExecuteTime": {
     "end_time": "2021-02-21T01:26:01.941071Z",
     "start_time": "2021-02-21T01:26:01.817962Z"
    }
   },
   "outputs": [
    {
     "name": "stdout",
     "output_type": "stream",
     "text": [
      "mkdir: Data: File exists\r\n",
      "mkdir: Figures: File exists\r\n"
     ]
    }
   ],
   "source": [
    "#make my namespace\n",
    "!mkdir lib Data Figures"
   ]
  },
  {
   "cell_type": "code",
   "execution_count": 19,
   "metadata": {
    "ExecuteTime": {
     "end_time": "2021-02-21T01:26:02.851107Z",
     "start_time": "2021-02-21T01:26:02.724734Z"
    }
   },
   "outputs": [],
   "source": [
    "mkdir lib/model lib/viewer lib/controller lib/utils lib/measures lib/routines"
   ]
  },
  {
   "cell_type": "code",
   "execution_count": 21,
   "metadata": {
    "ExecuteTime": {
     "end_time": "2021-02-21T01:26:16.036111Z",
     "start_time": "2021-02-21T01:26:15.909071Z"
    }
   },
   "outputs": [],
   "source": [
    "!touch lib/model/__init__.py lib/viewer/__init__.py lib/controller/__init__.py lib/utils/__init__.py lib/measures/__init__.py lib/routines/__init__.py\n"
   ]
  },
  {
   "cell_type": "code",
   "execution_count": 24,
   "metadata": {
    "ExecuteTime": {
     "end_time": "2021-02-21T01:26:30.141462Z",
     "start_time": "2021-02-21T01:26:30.020067Z"
    }
   },
   "outputs": [],
   "source": [
    "!touch lib/__init__.py"
   ]
  },
  {
   "cell_type": "code",
   "execution_count": 25,
   "metadata": {
    "ExecuteTime": {
     "end_time": "2021-02-21T01:26:34.570496Z",
     "start_time": "2021-02-21T01:26:34.443524Z"
    }
   },
   "outputs": [
    {
     "name": "stdout",
     "output_type": "stream",
     "text": [
      "__init__.py \u001b[34mmeasures\u001b[m\u001b[m    \u001b[34mroutines\u001b[m\u001b[m    \u001b[34mviewer\u001b[m\u001b[m\r\n",
      "\u001b[34mcontroller\u001b[m\u001b[m  \u001b[34mmodel\u001b[m\u001b[m       \u001b[34mutils\u001b[m\u001b[m\r\n"
     ]
    }
   ],
   "source": [
    "!ls lib"
   ]
  },
  {
   "cell_type": "code",
   "execution_count": 26,
   "metadata": {
    "ExecuteTime": {
     "end_time": "2021-02-21T01:26:43.417834Z",
     "start_time": "2021-02-21T01:26:43.414424Z"
    }
   },
   "outputs": [],
   "source": [
    "from lib import *\n",
    "import numpy as np, pandas as pd, matplotlib.pyplot as plt, scipy.io as sio\n"
   ]
  },
  {
   "cell_type": "code",
   "execution_count": null,
   "metadata": {},
   "outputs": [],
   "source": [
    "#automate the boring stuff\n",
    "\n"
   ]
  },
  {
   "cell_type": "code",
   "execution_count": null,
   "metadata": {},
   "outputs": [],
   "source": [
    "#TODO: search_for_filename\n",
    "\n",
    "\n",
    "#TODO: import mike's .mat file\n",
    "\n",
    "\n",
    "#TODO: represent spiketime trial as an l x m x n numpy array\n",
    "\n"
   ]
  },
  {
   "cell_type": "code",
   "execution_count": 27,
   "metadata": {
    "ExecuteTime": {
     "end_time": "2021-02-21T01:46:39.218681Z",
     "start_time": "2021-02-21T01:46:39.214324Z"
    }
   },
   "outputs": [],
   "source": [
    "#TODO: naïve eigenvalue decomposition of ^that\n",
    "\n"
   ]
  },
  {
   "cell_type": "code",
   "execution_count": 28,
   "metadata": {
    "ExecuteTime": {
     "end_time": "2021-02-21T01:48:50.829716Z",
     "start_time": "2021-02-21T01:48:50.827815Z"
    }
   },
   "outputs": [],
   "source": [
    "#TODO: animate a umap with the number of neighbors \\propto time\n",
    "\n"
   ]
  },
  {
   "cell_type": "code",
   "execution_count": null,
   "metadata": {},
   "outputs": [],
   "source": []
  }
 ],
 "metadata": {
  "kernelspec": {
   "display_name": "Python 3",
   "language": "python",
   "name": "python3"
  },
  "language_info": {
   "codemirror_mode": {
    "name": "ipython",
    "version": 3
   },
   "file_extension": ".py",
   "mimetype": "text/x-python",
   "name": "python",
   "nbconvert_exporter": "python",
   "pygments_lexer": "ipython3",
   "version": "3.8.7"
  },
  "varInspector": {
   "cols": {
    "lenName": 16,
    "lenType": 16,
    "lenVar": 40
   },
   "kernels_config": {
    "python": {
     "delete_cmd_postfix": "",
     "delete_cmd_prefix": "del ",
     "library": "var_list.py",
     "varRefreshCmd": "print(var_dic_list())"
    },
    "r": {
     "delete_cmd_postfix": ") ",
     "delete_cmd_prefix": "rm(",
     "library": "var_list.r",
     "varRefreshCmd": "cat(var_dic_list()) "
    }
   },
   "types_to_exclude": [
    "module",
    "function",
    "builtin_function_or_method",
    "instance",
    "_Feature"
   ],
   "window_display": false
  }
 },
 "nbformat": 4,
 "nbformat_minor": 4
}
