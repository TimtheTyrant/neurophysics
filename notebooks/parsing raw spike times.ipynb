{
 "cells": [
  {
   "cell_type": "markdown",
   "metadata": {},
   "source": [
    "# parsing raw spike times"
   ]
  },
  {
   "cell_type": "code",
   "execution_count": 1,
   "metadata": {
    "ExecuteTime": {
     "end_time": "2021-03-03T19:17:35.833144Z",
     "start_time": "2021-03-03T19:17:23.740354Z"
    }
   },
   "outputs": [],
   "source": [
    "#automate the boring stuff\n",
    "from lib.getterdone import *\n",
    "%load_ext autoreload\n",
    "%autoreload 2"
   ]
  },
  {
   "cell_type": "code",
   "execution_count": 2,
   "metadata": {
    "ExecuteTime": {
     "end_time": "2021-03-03T19:17:44.907038Z",
     "start_time": "2021-03-03T19:17:44.737833Z"
    }
   },
   "outputs": [],
   "source": [
    "import h5py\n",
    "import json,os"
   ]
  },
  {
   "cell_type": "code",
   "execution_count": 5,
   "metadata": {
    "ExecuteTime": {
     "end_time": "2021-03-11T20:50:42.178985Z",
     "start_time": "2021-03-11T20:50:20.387074Z"
    }
   },
   "outputs": [],
   "source": [
    "#search_for_filename\n",
    "input_file_name=search_for_file()\n",
    "#manual data has an ugly dtype\n",
    "# input_file_name='/Users/timothytyree/Documents/GitHub/neurophysics/notebooks/Data/SRT_CollabData/SortedData_Manual/catTempPopStorage_full.mat'\n",
    "#early autogen data\n",
    "#Archie\n",
    "# input_file_name='/Users/timothytyree/Documents/GitHub/neurophysics/notebooks/Data/SRT_CollabData/SortedData_AutoGen/Archie_SRT_Set226_subset1_201020_142509_UnitStorage.mat'\n",
    "#"
   ]
  },
  {
   "cell_type": "code",
   "execution_count": 4,
   "metadata": {
    "ExecuteTime": {
     "end_time": "2021-03-11T08:21:46.569478Z",
     "start_time": "2021-03-03T19:17:47.852498Z"
    }
   },
   "outputs": [
    {
     "name": "stdout",
     "output_type": "stream",
     "text": [
      "/Users/timothytyree/Documents/GitHub/neurophysics/notebooks/Data/Archie/spike_times_trial_451.json\n"
     ]
    }
   ],
   "source": [
    "#extract all spike times for all trials in .mat\n",
    "# field_lst=['chanNum', 'featSpace', 'spikeInds', 'spikeTimes', 'trialFR', 'trialPSTH', 'trialSpks', 'wvfrms']\n",
    "with h5py.File(input_file_name, 'r') as f:\n",
    "    obj=f['SRTunitStorage']['trialSpks']\n",
    "    num_neurons=obj.shape[0]\n",
    "    neuron_id_lst=sorted(range(num_neurons))\n",
    "    for trial_id in sorted(range(53,452)):\n",
    "        spikes_lst=[]\n",
    "        for nid in neuron_id_lst:\n",
    "            ref=obj[(nid)][0]\n",
    "            name = h5py.h5r.get_name(ref, f.id)\n",
    "            trials = np.array(f[(name)]).flatten();#print(name) #not sure if trials covers trials or neurons... its length is ~450.\n",
    "            ref=trials[trial_id]\n",
    "            name = h5py.h5r.get_name(ref, f.id)\n",
    "            spikes=np.array(f[(name)]);#print(f\"{nid}:{name},\")\n",
    "            spikes_lst.append(spikes)\n",
    "\n",
    "        dict_spike_times={}\n",
    "        for nid,spikes in zip(neuron_id_lst,spikes_lst):\n",
    "            dict_spike_times[nid]=list(spikes.flatten().astype(np.float64))\n",
    "\n",
    "        # the json file where the output must be stored \n",
    "#         os.chdir(f\"{nb_dir}/Data/Archie\")\n",
    "        os.chdir(f\"{nb_dir}/Data/Archie\")\n",
    "        out_fn=f\"spike_times_trial_{trial_id}.json\"\n",
    "        out_file = open(out_fn, \"w\") \n",
    "        json.dump(dict_spike_times, out_file, indent = 6) \n",
    "        out_file.close() \n",
    "\n",
    "print(os.path.abspath(out_fn))"
   ]
  },
  {
   "cell_type": "markdown",
   "metadata": {},
   "source": [
    "- % SRTunitStorage – 1 x n Neurons struct\n",
    "- %     % chanNum – channel ID number Neuron was located on\n",
    "- %     % spikeInds – Index of Spikes from that neuron (in 30kHz recording time)\n",
    "- %     % spikeTimes – Index of Spikes converted to Time (sec), relative to recording start\n",
    "- %     % trialSpks – SpikeTimes for each individual Trial, Time relative to Stimlus onset (sec)\n",
    "- %     % trialFR – 1 x nTrials cell array \n",
    "- %     % \t Cell is 49 bins, ea the instantaneuous firing rate (Hz) relative to stimulus onset\n",
    "- %     % \tI believe they are 100msec bins, -2sec to +3 sec\n",
    "- %     % trialPSTH – Histogram of firing relative to Stimulus onset per Trial\n",
    "- %     % \t100ms bins, raw n spikes (not converted to Hz) "
   ]
  },
  {
   "cell_type": "code",
   "execution_count": null,
   "metadata": {},
   "outputs": [],
   "source": []
  },
  {
   "cell_type": "code",
   "execution_count": null,
   "metadata": {},
   "outputs": [],
   "source": []
  },
  {
   "cell_type": "code",
   "execution_count": null,
   "metadata": {},
   "outputs": [],
   "source": [
    "#TODO: import mike's .mat file\n",
    "#Extract the fields for one trial\n",
    "import h5py\n",
    "trial_id=-1\n",
    "field_lst=['chanNum', 'featSpace', 'spikeInds', 'spikeTimes', 'trialFR', 'trialPSTH', 'trialSpks', 'wvfrms']\n",
    "with h5py.File(input_file_name, 'r') as f:\n",
    "#     print(f.keys())\n",
    "#     print(mat:=f['SRTunitStorage'].keys())#.fletcher32)#.items())#__dir__())\n",
    "#     print(obj:=f['SRTunitStorage']['spikeTimes'])\n",
    "\n",
    "    trial=f['SRTunitStorage']['spikeTimes'][(trial_id)][0]\n",
    "    name = h5py.h5r.get_name(trial, f.id)\n",
    "    data = np.array(f[(name)])\n",
    "    ref=f['SRTunitStorage']['chanNum'][(trial_id)][0]\n",
    "    name = h5py.h5r.get_name(ref, f.id)\n",
    "    chnlno = int(np.array(f[(name)]))\n",
    "    \n",
    "    obj=f['SRTunitStorage']['featSpace'][(trial_id)]\n",
    "    print(obj.shape)\n",
    "    ref=obj[0]\n",
    "    name = h5py.h5r.get_name(ref, f.id)\n",
    "    featSpace = np.array(f[(name)])\n",
    "    \n",
    "    obj=f['SRTunitStorage']['spikeInds'][(trial_id)]\n",
    "    print(obj.shape)\n",
    "    ref=obj[0]\n",
    "    name = h5py.h5r.get_name(ref, f.id)\n",
    "    spikeInds = np.array(f[(name)])\n",
    "    \n",
    "    obj=f['SRTunitStorage']['trialSpks'][(trial_id)]\n",
    "    print(obj.shape)\n",
    "    ref=obj[0]\n",
    "    name = h5py.h5r.get_name(ref, f.id)\n",
    "    trialSpks = np.array(f[(name)])\n",
    "    \n",
    "#     chnlno_lst=[]\n",
    "#     for trial_id in range(195):\n",
    "#         ref=f['SRTunitStorage']['chanNum'][(trial_id)][0]\n",
    "#         name = h5py.h5r.get_name(ref, f.id)\n",
    "#         chnlno = int(np.array(f[(name)]))\n",
    "#         chnlno_lst.append(chnlno)"
   ]
  },
  {
   "cell_type": "code",
   "execution_count": null,
   "metadata": {},
   "outputs": [],
   "source": []
  }
 ],
 "metadata": {
  "kernelspec": {
   "display_name": "Python 3",
   "language": "python",
   "name": "python3"
  },
  "language_info": {
   "codemirror_mode": {
    "name": "ipython",
    "version": 3
   },
   "file_extension": ".py",
   "mimetype": "text/x-python",
   "name": "python",
   "nbconvert_exporter": "python",
   "pygments_lexer": "ipython3",
   "version": "3.8.7"
  },
  "varInspector": {
   "cols": {
    "lenName": 16,
    "lenType": 16,
    "lenVar": 40
   },
   "kernels_config": {
    "python": {
     "delete_cmd_postfix": "",
     "delete_cmd_prefix": "del ",
     "library": "var_list.py",
     "varRefreshCmd": "print(var_dic_list())"
    },
    "r": {
     "delete_cmd_postfix": ") ",
     "delete_cmd_prefix": "rm(",
     "library": "var_list.r",
     "varRefreshCmd": "cat(var_dic_list()) "
    }
   },
   "types_to_exclude": [
    "module",
    "function",
    "builtin_function_or_method",
    "instance",
    "_Feature"
   ],
   "window_display": false
  }
 },
 "nbformat": 4,
 "nbformat_minor": 4
}
