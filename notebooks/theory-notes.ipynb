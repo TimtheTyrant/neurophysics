{
 "cells": [
  {
   "cell_type": "code",
   "execution_count": null,
   "metadata": {},
   "outputs": [],
   "source": []
  },
  {
   "cell_type": "code",
   "execution_count": null,
   "metadata": {},
   "outputs": [],
   "source": []
  },
  {
   "cell_type": "markdown",
   "metadata": {},
   "source": [
    "# Cross-entropy"
   ]
  },
  {
   "cell_type": "markdown",
   "metadata": {},
   "source": [
    "Cross-entropy over samples, $X\\in\\Omega$ is\n",
    "$H(p,q)=-\\sum_X p_X \\log_2 (q_X)$\n",
    "\n",
    "for sample space, $\\Omega$.  Cross-entropy induces a natural cost function that is proportional to the log-loss."
   ]
  },
  {
   "cell_type": "markdown",
   "metadata": {},
   "source": [
    "The KL Divergence is\n",
    "$D_{KL}(p||q)=H(p,q)-H(p)$\n",
    "for shannon's entropy, $H(p)$."
   ]
  },
  {
   "cell_type": "markdown",
   "metadata": {},
   "source": [
    "# TODO: generalized modeling of directed graphs"
   ]
  },
  {
   "cell_type": "markdown",
   "metadata": {},
   "source": [
    "TODO: Reading list for iPad:\n",
    "- cliff2018.pdf\n",
    "- information_flow_operators.pdf\n",
    "\n",
    "TODO: Analytically cast spike time/rate channels into a reductionist model for social recognition.<br>\n",
    "Hint: use the embedding theorems for diffeomorphisms/endomorphisms (see appendix A in cliff2018.pdf).\n",
    "- use the LEGI spike rate model of our phys 278 final\n",
    "- on what time scale, $\\tau_\\max>0$ would make the monkeys forget their stimulus for a given magnitude of inhibition, $w_0>0$?"
   ]
  },
  {
   "cell_type": "markdown",
   "metadata": {},
   "source": [
    "# TODO: visualize significant network connections and/or whole trials using umaps "
   ]
  },
  {
   "cell_type": "markdown",
   "metadata": {},
   "source": [
    "- TODO(option A): use umap according to https://www.r-bloggers.com/2020/11/umap-clustering-in-python/\n",
    "    - !pip install umap-learn and !pip install datatable\n",
    "- TODO(option B): use TSNE using sklearn.manifold.tsne\n",
    "    - https://scikit-learn.org/stable/modules/generated/sklearn.manifold.TSNE.html\n",
    "    - disadvantage: \"Global structure is not explicitly preserved. This problem is mitigated by initializing points with PCA (using `init='pca'`).\"\n",
    "- TODO(option C): play with sklearn.manifold in general https://scikit-learn.org/stable/modules/manifold.html#manifold\n",
    "- TODO(option D): play with `pip install keras-self-attention`\n"
   ]
  },
  {
   "cell_type": "code",
   "execution_count": null,
   "metadata": {},
   "outputs": [],
   "source": []
  }
 ],
 "metadata": {
  "kernelspec": {
   "display_name": "Python 3",
   "language": "python",
   "name": "python3"
  },
  "language_info": {
   "codemirror_mode": {
    "name": "ipython",
    "version": 3
   },
   "file_extension": ".py",
   "mimetype": "text/x-python",
   "name": "python",
   "nbconvert_exporter": "python",
   "pygments_lexer": "ipython3",
   "version": "3.8.7"
  },
  "varInspector": {
   "cols": {
    "lenName": 16,
    "lenType": 16,
    "lenVar": 40
   },
   "kernels_config": {
    "python": {
     "delete_cmd_postfix": "",
     "delete_cmd_prefix": "del ",
     "library": "var_list.py",
     "varRefreshCmd": "print(var_dic_list())"
    },
    "r": {
     "delete_cmd_postfix": ") ",
     "delete_cmd_prefix": "rm(",
     "library": "var_list.r",
     "varRefreshCmd": "cat(var_dic_list()) "
    }
   },
   "types_to_exclude": [
    "module",
    "function",
    "builtin_function_or_method",
    "instance",
    "_Feature"
   ],
   "window_display": false
  }
 },
 "nbformat": 4,
 "nbformat_minor": 4
}
